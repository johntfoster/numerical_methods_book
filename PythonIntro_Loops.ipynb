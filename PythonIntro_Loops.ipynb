{
 "cells": [
  {
   "cell_type": "markdown",
   "metadata": {},
   "source": [
    "Looping structures, i.e. `for` and `while` loops, are another method of flow control in Python programming.  They can be used to perform structured and/or repeated tasks that occur numerous times in a compact way.\n",
    "\n",
    "## For loops\n",
    "\n",
    "For loops are a looping structure that allows for iteration over a fixed number of items.  The items can simply be monotonically increasing integers, in which case the loop simply cycles a fixed number of times.  Additionally, the items can by items from a Python `list`, `tuple`, or `dict`.\n",
    "\n",
    "For demonstration purposes, let's start with a Python list with mixed data types."
   ]
  },
  {
   "cell_type": "code",
   "execution_count": 22,
   "metadata": {},
   "outputs": [],
   "source": [
    "alist = [1, 2.0, 'hello']"
   ]
  },
  {
   "cell_type": "markdown",
   "metadata": {},
   "source": [
    "Now we can write a `for` loop that iterates over each item in the list one at a time and prints the item to the screen."
   ]
  },
  {
   "cell_type": "markdown",
   "metadata": {
    "tags": [
     "popout"
    ]
   },
   "source": [
    "In this loop `item` becomes a *variable* internal to the loop that each entry in `alist` gets assigned to one-by-one as the program cycles through the body of the loop until the end of `alist` has been reached."
   ]
  },
  {
   "cell_type": "code",
   "execution_count": 23,
   "metadata": {},
   "outputs": [
    {
     "name": "stdout",
     "output_type": "stream",
     "text": [
      "1\n",
      "2.0\n",
      "hello\n"
     ]
    }
   ],
   "source": [
    "for item in alist:\n",
    "    print(item)"
   ]
  },
  {
   "cell_type": "markdown",
   "metadata": {},
   "source": [
    "The loop above is exactly equivalent to this code"
   ]
  },
  {
   "cell_type": "code",
   "execution_count": 25,
   "metadata": {},
   "outputs": [
    {
     "name": "stdout",
     "output_type": "stream",
     "text": [
      "1\n",
      "2.0\n",
      "hello\n"
     ]
    }
   ],
   "source": [
    "item = alist[0]\n",
    "print(item)\n",
    "item = alist[1]\n",
    "print(item)\n",
    "item = alist[2]\n",
    "print(item)"
   ]
  },
  {
   "cell_type": "markdown",
   "metadata": {},
   "source": [
    "The code above is said to be the *unrolling* of the loop.  Of course, if `alist` had many items in it, we would not want to type all the lines of code required to perform the operation without the loop."
   ]
  },
  {
   "cell_type": "markdown",
   "metadata": {},
   "source": [
    "Just like Python functions and if statements, loops use whitespace indentation to indicate the *body* of the loop.  What is in the body gets executed every cycle through the loop, any valid Python code can be placed in the body.  For example, a simple computation"
   ]
  },
  {
   "cell_type": "markdown",
   "metadata": {
    "tags": [
     "popout"
    ]
   },
   "source": [
    "The `range()` function provides a quick way to generate a monotonically increasing set of integers for iteration.  If only one argument is given, i.e. `range(5)`, then the resulting integers start at 0 and increment by 1 up to, but not including, the number given as the argument.  Additional reading on the `range()` function can be found [here](https://docs.python.org/3/library/stdtypes.html#typesseq-range)."
   ]
  },
  {
   "cell_type": "code",
   "execution_count": 4,
   "metadata": {},
   "outputs": [
    {
     "name": "stdout",
     "output_type": "stream",
     "text": [
      "0\n",
      "1\n",
      "4\n",
      "9\n",
      "16\n"
     ]
    }
   ],
   "source": [
    "for i in range(5):\n",
    "    print(i ** 2)"
   ]
  },
  {
   "cell_type": "markdown",
   "metadata": {},
   "source": [
    "Tuples can be iterated over in a for loop just like lists."
   ]
  },
  {
   "cell_type": "code",
   "execution_count": 15,
   "metadata": {},
   "outputs": [
    {
     "name": "stdout",
     "output_type": "stream",
     "text": [
      "1\n",
      "3\n",
      "5\n"
     ]
    }
   ],
   "source": [
    "atuple = (1, 3, 5)\n",
    "\n",
    "for item in atuple:\n",
    "    print(item)"
   ]
  },
  {
   "cell_type": "markdown",
   "metadata": {},
   "source": [
    "Dictionaries can also be iterated over, in this case, the use of the `items()` function allows for both the keywords and the values to be unpacked and assigned each to variables local to the loop.  "
   ]
  },
  {
   "cell_type": "markdown",
   "metadata": {
    "tags": [
     "popout"
    ]
   },
   "source": [
    "If only dictionary keywords where desired for iteration in the loop, the `keys()` function could be used in place of `items()`.  Likewise `values()` can be used if only the values are desired."
   ]
  },
  {
   "cell_type": "code",
   "execution_count": 18,
   "metadata": {},
   "outputs": [
    {
     "name": "stdout",
     "output_type": "stream",
     "text": [
      "\"name1\" is Romeo\n",
      "\"name2\" is Juliet\n"
     ]
    }
   ],
   "source": [
    "adict = {\"name1\": \"Romeo\", \"name2\": \"Juliet\"}\n",
    "\n",
    "for keyword, value in adict.items():\n",
    "    print('\"{}\" is {}'.format(keyword, value))"
   ]
  },
  {
   "cell_type": "markdown",
   "metadata": {},
   "source": [
    "Often times we would like to store the results of computations in a list at the loop executes.  One way to do this is using the `append()` function defined for Python lists.  Here we start with an empty list and append the square of the integer range of numbers from 0 to 9 each cycle through the loop."
   ]
  },
  {
   "cell_type": "code",
   "execution_count": 8,
   "metadata": {},
   "outputs": [
    {
     "name": "stdout",
     "output_type": "stream",
     "text": [
      "[0, 1, 4, 9, 16, 25, 36, 49, 64, 81]\n"
     ]
    }
   ],
   "source": [
    "alist = []\n",
    "\n",
    "for item in range(10):\n",
    "    alist.append(item ** 2)\n",
    "    \n",
    "print(alist)"
   ]
  },
  {
   "cell_type": "markdown",
   "metadata": {},
   "source": [
    "### List comprehensions\n",
    "\n",
    "There is another type of for loop structure that can be used in Python when it is desired to store the output of computations from a loop in a list.  These are called *list comprehensions*.  The syntax is a little strange, but they are *much faster* at producing lists as an output of the loop.  An example of a list comprehension that produces the same result as the for loop above is"
   ]
  },
  {
   "cell_type": "markdown",
   "metadata": {
    "tags": [
     "popout"
    ]
   },
   "source": [
    "In a list comprehension, the body of the loop goes before the `for` keyword.  More on list comprehensions can be found [here](https://docs.python.org/3/tutorial/datastructures.html?highlight=list%20comprehensions#list-comprehensions)."
   ]
  },
  {
   "cell_type": "code",
   "execution_count": 10,
   "metadata": {},
   "outputs": [
    {
     "name": "stdout",
     "output_type": "stream",
     "text": [
      "[0, 1, 4, 9, 16, 25, 36, 49, 64, 81]\n"
     ]
    }
   ],
   "source": [
    "alist = [item ** 2 for item in range(10)]\n",
    "print(alist)"
   ]
  },
  {
   "cell_type": "markdown",
   "metadata": {},
   "source": [
    "### Enumerate\n",
    "\n",
    "Occasionally, in addition to iterating over the actual items in a list/tuple, the integer index corresponding to the location in the data structure is also desired.  This can be returned with the `enumerate()` function.  For example,"
   ]
  },
  {
   "cell_type": "code",
   "execution_count": 20,
   "metadata": {},
   "outputs": [
    {
     "name": "stdout",
     "output_type": "stream",
     "text": [
      "\"a\" -- has the index 0\n",
      "\"tuple\" -- has the index 1\n",
      "\"of\" -- has the index 2\n",
      "\"strings\" -- has the index 3\n"
     ]
    }
   ],
   "source": [
    "atuple = (\"a\", \"tuple\", \"of\", \"strings\")\n",
    "\n",
    "for count, item in enumerate(atuple):\n",
    "    print('\"{}\" -- has the index {}'.format(item, count))"
   ]
  },
  {
   "cell_type": "markdown",
   "metadata": {},
   "source": [
    "## While loops\n",
    "\n",
    "While loops continuously execute the body of the loop so long as some conditional statement is evaluating to `True`.  The conditional statement appears to the right of the `while` keyword.  In the example below, we use a very simple conditional statement, but any valid conditional expression in Python, including `and` and `or` clauses can be used."
   ]
  },
  {
   "cell_type": "markdown",
   "metadata": {
    "tags": [
     "popout"
    ]
   },
   "source": [
    "Here the conditional statement is `i < 5` which of course is `True` with the given initial value of `i=0`.  So the body of the loop executes, each time incrementing `i` by 1, until `i = 5` which causes the conditional statement to evaluate to `False` and the loop exits."
   ]
  },
  {
   "cell_type": "code",
   "execution_count": 12,
   "metadata": {},
   "outputs": [
    {
     "name": "stdout",
     "output_type": "stream",
     "text": [
      "0\n",
      "1\n",
      "2\n",
      "3\n",
      "4\n"
     ]
    }
   ],
   "source": [
    "i = 0\n",
    "\n",
    "while i < 5:\n",
    "    \n",
    "    print(i)\n",
    "    \n",
    "    i += 1"
   ]
  },
  {
   "cell_type": "markdown",
   "metadata": {},
   "source": [
    "If the conditional statement in a while loop never evaluates to `False`, the loop will execute ad infinitum.  If new variables are being assigned in the body of the loop or the results of computations are stored, the infinite cycling can cause the computer's memory to fill and possibly lead to a crash of the program and/or computer.  It's often desirable to have a set number of maximum iterations that if reached will guarantee the loop will exit.  In this case, the functionality of a while loop can be replicated with the combination of a for loop and an if statement with a `break` keyword.  For example, the while loop structure above is replicated in the following code, but with the guard that the maximum number of iterations cannot exceed 10."
   ]
  },
  {
   "cell_type": "code",
   "execution_count": 19,
   "metadata": {},
   "outputs": [
    {
     "name": "stdout",
     "output_type": "stream",
     "text": [
      "0\n",
      "1\n",
      "2\n",
      "3\n",
      "4\n"
     ]
    }
   ],
   "source": [
    "for i in range(10):\n",
    "    \n",
    "    if i > 4:\n",
    "        break\n",
    "    \n",
    "    print(i)"
   ]
  },
  {
   "cell_type": "markdown",
   "metadata": {},
   "source": [
    "## Further reading\n",
    "\n",
    "Further reading on Python flow control with loops can be found in the [Python documentation](https://docs.python.org/3/tutorial/controlflow.html)."
   ]
  }
 ],
 "metadata": {
  "celltoolbar": "Edit Metadata",
  "kernelspec": {
   "display_name": "Python 3",
   "language": "python",
   "name": "python3"
  },
  "language_info": {
   "codemirror_mode": {
    "name": "ipython",
    "version": 3
   },
   "file_extension": ".py",
   "mimetype": "text/x-python",
   "name": "python",
   "nbconvert_exporter": "python",
   "pygments_lexer": "ipython3",
   "version": "3.8.1"
  }
 },
 "nbformat": 4,
 "nbformat_minor": 4
}

{
 "cells": [
  {
   "cell_type": "markdown",
   "metadata": {},
   "source": [
    "In this chapter we will provide a succinct introduction to Python for the uninitiated.  We will not cover anything close to the entire capabilities of the programming language, but rather, just the parts that are relevant for use in solving problems within the context of scientific computing.  There are many, many books that cover learning Python in depth as well as several online courses such as those offered by [Codacademy](https://www.codecademy.com/catalog/language/python) or [Datacamp](https://www.datacamp.com/).  We will also assume familiarity with the venerable [Jupyter notebook](https://jupyter.org/), i.e. the difference between Markdown and code cells, how to execute cells (Shift-CR), etc. If you are already proficient at Python, it's recommended that you skip this chapter. \n",
    "\n",
    "## Hello, World! program\n",
    "\n",
    "The typical practice when learning a new programming language is to write what's called a \"Hello, World!\" program.  This program is simply one that will print the phrase \"Hello, World!\" to the screen.  In Python, this couldn't be easier.  Simply type"
   ]
  },
  {
   "cell_type": "code",
   "execution_count": 2,
   "metadata": {},
   "outputs": [
    {
     "name": "stdout",
     "output_type": "stream",
     "text": [
      "Hello, World!\n"
     ]
    }
   ],
   "source": [
    "print(\"Hello, World!\")"
   ]
  },
  {
   "cell_type": "markdown",
   "metadata": {},
   "source": [
    "into a Python interactive console or Jupyter notebook cell and execute."
   ]
  }
 ],
 "metadata": {
  "kernelspec": {
   "display_name": "Python 3",
   "language": "python",
   "name": "python3"
  },
  "language_info": {
   "codemirror_mode": {
    "name": "ipython",
    "version": 3
   },
   "file_extension": ".py",
   "mimetype": "text/x-python",
   "name": "python",
   "nbconvert_exporter": "python",
   "pygments_lexer": "ipython3",
   "version": "3.8.1"
  }
 },
 "nbformat": 4,
 "nbformat_minor": 4
}

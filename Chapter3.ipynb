{
 "cells": [
  {
   "cell_type": "markdown",
   "metadata": {},
   "source": [
    "## LU Factorization (LU Decomposition)\n",
    "\n",
    "Any non-singular matrix $A$ can be factored into a lower triangular matrix $L$, and uppoer triangular matrix $U$ using procedures we have already established with Gaussian elimination. This proves very useful for numerical computation and is, in fact, one of the most common ways most packaged linear algebra solvers solve non-sparse linear systems.\n",
    "\n",
    "Previously we learned that by using Gaussian elimination we can solve the linear system $A\\bar{x} = \\bar{b}$ in $O(\\frac{1}{3}n^3)$ arithmetic operations to determine $\\bar{x}$. It turns out if $A$ has the form $A=LU$ we can solve for $\\bar{x}$ using a two step process. First we let $\\bar{y}=U\\bar{x}$ and solve the system for $L\\bar{y}=\\bar{b}$ for $\\bar{y}$. Since $L$ is lower triangular we use a forward substitiution process that only takes $O(n^2)$ operations. Once $\\bar{y}$ is known, the upper triangular system $U\\bar{x}=\\bar{y}$ can be solved with back-substitution $O(n^2)$ operations. Therefore using this procedure we can reduce the solution of $A\\bar{x} = \\bar{b}$ from $O(\\frac{1}{3}n^3)$ to $O(2n^2)$ operations. For large systems this can reduce the calculation time by more than 95%. Determining the $L$ and $U$ matrices still takes $O(\\frac{1}{3}n^3)$, but it only has to be done for a single $A$ matrix and can be used efficiently to solve for $\\bar{x}$ with many right-hand side vectors, $\\bar{b}$.\n",
    "\n",
    "We already know one way to transform $A$ into $U$ by using Gaussian elimination. We will leave the proof for linear algebra class, but we find L by performing negations of the same operations on the identity matrix in reverse order. For example when going $A\\rightarrow U$ if we perform the row operation\n",
    "\n",
    "$$\n",
    "E_i - m_{ji}E_j\\rightarrow E_i\n",
    "$$\n",
    "\n",
    "to undo this and return to $A$ we would perform\n",
    "\n",
    "$$\n",
    "E_i+m_{ji}E_j\\rightarrow E_i\n",
    "$$\n",
    "\n",
    "by performing the second operation on the identity matrix with the same dimensions as $A$ we will end up with an $L$. I emphasize *an* here because this is only one way to decompose $A$ into $L$ and $U$, there are other methods and an infinite number of $L$ and $U$ matrices, (i.e. they are not unique).\n",
    "\n",
    "#### LU Example\n",
    "\n",
    "We will look at a simple example and write out the row operations.\n",
    "\n",
    "$$\n",
    "A = \\begin{pmatrix}1&1&0\\\\2&1&-1\\\\3&-1&-1\\end{pmatrix}\n",
    "\\begin{matrix}E_2-2E_1\\\\\\rightarrow\\end{matrix}\n",
    "\\begin{pmatrix}1&1&0\\\\0&-1&-1\\\\3&-1&-1\\end{pmatrix}\n",
    "\\begin{matrix}E_3-3E_1\\\\\\rightarrow\\end{matrix}\n",
    "\\begin{pmatrix}1&1&0\\\\0&-1&-1\\\\0&-4&-1\\end{pmatrix}\n",
    "\\begin{matrix}E_3-4E_2\\\\\\rightarrow\\end{matrix}\n",
    "\\begin{pmatrix}1&1&0\\\\0&-1&-1\\\\0&0&3\\end{pmatrix} = U\n",
    "$$\n",
    "\n",
    "$$\n",
    "I = \\begin{pmatrix}1&0&0\\\\0&1&0\\\\0&0&1\\end{pmatrix}\n",
    "\\begin{matrix}E_3+4E_2\\\\\\rightarrow\\end{matrix}\n",
    "\\begin{pmatrix}1&0&0\\\\0&1&0\\\\0&4&1\\end{pmatrix}\n",
    "\\begin{matrix}E_3+3E_1\\\\\\rightarrow\\end{matrix}\n",
    "\\begin{pmatrix}1&0&0\\\\0&1&0\\\\3&4&1\\end{pmatrix}\n",
    "\\begin{matrix}E_2+2E_1\\\\\\rightarrow\\end{matrix}\n",
    "\\begin{pmatrix}1&0&0\\\\2&1&0\\\\3&4&1\\end{pmatrix} = L\n",
    "$$\n",
    "\n",
    "Let's check our results with *Python*."
   ]
  },
  {
   "cell_type": "code",
   "execution_count": 3,
   "metadata": {
    "collapsed": false,
    "jupyter": {
     "outputs_hidden": false
    }
   },
   "outputs": [
    {
     "ename": "TypeError",
     "evalue": "can't multiply sequence by non-int of type 'list'",
     "output_type": "error",
     "traceback": [
      "\u001b[0;31m---------------------------------------------------------------------------\u001b[0m\n\u001b[0;31mTypeError\u001b[0m                                 Traceback (most recent call last)",
      "\u001b[0;32m<ipython-input-3-055b86ce5cf0>\u001b[0m in \u001b[0;36m<module>\u001b[0;34m()\u001b[0m\n\u001b[1;32m      2\u001b[0m \u001b[0mU\u001b[0m \u001b[0;34m=\u001b[0m \u001b[0;34m[\u001b[0m\u001b[0;34m[\u001b[0m\u001b[0;36m1\u001b[0m\u001b[0;34m,\u001b[0m\u001b[0;36m1\u001b[0m\u001b[0;34m,\u001b[0m\u001b[0;36m0\u001b[0m\u001b[0;34m]\u001b[0m\u001b[0;34m,\u001b[0m\u001b[0;34m[\u001b[0m\u001b[0;36m0\u001b[0m\u001b[0;34m,\u001b[0m\u001b[0;34m-\u001b[0m\u001b[0;36m1\u001b[0m\u001b[0;34m,\u001b[0m\u001b[0;34m-\u001b[0m\u001b[0;36m1\u001b[0m\u001b[0;34m]\u001b[0m\u001b[0;34m,\u001b[0m\u001b[0;34m[\u001b[0m\u001b[0;36m0\u001b[0m\u001b[0;34m,\u001b[0m\u001b[0;36m0\u001b[0m\u001b[0;34m,\u001b[0m\u001b[0;36m3\u001b[0m\u001b[0;34m]\u001b[0m\u001b[0;34m]\u001b[0m\u001b[0;34m\u001b[0m\u001b[0m\n\u001b[1;32m      3\u001b[0m \u001b[0;34m\u001b[0m\u001b[0m\n\u001b[0;32m----> 4\u001b[0;31m \u001b[0ma\u001b[0m \u001b[0;34m=\u001b[0m \u001b[0;34m[\u001b[0m\u001b[0;34m[\u001b[0m\u001b[0mL\u001b[0m\u001b[0;34m]\u001b[0m\u001b[0;34m*\u001b[0m\u001b[0;34m[\u001b[0m\u001b[0mU\u001b[0m\u001b[0;34m]\u001b[0m\u001b[0;34m]\u001b[0m\u001b[0;34m\u001b[0m\u001b[0m\n\u001b[0m\u001b[1;32m      5\u001b[0m \u001b[0;32mprint\u001b[0m \u001b[0ma\u001b[0m\u001b[0;34m\u001b[0m\u001b[0m\n",
      "\u001b[0;31mTypeError\u001b[0m: can't multiply sequence by non-int of type 'list'"
     ]
    }
   ],
   "source": [
    "L = [[1,0,0],[2,1,0],[3,4,1]]\n",
    "U = [[1,1,0],[0,-1,-1],[0,0,3]]"
   ]
  },
  {
   "cell_type": "code",
   "execution_count": 10,
   "metadata": {
    "collapsed": false,
    "jupyter": {
     "outputs_hidden": false
    }
   },
   "outputs": [
    {
     "name": "stdout",
     "output_type": "stream",
     "text": [
      "[[ 1  1  0]\n",
      " [ 2  1 -1]\n",
      " [ 3 -1 -1]]\n"
     ]
    }
   ],
   "source": [
    "from numpy import matrix\n",
    "L = matrix([[1,0,0],[2,1,0],[3,4,1]])\n",
    "U = matrix([[1,1,0],[0,-1,-1],[0,0,3]])\n",
    "print L*U"
   ]
  },
  {
   "cell_type": "markdown",
   "metadata": {},
   "source": [
    "Notice that the entries in $L$ below the diagonal are simply the $m_{ij}$'s therefore we do not actually have to perform the row operations we can simply insert the $m_{ij}$ components into their proper place and move forward.\n",
    "\n",
    "## Psuedocode for a simple LU factorization\n",
    "\n",
    "Consider the matricies:\n",
    "\n",
    "$$\n",
    "A = \\begin{pmatrix}a_{11}&a_{12}&...&a_{1n}\\\\a_{21}&\\ddots& &a_{2n}\\\\\\vdots& &\\ddots& \\vdots\\\\a_{n1}&...&...&a_{nn}\\end{pmatrix},\n",
    "L = \\begin{pmatrix}l_{11}&l_{12}&...&l_{1n}\\\\l_{21}&\\ddots& &l_{2n}\\\\\\vdots& &\\ddots& \\vdots\\\\l_{n1}&...&...&l_{nn}\\end{pmatrix},\n",
    "U = \\begin{pmatrix}u_{11}&u_{12}&...&u_{1n}\\\\u_{21}&\\ddots& &u_{2n}\\\\\\vdots& &\\ddots& \\vdots\\\\u_{n1}&...&...&u_{nn}\\end{pmatrix}\n",
    "$$\n",
    "\n",
    "  1. Initialize $L$ to an identity matrix, $I$, of dimension $n$ by $n$ and $U = A$.\n",
    "  1. For $i = 1$, ..., $n$ do Step A.\n",
    "    1. For $j=i+1, ..., n$ do Steps a-b\n",
    "      1. Set $I_{ji}=u_{ji}/u_{ii}$\n",
    "      1. Perform $U_j = (U_j-I_{ji}U_i)$ (where $U_i, U_j$ represent the $i$ and $j$ rows of the matrix $U$, respectively)"
   ]
  },
  {
   "cell_type": "code",
   "execution_count": 25,
   "metadata": {
    "collapsed": false,
    "jupyter": {
     "outputs_hidden": false
    }
   },
   "outputs": [
    {
     "name": "stdout",
     "output_type": "stream",
     "text": [
      "A:\n",
      "[[1, 1, 0], [2, 1, -1], [3, -1, -1]]\n",
      "P:\n",
      "[[0.0, 0.0, 1.0], [0.0, 1.0, 0.0], [1.0, 0.0, 0.0]]\n",
      "L:\n",
      "[[1.0, 0.0, 0.0],\n",
      " [0.6666666666666666, 1.0, 0.0],\n",
      " [0.3333333333333333, 0.8, 1.0]]\n",
      "U:\n",
      "[[3.0, -1.0, -1.0],\n",
      " [0.0, 1.6666666666666665, -0.33333333333333337],\n",
      " [0.0, 0.0, 0.6000000000000001]]\n"
     ]
    }
   ],
   "source": [
    "import pprint\n",
    "def mult_matrix(M,N):\n",
    "    tuple_N = zip(*N) #Converts N into a list of tuples (ordered list of elements) of columns\n",
    "    return [[sum(el_m*el_n for el_m, el_n in zip(row_m, col_n)) for col_n in tuple_N] for row_m in M]\n",
    "\n",
    "def pivot_matrix(M):\n",
    "    m = len(M)\n",
    "    id_mat = [[float(i ==j) for i in xrange(m)] for j in xrange(m)] #Creates identity matrix for M\n",
    "    for j in xrange(m):\n",
    "        row = max(xrange(j,m), key=lambda i: abs(M[i][j])) #rearranges matrix so the largest elements of M are along the diagonal\n",
    "        if j != row:\n",
    "            id_mat[j], id_mat[row] = id_mat[row], id_mat[j] #swaps the rows\n",
    "    return id_mat\n",
    "def lu_decomposition(A):\n",
    "    n = len(A)\n",
    "    L = [[0.0]*n for i in xrange(n)] # create zero matrices for L \n",
    "    U = [[0.0]*n for i in xrange(n)] #and U\n",
    "    \n",
    "    P = pivot_matrix(A)   #Creates the pivot matrix P\n",
    "    PA = mult_matrix(P,A) #and the multipled matrix PA\n",
    "    \n",
    "    for j in xrange(n): #Performs the LU Decomposition\n",
    "        L[j][j] = 1.0 #all diagonal entries of L are set to unity\n",
    "        for i in xrange(j+1):\n",
    "            s1 = sum(U[k][j]*L[i][k] for k in xrange(i))\n",
    "            U[i][j] = PA[i][j] - s1\n",
    "        for i in xrange(j,n):\n",
    "            s2 = sum(U[k][j]*L[i][k] for k in xrange(j))\n",
    "            L[i][j] = (PA[i][j] - s2) / U[j][j]\n",
    "    return (P, L, U)\n",
    "A = [[1,1,0],[2,1,-1],[3,-1,-1]]\n",
    "P, L, U = lu_decomposition(A)\n",
    "\n",
    "print \"A:\"\n",
    "pprint.pprint(A)\n",
    "print \"P:\"\n",
    "pprint.pprint(P)\n",
    "print \"L:\"\n",
    "pprint.pprint(L)\n",
    "print \"U:\"\n",
    "pprint.pprint(U)"
   ]
  },
  {
   "cell_type": "code",
   "execution_count": 1,
   "metadata": {
    "collapsed": false,
    "jupyter": {
     "outputs_hidden": false
    }
   },
   "outputs": [
    {
     "ename": "ImportError",
     "evalue": "No module named scipy.linalg",
     "output_type": "error",
     "traceback": [
      "\u001b[0;31m---------------------------------------------------------------------------\u001b[0m\n\u001b[0;31mImportError\u001b[0m                               Traceback (most recent call last)",
      "\u001b[0;32m<ipython-input-1-18686096e60a>\u001b[0m in \u001b[0;36m<module>\u001b[0;34m()\u001b[0m\n\u001b[1;32m      1\u001b[0m \u001b[0;32mimport\u001b[0m \u001b[0mpprint\u001b[0m\u001b[0;34m\u001b[0m\u001b[0m\n\u001b[1;32m      2\u001b[0m \u001b[0;32mimport\u001b[0m \u001b[0mnumpy\u001b[0m \u001b[0;32mas\u001b[0m \u001b[0mnp\u001b[0m\u001b[0;34m\u001b[0m\u001b[0m\n\u001b[0;32m----> 3\u001b[0;31m \u001b[0;32mimport\u001b[0m \u001b[0mscipy\u001b[0m\u001b[0;34m.\u001b[0m\u001b[0mlinalg\u001b[0m \u001b[0;32mas\u001b[0m \u001b[0mla\u001b[0m \u001b[0;31m#SciPy Linear Algebra Library with la as a shortcut\u001b[0m\u001b[0;34m\u001b[0m\u001b[0m\n\u001b[0m\u001b[1;32m      4\u001b[0m \u001b[0;34m\u001b[0m\u001b[0m\n\u001b[1;32m      5\u001b[0m \u001b[0mA\u001b[0m \u001b[0;34m=\u001b[0m \u001b[0mnp\u001b[0m\u001b[0;34m.\u001b[0m\u001b[0marray\u001b[0m\u001b[0;34m(\u001b[0m\u001b[0;34m[\u001b[0m \u001b[0;34m[\u001b[0m\u001b[0ma11\u001b[0m\u001b[0;34m,\u001b[0m \u001b[0ma12\u001b[0m\u001b[0;34m,\u001b[0m \u001b[0ma13\u001b[0m\u001b[0;34m,\u001b[0m \u001b[0ma14\u001b[0m\u001b[0;34m]\u001b[0m\u001b[0;34m,\u001b[0m\u001b[0;34m[\u001b[0m\u001b[0ma21\u001b[0m\u001b[0;34m,\u001b[0m \u001b[0ma22\u001b[0m\u001b[0;34m,\u001b[0m \u001b[0ma23\u001b[0m\u001b[0;34m,\u001b[0m \u001b[0ma24\u001b[0m\u001b[0;34m]\u001b[0m\u001b[0;34m,\u001b[0m\u001b[0;34m[\u001b[0m\u001b[0ma31\u001b[0m\u001b[0;34m,\u001b[0m \u001b[0ma32\u001b[0m\u001b[0;34m,\u001b[0m \u001b[0ma33\u001b[0m\u001b[0;34m,\u001b[0m \u001b[0ma34\u001b[0m\u001b[0;34m]\u001b[0m\u001b[0;34m,\u001b[0m\u001b[0;34m[\u001b[0m\u001b[0ma41\u001b[0m\u001b[0;34m,\u001b[0m \u001b[0ma42\u001b[0m\u001b[0;34m,\u001b[0m \u001b[0ma43\u001b[0m\u001b[0;34m,\u001b[0m \u001b[0ma44\u001b[0m\u001b[0;34m]\u001b[0m \u001b[0;34m]\u001b[0m\u001b[0;34m)\u001b[0m\u001b[0;34m\u001b[0m\u001b[0m\n",
      "\u001b[0;31mImportError\u001b[0m: No module named scipy.linalg"
     ]
    }
   ],
   "source": [
    "import pprint\n",
    "import numpy as np\n",
    "import scipy.linalg as la #SciPy Linear Algebra Library with la as a shortcut\n",
    "\n",
    "A = np.array([ [a11, a12, a13, a14],[a21, a22, a23, a24],[a31, a32, a33, a34],[a41, a42, a43, a44] ])\n",
    "P, L, U = la.lu(A)\n",
    "\n",
    "print \"A:\"\n",
    "pprint.pprint(A)\n",
    "print \"P:\"\n",
    "pprint.pprint(P)\n",
    "print \"L:\"\n",
    "pprint.pprint(L)\n",
    "print \"U:\"\n",
    "pprint.pprint(U)"
   ]
  },
  {
   "cell_type": "markdown",
   "metadata": {},
   "source": [
    "## Psuedocode for solving equations after LU factorization\n",
    "\n",
    "Once we have $L$ and $U$ we can solve for as many right-hand side vectors $\\bar{b}$ as desired very quickly using the following two step process. First we let $\\bar{y}=U\\bar{x}$ and then solve for $L\\bar{y}=\\bar{b}$ for $\\bar{y}$ by using forward substitution. The pseudocode for this is as follows:\n",
    "\n",
    "  1. Set $y_1 = b_1/I_{11}$\n",
    "  1. For $i=2, 3, ..., n$ do Step 3.\n",
    "  1. $y_i = (b_i - \\sum\\nolimits_{j=1}^{i-1} I_{ij}y_j)/I_{ii}$\n"
   ]
  },
  {
   "cell_type": "code",
   "execution_count": null,
   "metadata": {
    "collapsed": false,
    "jupyter": {
     "outputs_hidden": false
    }
   },
   "outputs": [],
   "source": []
  },
  {
   "cell_type": "markdown",
   "metadata": {},
   "source": [
    "Then solve $U\\bar{x} = \\bar{y}$ for $\\bar{x}$ using backward substitution. The psuedocode for this is as follows:\n",
    "\n",
    "  1. Set $x_n = y_n / u_{nn}$\n",
    "  1. For $i = n-1, n-2, ..., 1$ do Step 3.\n",
    "  1. $x_i = (y_i - \\sum\\nolimits_{j=i+1}^{n} u_{ij}x_j)/u_{ii}$\n",
    "\n",
    "For a $PLU$ factorization would have the additional step of permutating the right-hand side vector $\\bar{b} = P\\bar{b}$ before doing the forward substitution to solve for $\\bar{y}$."
   ]
  },
  {
   "cell_type": "code",
   "execution_count": 1,
   "metadata": {
    "collapsed": false,
    "jupyter": {
     "outputs_hidden": false
    }
   },
   "outputs": [],
   "source": []
  },
  {
   "cell_type": "markdown",
   "metadata": {},
   "source": [
    "## LU factorization, another look.\n",
    "\n",
    "Let's condier a generic $LU$ factorization, for simplicity we will consider a set of 3 x 3 matrices, but these ideas will apply in the $n$x$n$ case.\n",
    "\n",
    "$$\n",
    "LU = \\begin{pmatrix}I_{11}&0&0\\\\I_{21}&I_{22}&0\\\\I_{31}&I_{32}&I_{33}\\end{pmatrix}\n",
    "\\begin{pmatrix}u_{11}&u_{12}&u_{13}\\\\0&u_{22}&u_{23}\\\\0&0&u_{33}\\end{pmatrix} = \n",
    "\\begin{pmatrix}a_{11}&a_{12}&a_{13}\\\\a_{21}&a_{22}&a_{23}\\\\a_{31}&a_{32}&a_{33}\\end{pmatrix} = A\n",
    "$$\n",
    "\n",
    "If we multiply the two left side matrices together, we have\n",
    "\n",
    "$$\n",
    "\\begin{pmatrix}I_{11}u_{11}&I_{11}u_{12}&I_{11}u_{12}\\\\I_{21}u_{11}&I_{21}u_{12}+I_{22}u_{22}&I_{21}u_{13}+I_{22}u_{23}\\\\I_{31}u_{11}&I_{31}u_{12}+I_{32}u_{22}&I_{31}u_{13}+I_{32}u_{23}+I_{33}u_{33}\\end{pmatrix} = \n",
    "\\begin{pmatrix}a_{11}&a_{12}&a_{13}\\\\a_{21}&a_{22}&a_{23}\\\\a_{31}&a_{32}&a_{33}\\end{pmatrix}\n",
    "$$\n",
    "\n",
    "Now if we take the same approah as earlier where the $I_{ii}$'s are the 1's we can solve the first row of equations trivially, namely:\n",
    "\n",
    "$u_{11} = a_{11}, u_{12} = a_{12}, u_{13} = a_{13},$ then we have enough information to solve the rest of the first column,\n",
    "\n",
    "$I_{21} = a_{21}/a_{11}, I_{31}=a_{31}/a_{11},$ and the rest of the second row,\n",
    "\n",
    "$u_{22} = (a_{22}-a_{21}^{2}/a_{11}), u_{23} = (a_{23}-a_{21}a_{23}/a_{11}),$ etc.\n",
    "\n",
    "When this procedure is generalized it is known as the Doolittle alogrithm. There is a similar procedure known as Crout's method that uses the 1's on the diagonal of the $U$ matrix. The generalization of these methods will be shown in the upcoming pages describing their pseudocode.\n"
   ]
  },
  {
   "cell_type": "markdown",
   "metadata": {},
   "source": [
    "## Pseudocode for Doolittle algorithm. \n",
    "\n",
    "Consider the matrices:\n",
    "\n",
    "$$\n",
    "A = \\begin{pmatrix}a_{11}&a_{12}&...&a_{1n}\\\\a_{21}&\\ddots& &a_{2n}\\\\\\vdots& &\\ddots& \\vdots\\\\a_{n1}&...&...&a_{nn}\\end{pmatrix},\n",
    "L = \\begin{pmatrix}l_{11}&l_{12}&...&l_{1n}\\\\l_{21}&\\ddots& &l_{2n}\\\\\\vdots& &\\ddots& \\vdots\\\\l_{n1}&...&...&l_{nn}\\end{pmatrix},\n",
    "U = \\begin{pmatrix}u_{11}&u_{12}&...&u_{1n}\\\\u_{21}&\\ddots& &u_{2n}\\\\\\vdots& &\\ddots& \\vdots\\\\u_{n1}&...&...&u_{nn}\\end{pmatrix}\n",
    "$$\n",
    "\n",
    "  1. For $k = 1, 2, ..., n$ do Steps 2-6\n",
    "  1. Set $I_{kk}=1$\n",
    "  1. For $j=k, k+1, ..., n$ do Step 4.\n",
    "  1. $u_{kj} = a_{kj} - \\sum\\nolimits_{m=1}^{k-1}I_{km}u_{mj}$\n",
    "  1. For $i=k+1, k+2, ..., n$ do Step 6.\n",
    "  1. $I_{ik}=\\frac{a_{ik}-\\sum\\nolimits_{m=1}^{k-1}I_{im}u_{mk}}{u_{kk}}$"
   ]
  },
  {
   "cell_type": "markdown",
   "metadata": {},
   "source": [
    "## Pseudocode for Crout algorithm.\n",
    "\n",
    "Consider the matrices:\n",
    "\n",
    "$$\n",
    "A = \\begin{pmatrix}a_{11}&a_{12}&...&a_{1n}\\\\a_{21}&\\ddots& &a_{2n}\\\\\\vdots& &\\ddots& \\vdots\\\\a_{n1}&...&...&a_{nn}\\end{pmatrix},\n",
    "L = \\begin{pmatrix}l_{11}&l_{12}&...&l_{1n}\\\\l_{21}&\\ddots& &l_{2n}\\\\\\vdots& &\\ddots& \\vdots\\\\l_{n1}&...&...&l_{nn}\\end{pmatrix},\n",
    "U = \\begin{pmatrix}u_{11}&u_{12}&...&u_{1n}\\\\u_{21}&\\ddots& &u_{2n}\\\\\\vdots& &\\ddots& \\vdots\\\\u_{n1}&...&...&u_{nn}\\end{pmatrix}\n",
    "$$\n",
    "\n",
    "  1. For $k = 1, 2, ..., n$ do Steps 2-6\n",
    "  1. Set $I_{kk} = a_{kk}-\\sum\\nolimits_{m=1}^{k-1}I_{km}u_{mk}$\n",
    "  1. For $j = k, k+1, ..., n$ do Step 4.\n",
    "  1. $u_{kj} = \\frac{a_{kj}-\\sum\\nolimits_{m=1}^{k-1}I_{km}u_{mj}}{I_{kk}}$\n",
    "  1. For $i = k+1, k+2, ..., n$ do Step 6.\n",
    "  1. $I_{ik} = \\frac{a_{ik}-\\sum\\nolimits_{m=1}^{k-1}I_{im}u_{mk}}{u_{kk}}$"
   ]
  },
  {
   "cell_type": "markdown",
   "metadata": {},
   "source": [
    "## Pseudocode for Cholesky decomposition.\n",
    "\n",
    "If matrix $A$ is symmetric and positive definite, then there exists a lower triangular matrix $L$ such that $A=LL^T$. This is just a special case of the $LU$ decomposition, $U=L^T$. The algorithm is slightly simpler than the Doolittle or Crout methods.\n",
    "\n",
    "Consider the matrices:\n",
    "\n",
    "$$\n",
    "A = \\begin{pmatrix}a_{11}&a_{12}&...&a_{1n}\\\\a_{21}&\\ddots& &a_{2n}\\\\\\vdots& &\\ddots& \\vdots\\\\a_{n1}&...&...&a_{nn}\\end{pmatrix},\n",
    "L = \\begin{pmatrix}l_{11}&l_{12}&...&l_{1n}\\\\l_{21}&\\ddots& &l_{2n}\\\\\\vdots& &\\ddots& \\vdots\\\\l_{n1}&...&...&l_{nn}\\end{pmatrix},\n",
    "$$\n",
    "\n",
    "  1. For $k=1,2,...,n$ do Steps 2-4\n",
    "  1. Set $I_{kk} = \\sqrt{a_{kk}-\\sum\\nolimits_{m=1}^{k-1}I_{km}^2}$\n",
    "  1. For $i=k+1,k+2,...,n$ do Step 4.\n",
    "  1. $I_{ik}=\\frac{a_{ik}-\\sum\\nolimits_{m=1}^{k-1}I_{im}I_{km}}{I_{kk}}$"
   ]
  },
  {
   "cell_type": "markdown",
   "metadata": {},
   "source": [
    "##Solving for the inverse of $A$ once the $LU$ decomposition is known.\n",
    "\n",
    "Once the $LU$ decomposition of $A$ is complete it is straightforward to find the inverse of $A$, using the same forward and backward substituion process we used when solving for an arbitrary right hand side vector $\\bar{b}$. Except we will do the procedure $n$ times, where $n$ is the number of columns of $A$ and $\\bar{b} = [\\bar{b_1};\\bar{b_2};...;\\bar{b_n}] = I$ are the columns of the Identity matrix. Stated differently, we will use the columns of the identity matrix as individual right-hand side vectors, $\\bar{b}$, in order to solve for the inverse column-by-column.\n",
    "\n",
    "The pseudocode is as follows:\n",
    "\n",
    "  1. Set $\\bar{b} = I$ with dimension $n$x$n$\n",
    "  1. For $k = 1, 2, ..., n$ do Steps 3-9\n",
    "  1. Set $y_{1k}=\\frac{b_{1k}}{I_{11}}$\n",
    "  1. For $i = 2, 3, ..., n$ do Step 5.\n",
    "  1. $y_{ik} = \\frac{b_{ik}-\\sum\\nolimits_{j=1}^{i-1}I_{ij}y_{jk}}{I_{ii}}$\n",
    "  1. Set $x_{nk} = \\frac{y_{nk}}{u_{nn}}$\n",
    "  1. For $i = n-1, n-2, ..., 1$ do Step 8.\n",
    "  1. $x_{ik}= \\frac{y_{ik}-\\sum\\nolimits_{j=i+1}^{n}u_{ij}x_{jk}}{u_{ii}}$"
   ]
  },
  {
   "cell_type": "markdown",
   "metadata": {},
   "source": [
    "##Determinant of a Matrix.\n",
    "\n",
    "You might reall from linear algebra that there are several ways of computing the determinant of a matrix (e.g. Leibniz formula, Laplace formula, Cramer's rule, etc.), however, none of these are computationally as efficient as using the $LU$ decomposition and a few properties of determinants to solve for the determinate of a matrix $A$. Recall,\n",
    "\n",
    "&nbsp;&nbsp;&nbsp;&nbsp;&nbsp;&nbsp;For $A = LU, \\rightarrow det(A) = det(L)det(U)$\n",
    "\n",
    "also for an upper (or lower) triangular matrix. The determinate of the matrix is simply the product of the diagonal entries. Therefore, if we solve for $L$ and $U$ using the Doolittle method, where there are 1's on the diagonal of the $L$ matrix, then the determinate of $L$ is 1. Thus,\n",
    "\n",
    "&nbsp;&nbsp;&nbsp;&nbsp;&nbsp;&nbsp;$det(A) = 1*det(U) = \\prod_{j=1}^{n}u_{jj}$\n",
    "\n",
    "Similarly, for a $PLU$ decomposition,\n",
    "\n",
    "&nbsp;&nbsp;&nbsp;&nbsp;&nbsp;&nbsp;$det(A) = det(P)det(L)det(U) = det(P)*\\prod_{j=1}^{n}u_{jj}$\n",
    "\n",
    "but, $P$ is just a permutation of the Identity matrix. Let's observe what happens when we do five semi-random row permutations of the identity matrix and calculate the determinate of $P$ each time."
   ]
  },
  {
   "cell_type": "code",
   "execution_count": 7,
   "metadata": {
    "collapsed": false,
    "jupyter": {
     "outputs_hidden": false
    }
   },
   "outputs": [
    {
     "name": "stdout",
     "output_type": "stream",
     "text": [
      "[[ 1.  0.  0.]\n",
      " [ 0.  1.  0.]\n",
      " [ 0.  0.  1.]]\n"
     ]
    }
   ],
   "source": [
    "import numpy as np\n",
    "from numpy import matrix\n",
    "n = 3\n",
    "P = np.matrix(np.identity(n))\n",
    "print P\n"
   ]
  },
  {
   "cell_type": "markdown",
   "metadata": {},
   "source": [
    "Therefore all we need to do is keep track of the number of row permutations and the $det(P)$ will have the following properties:\n",
    "\n",
    "$det(P) = \\{ _{ 1\\,for\\,even\\,number\\,of\\,permutations}^{-1\\,for\\,odd\\,number\\,of\\,permutations}$"
   ]
  }
 ],
 "metadata": {
  "kernelspec": {
   "display_name": "Python 3",
   "language": "python",
   "name": "python3"
  },
  "language_info": {
   "codemirror_mode": {
    "name": "ipython",
    "version": 3
   },
   "file_extension": ".py",
   "mimetype": "text/x-python",
   "name": "python",
   "nbconvert_exporter": "python",
   "pygments_lexer": "ipython3",
   "version": "3.8.1"
  }
 },
 "nbformat": 4,
 "nbformat_minor": 4
}

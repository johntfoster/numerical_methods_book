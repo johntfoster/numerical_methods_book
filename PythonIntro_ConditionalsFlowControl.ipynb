{
 "cells": [
  {
   "cell_type": "markdown",
   "metadata": {},
   "source": [
    "*Conditional statements* are tests to return whether a given comparison between two variables is `True` or `False`.  They are used in combination with `if`-statements to control the flow of a program.  For example, we may want to check if the inputs to a particular function or program is within some valid range, or non-negative. In the event that it is a valid input, we proceed with the calculations. In the event that it is an invalid input, we terminate the program and prompt the user to input a parameter that is valid.\n",
    "\n",
    "### Conditional operators\n",
    "\n",
    "The conditional operators in Python consist of the following:\n",
    "\n",
    "  * `==` for testing if two data types are **equal** to each other\n",
    "  * `!=` for testing if two data types are **not equal** to each other\n",
    "  * `>` for testing if one data type is **greater than** another\n",
    "  * `<` for testing if one data type is **less than** another\n",
    "  * `>=` for testing if one data type is **greater than or equal to** another\n",
    "  * `<=` for testing if one data type is **less than or equal to** another\n",
    "  \n",
    "A few code examples with obvious outputs are shown below"
   ]
  },
  {
   "cell_type": "code",
   "execution_count": 1,
   "metadata": {},
   "outputs": [
    {
     "name": "stdout",
     "output_type": "stream",
     "text": [
      "True\n",
      "True\n",
      "True\n",
      "True\n",
      "True\n",
      "True\n"
     ]
    }
   ],
   "source": [
    "print(5 == 5)\n",
    "print(5 != 6)\n",
    "print(10 > 9)\n",
    "print(9 < 10)\n",
    "print(10 >= 10)\n",
    "print(9 <= 10)"
   ]
  },
  {
   "cell_type": "markdown",
   "metadata": {},
   "source": [
    "You can *negate* any operation above by placing the `not` keyword in front of it, e.g."
   ]
  },
  {
   "cell_type": "code",
   "execution_count": 2,
   "metadata": {},
   "outputs": [
    {
     "data": {
      "text/plain": [
       "False"
      ]
     },
     "execution_count": 2,
     "metadata": {},
     "output_type": "execute_result"
    }
   ],
   "source": [
    "not 5 == 5"
   ]
  },
  {
   "cell_type": "markdown",
   "metadata": {},
   "source": [
    "You can also test if one element is a subset of another, e.g."
   ]
  },
  {
   "cell_type": "code",
   "execution_count": 3,
   "metadata": {},
   "outputs": [
    {
     "data": {
      "text/plain": [
       "True"
      ]
     },
     "execution_count": 3,
     "metadata": {},
     "output_type": "execute_result"
    }
   ],
   "source": [
    "'Hello' in 'Hello, World!'"
   ]
  },
  {
   "cell_type": "markdown",
   "metadata": {},
   "source": [
    "The `in` conditional test also works with `list`, `tuple`, and `dict` data types which we will cover in the sequal.\n",
    "\n",
    "#### `and` / `or` operations\n",
    "\n",
    "We can combine multiple conditional statements using the `and` and `or` keywords.  For example,"
   ]
  },
  {
   "cell_type": "code",
   "execution_count": 4,
   "metadata": {},
   "outputs": [
    {
     "data": {
      "text/plain": [
       "True"
      ]
     },
     "execution_count": 4,
     "metadata": {},
     "output_type": "execute_result"
    }
   ],
   "source": [
    "(9 <= 9) and (9 < 10)"
   ]
  },
  {
   "cell_type": "markdown",
   "metadata": {},
   "source": [
    "These follow the following boolean logic\n",
    "\n",
    " * True `and` True = True\n",
    " * True `and` False = False\n",
    " * False `and` False = False\n",
    " * True `or` True = True\n",
    " * True `or` False = True\n",
    " * False `or` False = False\n",
    " \n",
    "As many `and` and `or` statements can be combined as desired:"
   ]
  },
  {
   "cell_type": "markdown",
   "metadata": {
    "tags": [
     "popout"
    ]
   },
   "source": [
    "It's a good idea to use parenthesis when combining multiple `and`/`or` operations to ensure clarity in the order of operations."
   ]
  },
  {
   "cell_type": "code",
   "execution_count": 5,
   "metadata": {},
   "outputs": [
    {
     "data": {
      "text/plain": [
       "True"
      ]
     },
     "execution_count": 5,
     "metadata": {},
     "output_type": "execute_result"
    }
   ],
   "source": [
    "(True and False) or True"
   ]
  },
  {
   "cell_type": "markdown",
   "metadata": {},
   "source": [
    "### `if`, `elif`, `else` statements\n",
    "\n",
    "We control the flow of a program with `if`-statements.  `if`-statements use conditionals as a test and then execute code in the *body* of the `if`-statement when the test is `True`.  Below we define a function that takes a number `x` as an argument and prints `'x is positive'` if (and only if) the input value for `x` is greater than 0. "
   ]
  },
  {
   "cell_type": "markdown",
   "metadata": {
    "tags": [
     "popout"
    ]
   },
   "source": [
    "Notice the colon `:` after the conditional test, this starts the *body* of the `if`-statement.  The body is identified by a consistent indentation underneath.  Typically this indentation is 4 spaces, but any consisent indentation amount for the lines in the body is acceptable."
   ]
  },
  {
   "cell_type": "code",
   "execution_count": 6,
   "metadata": {},
   "outputs": [],
   "source": [
    "def test_if_x_is_positive(x):\n",
    "    \n",
    "    if x > 0:\n",
    "        print('x is positive')"
   ]
  },
  {
   "cell_type": "markdown",
   "metadata": {},
   "source": [
    "Running the function with a few inputs"
   ]
  },
  {
   "cell_type": "code",
   "execution_count": 7,
   "metadata": {},
   "outputs": [
    {
     "name": "stdout",
     "output_type": "stream",
     "text": [
      "x is positive\n"
     ]
    }
   ],
   "source": [
    "test_if_x_is_positive(5)"
   ]
  },
  {
   "cell_type": "code",
   "execution_count": 8,
   "metadata": {},
   "outputs": [],
   "source": [
    "test_if_x_is_positive(-5)"
   ]
  },
  {
   "cell_type": "markdown",
   "metadata": {},
   "source": [
    "Notice the second function call does not return anything at all, this is because the conditional statement evaluated to `False` and therefore the body of the `if`-statement was never executed.  We can add a `else` clause to the `elif`-statement (shorthand for *else if* that will execute given another conditional statement, perhaps checking to see if `x` is negative."
   ]
  },
  {
   "cell_type": "code",
   "execution_count": 9,
   "metadata": {},
   "outputs": [],
   "source": [
    "def test_if_x_is_positive_or_negative(x):\n",
    "    \n",
    "    if x > 0:\n",
    "        print('x is positive')\n",
    "    elif x < 0:\n",
    "        print('x is negative')"
   ]
  },
  {
   "cell_type": "markdown",
   "metadata": {},
   "source": [
    "Running the function with a few inputs"
   ]
  },
  {
   "cell_type": "code",
   "execution_count": 10,
   "metadata": {},
   "outputs": [
    {
     "name": "stdout",
     "output_type": "stream",
     "text": [
      "x is positive\n",
      "x is negative\n"
     ]
    }
   ],
   "source": [
    "test_if_x_is_positive_or_negative(5)\n",
    "test_if_x_is_positive_or_negative(-5)"
   ]
  },
  {
   "cell_type": "markdown",
   "metadata": {},
   "source": [
    "achieves the expected result.  What about the case when `x` is exactly 0?"
   ]
  },
  {
   "cell_type": "code",
   "execution_count": 11,
   "metadata": {},
   "outputs": [],
   "source": [
    "test_if_x_is_positive_or_negative(0)"
   ]
  },
  {
   "cell_type": "markdown",
   "metadata": {},
   "source": [
    "This case does not return any print statements because neither condition is met.  We could write a thrid condition to test if `x` is identically zero, or we could use an `else` clause which can be thought of as the \"otherwise\" condition.  The `else`-statement will execute in the event that none of the `if` or `elif` conditions have been met. An `else`-statement is not followed by a condition."
   ]
  },
  {
   "cell_type": "code",
   "execution_count": 12,
   "metadata": {},
   "outputs": [],
   "source": [
    "def test_if_x_is_positive_or_negative(x):\n",
    "\n",
    "    if x > 0:\n",
    "        print('x is positive')\n",
    "    elif x < 0:\n",
    "        print('x is negative')\n",
    "    else:\n",
    "        print('x is 0!')"
   ]
  },
  {
   "cell_type": "code",
   "execution_count": 13,
   "metadata": {},
   "outputs": [
    {
     "name": "stdout",
     "output_type": "stream",
     "text": [
      "x is 0!\n"
     ]
    }
   ],
   "source": [
    "test_if_x_is_positive_or_negative(0)"
   ]
  },
  {
   "cell_type": "markdown",
   "metadata": {},
   "source": [
    "You can also nest `if`-statements inside each other. There is no limit to how many times this can be done.  An example is below.  This function takes two arguments `x` and `truncate_value`.  If `x` is less than`truncate_value` it returns `truncate_value`, otherwise is returns `x`.  It also allows `truncate_value` to be defined as `None` in which case it returns `x`."
   ]
  },
  {
   "cell_type": "code",
   "execution_count": 14,
   "metadata": {},
   "outputs": [],
   "source": [
    "def truncate(x, truncate_value):\n",
    "    \n",
    "    if truncate_value != None:\n",
    "        \n",
    "        if x < truncate_value:\n",
    "            return truncate_value\n",
    "        else:\n",
    "            return x\n",
    "    \n",
    "    else:\n",
    "        return x"
   ]
  },
  {
   "cell_type": "code",
   "execution_count": 15,
   "metadata": {},
   "outputs": [
    {
     "data": {
      "text/plain": [
       "5"
      ]
     },
     "execution_count": 15,
     "metadata": {},
     "output_type": "execute_result"
    }
   ],
   "source": [
    "truncate(5, 4)"
   ]
  },
  {
   "cell_type": "code",
   "execution_count": 16,
   "metadata": {},
   "outputs": [
    {
     "data": {
      "text/plain": [
       "0"
      ]
     },
     "execution_count": 16,
     "metadata": {},
     "output_type": "execute_result"
    }
   ],
   "source": [
    "truncate(-4, 0)"
   ]
  },
  {
   "cell_type": "code",
   "execution_count": 17,
   "metadata": {},
   "outputs": [
    {
     "data": {
      "text/plain": [
       "5"
      ]
     },
     "execution_count": 17,
     "metadata": {},
     "output_type": "execute_result"
    }
   ],
   "source": [
    "truncate(5, None)"
   ]
  },
  {
   "cell_type": "markdown",
   "metadata": {},
   "source": [
    "While you can nest `if`-statements to any level, the readability of the code begins to suffer the deeper you go.  At some point, it's generally better for readability and debugging mistakes in the code to break out some of the logic into smaller functions.  The example above is really too simple for this to be necassary, but an example is shown below to demonstrate the idea."
   ]
  },
  {
   "cell_type": "markdown",
   "metadata": {
    "tags": [
     "popout"
    ]
   },
   "source": [
    "The double underscore `__` in the function name `__truncate` is simply a convention in Python to indicate that this function is never intended to be called directly by a user, but rather just a function that will be called in the body of other functions."
   ]
  },
  {
   "cell_type": "code",
   "execution_count": 18,
   "metadata": {},
   "outputs": [],
   "source": [
    "def __truncate(x, truncate_value):\n",
    "    \n",
    "    if x < truncate_value:\n",
    "        return truncate_value\n",
    "    else:\n",
    "        return x \n",
    "    \n",
    "def truncate(x, truncate_value):\n",
    "    \n",
    "    if truncate_value != None:\n",
    "        \n",
    "        return __truncate(x, truncate_value)\n",
    "    \n",
    "    else:\n",
    "        return x"
   ]
  },
  {
   "cell_type": "code",
   "execution_count": 19,
   "metadata": {},
   "outputs": [
    {
     "data": {
      "text/plain": [
       "0"
      ]
     },
     "execution_count": 19,
     "metadata": {},
     "output_type": "execute_result"
    }
   ],
   "source": [
    "truncate(-4, 0)"
   ]
  },
  {
   "cell_type": "markdown",
   "metadata": {},
   "source": [
    "The first function `__truncate` performs the truncation operation, but would error if `truncate_value = None`.  The second function checks to ensure that `truncate_value != None` and if this is `True`, then it calls the first function."
   ]
  },
  {
   "cell_type": "markdown",
   "metadata": {},
   "source": [
    "## Further reading\n",
    "\n",
    "Further reading on flow control can be found in the [Python documentation](https://docs.python.org/3.8/tutorial/controlflow.html)."
   ]
  }
 ],
 "metadata": {
  "celltoolbar": "Edit Metadata",
  "kernelspec": {
   "display_name": "Python 3",
   "language": "python",
   "name": "python3"
  },
  "language_info": {
   "codemirror_mode": {
    "name": "ipython",
    "version": 3
   },
   "file_extension": ".py",
   "mimetype": "text/x-python",
   "name": "python",
   "nbconvert_exporter": "python",
   "pygments_lexer": "ipython3",
   "version": "3.8.1"
  }
 },
 "nbformat": 4,
 "nbformat_minor": 4
}

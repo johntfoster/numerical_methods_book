{
 "cells": [
  {
   "cell_type": "markdown",
   "metadata": {
    "tags": [
     "remove_cell"
    ]
   },
   "source": [
    "# Numerical Methods"
   ]
  },
  {
   "cell_type": "markdown",
   "metadata": {},
   "source": [
    "As engineers we often encounter problems too large or too difficult to solve in a conventional manner; therefore, we resort to using the computer to do the hard work for us. This section is a designed to accompany a first course in numerical methods, intended to introduce the student to the algorithms and techniques an engineer might employ in solving these difficult problems. Most of the algorithms discussed in this section are typically available nowadays in packaged libraries, whether within engineering tools such as MATLAB, Mathematica, or Python modules; or packaged solvers for lower-level languages such as BLAS, LAPAK, ODEPAK, etc. available for C/C++ and/or FORTRAN. In the typical course of engineering problem solving we will build our code with these highly robust packages and not try to \"reinvent the wheel\"; it is, however, important to have an underlying understanding of some of the fundamental algorithms employed in these packages. This allows us to choose solvers appropriate to the problem based on our desires for accuracy, stability, speed, etc. This section is designed to provide the student with this underlying understanding of basic algorithms and a degree of proficiency in programming them. "
   ]
  }
 ],
 "metadata": {
  "kernelspec": {
   "display_name": "Python 3",
   "language": "python",
   "name": "python3"
  },
  "language_info": {
   "codemirror_mode": {
    "name": "ipython",
    "version": 3
   },
   "file_extension": ".py",
   "mimetype": "text/x-python",
   "name": "python",
   "nbconvert_exporter": "python",
   "pygments_lexer": "ipython3",
   "version": "3.8.1"
  }
 },
 "nbformat": 4,
 "nbformat_minor": 4
}

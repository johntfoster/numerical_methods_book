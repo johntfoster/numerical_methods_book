{
 "cells": [
  {
   "cell_type": "markdown",
   "metadata": {
    "slideshow": {
     "slide_type": "slide"
    },
    "tags": [
     "remove_cell"
    ]
   },
   "source": [
    "# Direct methods for solving linear systems of equations"
   ]
  },
  {
   "cell_type": "markdown",
   "metadata": {
    "slideshow": {
     "slide_type": "skip"
    }
   },
   "source": [
    "This section covers *direct methods* for solving linear systems of equations. Later, we'll also cover *iterative methods*; the distinction will be obvious once both types of methods are discussed."
   ]
  },
  {
   "cell_type": "markdown",
   "metadata": {
    "slideshow": {
     "slide_type": "slide"
    }
   },
   "source": [
    "## Solving systems of linear equations"
   ]
  },
  {
   "cell_type": "markdown",
   "metadata": {},
   "source": [
    "Recall the three basic rules for matrix manipulation from linear algebra:\n",
    "\n",
    " 1. Switching two rows or columns does not change the solution of the linear system.\n",
    " 1. Any row can be multiplied by a constant without changing the solution of the linear system.\n",
    " 1. Any row or linear multiple of a row can be added/subtracted to/from another row without changing the solution of the linear system."
   ]
  },
  {
   "cell_type": "markdown",
   "metadata": {
    "slideshow": {
     "slide_type": "subslide"
    }
   },
   "source": [
    "Consider the system of equations:\n",
    "\n",
    "$$3 x_1 + 8 x_2 = 10$$\n",
    "   \n",
    "$$4 x_1 + 6 x_2 = 2$$"
   ]
  },
  {
   "cell_type": "markdown",
   "metadata": {
    "slideshow": {
     "slide_type": "fragment"
    }
   },
   "source": [
    "We can write in augmented matrix form:\n",
    "\n",
    "$$\n",
    "\\begin{bmatrix}\n",
    "3 & 8 & 10\\\\ 4 & 6 & 2\n",
    "\\end{bmatrix}\n",
    "$$"
   ]
  },
  {
   "cell_type": "markdown",
   "metadata": {
    "slideshow": {
     "slide_type": "skip"
    }
   },
   "source": [
    "We can multiply the 1st row $\\left(R_1\\right)$ by $-\\frac{4}{3}$ and add it to the 2nd row $\\left(R_2\\right)$, etc..."
   ]
  },
  {
   "cell_type": "markdown",
   "metadata": {
    "slideshow": {
     "slide_type": "fragment"
    }
   },
   "source": [
    "$$\n",
    "\\begin{bmatrix}\n",
    "3 & 8 & 10 \\\\ 4 & 6 & 2\n",
    "\\end{bmatrix} \\xrightarrow{-\\frac{4}{3}R_1 \\to R_1}\n",
    "\\begin{bmatrix}\n",
    "-4 & -\\frac{32}{3} & -\\frac{40}{3} \\\\ 4 & 6 & 2\n",
    "\\end{bmatrix} \\xrightarrow{R_1 + R_2 \\to R_2}\n",
    "\\begin{bmatrix}\n",
    "-4 & -\\frac{32}{3} & -\\frac{40}{3} \\\\ 0 & -\\frac{14}{3} & -\\frac{34}{3}\n",
    "\\end{bmatrix} {\\xrightarrow[-\\frac{3}{14}R_2 \\to R_2]{-\\frac{1}{4}R_1 \\to R_1}}\n",
    "\\begin{bmatrix}\n",
    "1 & \\frac{8}{3} & \\frac{10}{3} \\\\ 0 & 1 & \\frac{17}{7}\n",
    "\\end{bmatrix}\n",
    "$$"
   ]
  },
  {
   "cell_type": "markdown",
   "metadata": {
    "slideshow": {
     "slide_type": "skip"
    }
   },
   "source": [
    "By inspection we can see that $x_2 = \\frac{17}{7}$ we can then substitute this solution into a modified first equation\n",
    "\n",
    "$$\n",
    "x_1 + \\frac{8}{3}x_2 = \\frac{10}{3}\n",
    "$$\n",
    "\n",
    "and solve for $x_1$. The final solution is $x_1 = -\\frac{22}{7}$,  $x_2 = \\frac{17}{7}$. \n",
    "\n",
    "This procedure is called *Gaussian elimination*."
   ]
  },
  {
   "cell_type": "markdown",
   "metadata": {
    "slideshow": {
     "slide_type": "slide"
    }
   },
   "source": [
    "### Stability of Gaussian elimination"
   ]
  },
  {
   "cell_type": "markdown",
   "metadata": {
    "slideshow": {
     "slide_type": "skip"
    }
   },
   "source": [
    "Recall that another way of writing a linear system of equations in matrix form is $\\mathbf{A}\\vec{x} = \\vec{b}$, where $\\mathbf{A}$ is the coefficient matrix, $\\vec{x}$ is the vector of unknowns, and $\\vec{b}$ is the right-hand side vector.\n",
    "\n",
    "One method of determining if a linear system *has a solution* is to take the determinate of the $\\mathbf{A}$ matrix. If the determinate of $\\mathbf{A} = 0$ then the matrix is said to be *singular* and the system either has no solution or an infinite number of solutions.\n",
    "\n",
    "A matrix that is near-singular is said to be *ill-conditioned* whereas one that is far from singular is said to be *well-conditioned*. There is a notion of *condition number* that mathematically quantifies a matrix's amenability to numeric computations with matrices having high condition numbers being well conditioned and matrices with low condition numbers being ill conditioned. We will return to condition numbers in more detail when we discuss singular value decomposition. Below is an example of two matrices $\\mathbf{A}$ and $\\mathbf{B}$. $\\mathbf{A}$ is an ill-conditioned matrix, $\\mathbf{B}$ is well-conditioned."
   ]
  },
  {
   "cell_type": "markdown",
   "metadata": {
    "slideshow": {
     "slide_type": "skip"
    },
    "tags": [
     "popout"
    ]
   },
   "source": [
    "If we were to change the last entry of $\\mathbf{A}$ to $a_{22} = 1$, it would be singular."
   ]
  },
  {
   "cell_type": "code",
   "execution_count": 1,
   "metadata": {
    "slideshow": {
     "slide_type": "skip"
    },
    "tags": [
     "remove_cell"
    ]
   },
   "outputs": [],
   "source": [
    "import numpy as np"
   ]
  },
  {
   "cell_type": "code",
   "execution_count": 2,
   "metadata": {},
   "outputs": [
    {
     "data": {
      "text/plain": [
       "9.99999999999889e-05"
      ]
     },
     "execution_count": 2,
     "metadata": {},
     "output_type": "execute_result"
    }
   ],
   "source": [
    "A = np.array([[1, 1], \n",
    "              [1, 1.0001]])\n",
    "\n",
    "np.linalg.det(A)"
   ]
  },
  {
   "cell_type": "code",
   "execution_count": 3,
   "metadata": {},
   "outputs": [
    {
     "data": {
      "text/plain": [
       "-0.9999"
      ]
     },
     "execution_count": 3,
     "metadata": {},
     "output_type": "execute_result"
    }
   ],
   "source": [
    "B = np.array([[0.0001, 1],\n",
    "              [1     , 1]])\n",
    "\n",
    "np.linalg.det(B)"
   ]
  },
  {
   "cell_type": "markdown",
   "metadata": {
    "slideshow": {
     "slide_type": "subslide"
    }
   },
   "source": [
    "To illustrate the ill-conditioning of $\\mathbf{A}$ in another way let's consider two very close right-hand side vectors, $\\vec{b}$:\n",
    "\n",
    "\\begin{align}\n",
    "x_1 &+ \\phantom{1.0001}x_2 = 2  \\\\\n",
    "x_1 &+ 1.0001x_2 = 2  \\label{system1} \\tag{1}\n",
    "\\end{align}"
   ]
  },
  {
   "cell_type": "markdown",
   "metadata": {
    "tags": [
     "remove_cell"
    ]
   },
   "source": [
    "Solution: $x_1 = 2, x_2 = 0$"
   ]
  },
  {
   "cell_type": "markdown",
   "metadata": {},
   "source": [
    "and\n",
    "\\begin{align}\n",
    "x_1 &+ \\phantom{1.0001}x_2 = 2 \\\\\n",
    "x_1 &+ 1.0001 x_2 = 2.0001 \\label{system2} \\tag{2}\n",
    "\\end{align}"
   ]
  },
  {
   "cell_type": "markdown",
   "metadata": {
    "tags": [
     "remove_cell"
    ]
   },
   "source": [
    "Solution: $x_1 = 1, x_2 = 1$"
   ]
  },
  {
   "cell_type": "markdown",
   "metadata": {
    "slideshow": {
     "slide_type": "skip"
    }
   },
   "source": [
    "The system of equations (\\ref{system1}) has the solution $x_1 = 2, x_2 = 0$, and the system of equations (\\ref{system2}) has the solution $x_1 = x_2 = 1$. Notice that a change in the fifth digit of $\\vec{b}$ was amplified to a change in the first digit of the solution. Even the most robust numerical method will have trouble with this sensitivity to small perturbations.\n",
    "\n",
    "Now I would like to illustrate that even a well-conditioned matrix like $\\mathbf{B}$ can be ruined by a poor algorithm. Consider the matrix $\\mathbf{B}$ with the right-hand side vector, $\\vec{b} = \\left[1,2\\right]$ and let's proceed with Gaussian elimination."
   ]
  },
  {
   "cell_type": "markdown",
   "metadata": {
    "slideshow": {
     "slide_type": "subslide"
    },
    "tags": [
     "remove_cell"
    ]
   },
   "source": [
    "Consider our well-conditioned matrix $\\mathbf{B}$:"
   ]
  },
  {
   "cell_type": "markdown",
   "metadata": {},
   "source": [
    "\\begin{equation}\n",
    "\\begin{bmatrix} 0.0001 & 1 & 1\\\\1&1&2\\end{bmatrix} \\xrightarrow{10000 R_1 + R_2 \\to R_2}\n",
    "\\begin{bmatrix} 0.0001&1&1\\\\0&-9999&-9998\\end{bmatrix} \\xrightarrow{-\\frac{1}{9999}R_2 \\to R_2}\n",
    "\\begin{bmatrix} 0.0001&1&1\\\\0&1&0.9999\\end{bmatrix}\n",
    "\\end{equation}"
   ]
  },
  {
   "cell_type": "markdown",
   "metadata": {
    "tags": [
     "remove_cell"
    ]
   },
   "source": [
    "Solution: $x_1 = 1, x_2 = 0.9999$"
   ]
  },
  {
   "cell_type": "markdown",
   "metadata": {
    "slideshow": {
     "slide_type": "skip"
    }
   },
   "source": [
    "by inspection we see that $x_2 = 0.9999$, now we can back substitute into the first equation\n",
    "\\begin{equation}\n",
    "x_1+10000x_2 = 10000\n",
    "\\end{equation}\n",
    "\n",
    "and solve for $x_1$. The final solution is $x_1 = 1, x_2 = 0.9999$. Now let us do the same computation, this time on a computer that rounds the results of the computations to 3 decimal places (a machine epsilon of 0.0001), the resulting matrix after manipulations would be"
   ]
  },
  {
   "cell_type": "markdown",
   "metadata": {
    "slideshow": {
     "slide_type": "fragment"
    },
    "tags": [
     "remove_cell"
    ]
   },
   "source": [
    "The same computation on a computer with $\\epsilon_m = 0.0001$ would yield:"
   ]
  },
  {
   "cell_type": "markdown",
   "metadata": {
    "slideshow": {
     "slide_type": "skip"
    },
    "tags": [
     "popout"
    ]
   },
   "source": [
    "The leading non-zero entry of the row you are using to eliminate entries below is called the *pivot*. $0.0001$ is the pivot in this example."
   ]
  },
  {
   "cell_type": "markdown",
   "metadata": {},
   "source": [
    "\\begin{equation}\n",
    "\\begin{bmatrix} \n",
    "0.0001 & 1 & 1 \\\\\n",
    "0 & 1 & 1\n",
    "\\end{bmatrix}\n",
    "\\end{equation}"
   ]
  },
  {
   "cell_type": "markdown",
   "metadata": {
    "tags": [
     "remove_cell"
    ]
   },
   "source": [
    "Solution: $x_1 = 0, x_2 = 1$"
   ]
  },
  {
   "cell_type": "markdown",
   "metadata": {
    "slideshow": {
     "slide_type": "skip"
    }
   },
   "source": [
    "by inspection we see that $x_2 = 1$ and back substitution yields $x_1 = 0$. This is the incorrect solution brought on by the small *pivot* 0.0001. For this matrix Gaussian elimination is a poor algorithm. Fortunately there is an easy solution: exchange rows.\n",
    "\n",
    "Now lets do the same computation on the same computer that rounds off the computation to 3 decimal places. This time we will exchange the rows before proceeding with the Gaussian elimination. Eliminating some detail we can see"
   ]
  },
  {
   "cell_type": "markdown",
   "metadata": {
    "slideshow": {
     "slide_type": "fragment"
    },
    "tags": [
     "remove_cell"
    ]
   },
   "source": [
    "Now swap the rows and proceed with Gaussian elimination:"
   ]
  },
  {
   "cell_type": "markdown",
   "metadata": {},
   "source": [
    "$$\n",
    "\\begin{bmatrix}1&1&2\\\\0.0001&1&1\\end{bmatrix}\\xrightarrow{R_1 - 10000 R_2 \\to R_2}\n",
    "\\begin{bmatrix}1&1&2\\\\0&0.999&0.999\\end{bmatrix}\\xrightarrow{\\frac{1}{0.999}R_2 \\to R_2}\n",
    "\\begin{bmatrix}1&1&2\\\\0&1&1\\end{bmatrix}\n",
    "$$"
   ]
  },
  {
   "cell_type": "markdown",
   "metadata": {
    "tags": [
     "remove_cell"
    ]
   },
   "source": [
    "Solution: $x_1 = 1, x_2 = 1$"
   ]
  },
  {
   "cell_type": "markdown",
   "metadata": {
    "slideshow": {
     "slide_type": "skip"
    }
   },
   "source": [
    "by inspection we see that $x_2 = 1$, and back substitution yields $x_1 = 1$. We can see that this solution differs from the exact solution only by the roundoff error of the computer. Exchanging rows to obtain the largest possible pivot is called *partial pivoting*. Exchanging both rows and columns to obtain the largest possible pivot is called *full pivoting*. Full pivoting will result in the most stable algorithm but requires more computations and the requirement of tracking column permutations. For most matrices partial pivoting is sufficient enough for stability."
   ]
  },
  {
   "cell_type": "markdown",
   "metadata": {
    "slideshow": {
     "slide_type": "subslide"
    }
   },
   "source": [
    "### Pseudocode for Gaussian elimination with back substitution and partial pivoting"
   ]
  },
  {
   "cell_type": "markdown",
   "metadata": {},
   "source": [
    "Consider a linear system with $n$ equations and $n$ unknowns:"
   ]
  },
  {
   "cell_type": "markdown",
   "metadata": {},
   "source": [
    "\\begin{align}\n",
    "E_1&: a_{11}x_1+a_{12}x_2+\\ldots+a_{1n}x_n = a_{1,n+1}\\\\\n",
    "E_2&: a_{21}x_1+a_{22}x_2+\\ldots+a_{2n}x_n = a_{2,n_1}\\\\\n",
    "& \\vdots \\\\\n",
    "E_n&: a_{n1}x_1+a_{n2}x_2+\\ldots+a_{nn}x_n = a_{n,n+1}\n",
    "\\end{align}"
   ]
  },
  {
   "cell_type": "markdown",
   "metadata": {
    "slideshow": {
     "slide_type": "skip"
    },
    "tags": [
     "popout"
    ]
   },
   "source": [
    "Pseudocode is a human readable computer algorithm description.  It omits any language specific syntax in favor of clarity using general programming flow control and conditional statements."
   ]
  },
  {
   "cell_type": "markdown",
   "metadata": {},
   "source": [
    "| Steps | |\n",
    "| --: | :-- |\n",
    "|  1  | For $i = 1$, ..., $n$ do Steps 2-4\n",
    "|  2  | $\\phantom{--}$ Find $p$, where $p$ is the largest number with $i\\leq p\\leq n$ \n",
    "|  3  | $\\phantom{--}$ If $p \\neq i$, then exchange row $i$ with row $p$ \n",
    "|  4  | $\\phantom{--}$ For $j=i+1, ..., n$ do Steps 5-6\n",
    "|  5  | $\\phantom{----}$ set $m_{ji} = a_{ji}/a_{ii}$\n",
    "|  6  | $\\phantom{----}$ Perform $E_j = ( E_j - m_{ji}E_i)$\n",
    "|  7  | Set $x_n = a_{n,n+1}/a_{nn}$\n",
    "|  8  | For $i = n-1, ..., 1$ do Step 9\n",
    "|  9  | $$ x_i=\\left.\\left(a_{i,n+1}-\\sum_{j=i+1}a_{ij}x_j \\right) \\middle/ a_{ii} \\right.$$"
   ]
  },
  {
   "cell_type": "markdown",
   "metadata": {
    "slideshow": {
     "slide_type": "skip"
    }
   },
   "source": [
    "### Python/NumPy implementation for Gaussian elimination with back substitution and partial pivoting"
   ]
  },
  {
   "cell_type": "markdown",
   "metadata": {
    "slideshow": {
     "slide_type": "skip"
    },
    "tags": [
     "popout"
    ]
   },
   "source": [
    "This implementation eliminates a few of the explicit loops described in the algorithm pseudocode by using NumPy broadcasting operations."
   ]
  },
  {
   "cell_type": "code",
   "execution_count": 4,
   "metadata": {
    "slideshow": {
     "slide_type": "skip"
    }
   },
   "outputs": [],
   "source": [
    "def gauss_solve(A, b):\n",
    "    \n",
    "    #Concontanate the matrix A and right hand side column \n",
    "    #vector b into one matrix\n",
    "    temp_mat = np.c_[A, b]\n",
    "    \n",
    "    #Get the number of rows\n",
    "    n = temp_mat.shape[0]\n",
    "    \n",
    "    #Loop over rows\n",
    "    for i in range(n):\n",
    "            \n",
    "        #Find the pivot index by looking down the ith \n",
    "        #column from the ith row to find the maximum \n",
    "        #(in magnitude) entry.\n",
    "        p = np.abs(temp_mat[i:, i]).argmax()\n",
    "            \n",
    "        #We have to reindex the pivot index to be the \n",
    "        #appropriate entry in the entire matrix, not \n",
    "        #just from the ith row down.\n",
    "        p += i \n",
    "    \n",
    "        #Swapping rows to make the maximal entry the \n",
    "        #pivot (if needed).\n",
    "        if p != i:\n",
    "            temp_mat[[p, i]] = temp_mat[[i, p]]\n",
    "            \n",
    "        #Eliminate all entries below the pivot\n",
    "        factor = temp_mat[i+1:, i] / temp_mat[i, i]\n",
    "        temp_mat[i+1:] -= factor[:, np.newaxis] * temp_mat[i]\n",
    "                \n",
    "    #Allocating space for the solution vector\n",
    "    x = np.zeros_like(b, dtype=np.double);\n",
    "\n",
    "    #Here we perform the back-substitution.  Initializing \n",
    "    #with the last row.\n",
    "    x[-1] = temp_mat[-1,-1] / temp_mat[-1, -2]\n",
    "    \n",
    "    #Looping over rows in reverse (from the bottom up), starting with the second to\n",
    "    #last row, because the last row solve was completed in the last step.\n",
    "    for i in range(n-2, -1, -1):\n",
    "        x[i] = (temp_mat[i,-1] - np.dot(temp_mat[i,i:-1], x[i:])) / temp_mat[i,i]\n",
    "        \n",
    "    return x"
   ]
  },
  {
   "cell_type": "markdown",
   "metadata": {
    "slideshow": {
     "slide_type": "slide"
    }
   },
   "source": [
    "## Gauss-Jordan elimination"
   ]
  },
  {
   "cell_type": "markdown",
   "metadata": {
    "slideshow": {
     "slide_type": "skip"
    }
   },
   "source": [
    "Gauss-Jordan elimination simply adds steps to the simple Gauss elimination procedure to produce a matrix that is in *reduced row echelon form*. This is done by eliminating values both *above and below* the pivots and ensuring that each pivot has the value 1. Starting where we ended on the exact solution of matrix $\\mathbf{B}$ earlier we can simply add two steps to produce a reduced row echelon matrix. "
   ]
  },
  {
   "cell_type": "markdown",
   "metadata": {
    "tags": [
     "remove_cell"
    ]
   },
   "source": [
    "Starting with our $\\mathbf{B}$ matrix after Gaussian elimination, eliminate above the pivot"
   ]
  },
  {
   "cell_type": "markdown",
   "metadata": {},
   "source": [
    "$$\n",
    "\\begin{bmatrix}0.0001&1&1\\\\0&1&0.9999\\end{bmatrix}\\xrightarrow{R_1 - R_2 \\to R_1}\\begin{bmatrix}0.0001&0&0.0001\\\\0&1&0.9999\\end{bmatrix}\n",
    "$$"
   ]
  },
  {
   "cell_type": "markdown",
   "metadata": {
    "slideshow": {
     "slide_type": "fragment"
    }
   },
   "source": [
    "then we normalize the first equation to produce a 1 on the pivot:\n",
    "\n",
    "$$\n",
    "\\begin{bmatrix}0.0001&0&0.0001\\\\0&1&0.9999\\end{bmatrix}\\xrightarrow{\\frac{1}{0.0001}R_1 \\to R_1}\n",
    "\\begin{bmatrix}1&0&1\\\\0&1&0.9999\\end{bmatrix}\n",
    "$$"
   ]
  },
  {
   "cell_type": "markdown",
   "metadata": {
    "tags": [
     "remove_cell"
    ]
   },
   "source": [
    "Solution: $x_1 = 1, x_2 = 0.9999$."
   ]
  },
  {
   "cell_type": "markdown",
   "metadata": {
    "slideshow": {
     "slide_type": "skip"
    }
   },
   "source": [
    "now by inspection (and without the use of back substitution) we can see that the solution is $x_1 = 1, x_2 = 0.9999$ just as before.\n",
    "\n",
    "For a linear system with $n$ equations and $m$ unknowns. The innermost loops (one subtraction and one multiplication) of a Gauss-Jordan elimination routine are executed $n^3$ and $n^2$ $m$ times. The corresponding loops in a Gaussian scheme are executed $\\frac{1}{3}n^3$ and $\\frac{1}{2}n^2m$ times, followed by a back substitution for a similar loop (one subtraction and one multiplication) that occurs $\\frac{1}{2}n^2$ times. If there are far more equations that unknowns the Gaussian scheme with back substitution enjoys roughly a factor of 3 advantage over the Gauss-Jordan, for $n=m$ Gaussian elimination with back substitution enjoys a factor of 6 advantage over Gauss-Jordan. For matrix inversion (discussed later) the two methods have identical efficiencies."
   ]
  },
  {
   "cell_type": "markdown",
   "metadata": {
    "slideshow": {
     "slide_type": "subslide"
    }
   },
   "source": [
    "### Pseudocode for Gauss-Jordan elimination with partial pivoting\n",
    "\n",
    "Consider a linear system with $n$ equations and $n$ unknowns:\n",
    "\n",
    "\\begin{align}\n",
    "E_1&: a_{11}x_1+a_{12}x_2+...+a_{1n}x_n = a_{1,n+1}\\\\\n",
    "E_2&: a_{21}x_1+a_{22}x_2+...+a_{2n}x_n = a_{2,n_1}\\\\\n",
    "& \\vdots\\\\\n",
    "E_n&: a_{n1}x_1+a_{n2}x_2+...+a_{nn}x_n = a_{n,n+1}\n",
    "\\end{align}\n",
    "\n",
    "| Steps | |\n",
    "| --: | :-- |\n",
    "|  1  | For $i=1,...,n$ do Steps 2-4\n",
    "|  2  | $\\phantom{--}$ Find $p$, where $p$ is the largest number with $i\\leq p \\leq n$\n",
    "|  3  | $\\phantom{--}$ If $p \\neq i$, then exchange row $i$ with row $p$\n",
    "|  4  | $\\phantom{--}$ For $j=1,...,n$ do Steps 5-6\n",
    "|  5  | $\\phantom{----}$ Perform $E_i = \\frac{1}{a_{ii}}E_i$\n",
    "|  6  | $\\phantom{----}$ If $i \\neq j$ perform $E_j-a_{ji}E_i$\n",
    "|  7  | For $i = 1,...,n$ set $x_i = a_{i,n+1}$"
   ]
  },
  {
   "cell_type": "markdown",
   "metadata": {
    "slideshow": {
     "slide_type": "skip"
    }
   },
   "source": [
    "### Python/NumPy implementation for Gauss-Jordan elimination with partial pivoting"
   ]
  },
  {
   "cell_type": "code",
   "execution_count": 5,
   "metadata": {
    "slideshow": {
     "slide_type": "skip"
    }
   },
   "outputs": [],
   "source": [
    "def gauss_jordan_solve(A, b):\n",
    "    \n",
    "    #Concontanate the matrix A and right hand side column \n",
    "    #vector b into one matrix\n",
    "    temp_mat = np.c_[A, b]\n",
    "    \n",
    "    #Get the number of rows\n",
    "    n = temp_mat.shape[0]\n",
    "    \n",
    "    #Loop over rows\n",
    "    for i in range(n):\n",
    "            \n",
    "        #Find the pivot index by looking down the ith \n",
    "        #column from the ith row to find the maximum \n",
    "        #(in magnitude) entry.\n",
    "        p = np.abs(temp_mat[i:, i]).argmax()\n",
    "            \n",
    "        #We have to reindex the pivot index to be the \n",
    "        #appropriate entry in the entire matrix, not \n",
    "        #just from the ith row down.\n",
    "        p += i \n",
    "    \n",
    "        #Swapping rows to make the maximal entry the \n",
    "        #pivot (if needed).\n",
    "        if p != i:\n",
    "            temp_mat[[p, i]] = temp_mat[[i, p]]\n",
    "            \n",
    "        #Make the diagonal entires 1\n",
    "        temp_mat = temp_mat / np.diagonal(temp_mat)[:, np.newaxis]\n",
    "        \n",
    "        #Eliminate all entries above the pivot\n",
    "        factor = temp_mat[:i, i] \n",
    "        temp_mat[:i] -= factor[:, np.newaxis] * temp_mat[i]\n",
    "            \n",
    "        #Eliminate all entries below the pivot\n",
    "        factor = temp_mat[i+1:, i] \n",
    "        temp_mat[i+1:] -= factor[:, np.newaxis] * temp_mat[i]\n",
    "    \n",
    "    #If solution is a column vector, flatten it into a 1D array\n",
    "    if temp_mat[:,n:].shape[1] == 1:\n",
    "        return temp_mat[:,n:].flatten()\n",
    "    else:\n",
    "        return temp_mat[:,n:]"
   ]
  },
  {
   "cell_type": "markdown",
   "metadata": {
    "slideshow": {
     "slide_type": "slide"
    }
   },
   "source": [
    "## Matrix Inversion with Gauss-Jordan scheme"
   ]
  },
  {
   "cell_type": "markdown",
   "metadata": {
    "slideshow": {
     "slide_type": "skip"
    }
   },
   "source": [
    "For matrix inversion, both the Gauss elimination with back-substitution and Gauss-Jordan schemes described previously have identical efficiencies. For this reason we will, for simplicities sake, only consider the process for matrix inversion using the Gauss-Jordan scheme.\n",
    "\n",
    "All we have to do is augment an $\\mathbf{A}$ matrix with an identity matrix of the same dimensions and proceed with Gauss-Jordan elimination exactly as we have done previously. Consider the following $\\mathbf{A}$ matrix:"
   ]
  },
  {
   "cell_type": "markdown",
   "metadata": {},
   "source": [
    "\\begin{equation}\n",
    "\\mathbf{A} = \\begin{bmatrix}1&3&2\\\\2&4&5\\\\10&7&3\\end{bmatrix}\n",
    "\\end{equation}"
   ]
  },
  {
   "cell_type": "markdown",
   "metadata": {},
   "source": [
    "we augment it with a $3\\times3$ identity matrix $\\mathbf{A}\\vert\\mathbf{I}$ and proceed with Gauss-Jordan Elimination."
   ]
  },
  {
   "cell_type": "markdown",
   "metadata": {},
   "source": [
    "$$\n",
    "\\begin{bmatrix}\n",
    "1&3&2&1&0&0\\\\2&4&5&0&1&0\\\\10&7&3&0&0&1\n",
    "\\end{bmatrix} \\rightarrow\n",
    "\\begin{bmatrix}\n",
    "1&0&0&-\\frac{23}{57}&\\frac{5}{57}&\\frac{7}{57}\\\\0&1&0&\\frac{44}{57}&-\\frac{17}{57}&-\\frac{1}{57}\\\\0&0&1&-\\frac{26}{57}&-\\frac{23}{57}&-\\frac{2}{57}\n",
    "\\end{bmatrix}\n",
    "$$"
   ]
  },
  {
   "cell_type": "markdown",
   "metadata": {
    "slideshow": {
     "slide_type": "skip"
    }
   },
   "source": [
    "We can see by inspection the right side $3\\times3$ submatrix on the right is the inverse of $\\mathbf{A}$."
   ]
  },
  {
   "cell_type": "markdown",
   "metadata": {
    "slideshow": {
     "slide_type": "skip"
    }
   },
   "source": [
    "### Python / NumPy implementation of matrix inverse with Gauss-Jordan algorithm"
   ]
  },
  {
   "cell_type": "code",
   "execution_count": 6,
   "metadata": {
    "slideshow": {
     "slide_type": "skip"
    }
   },
   "outputs": [],
   "source": [
    "def gauss_jordan_inverse(A):\n",
    "    #initialize b as an identity matrix the same size as A, and call\n",
    "    #gauss_jordan_solve as before.\n",
    "    return gauss_jordan_solve(A, np.eye(A.shape[0]))"
   ]
  },
  {
   "cell_type": "code",
   "execution_count": 1,
   "metadata": {
    "hide_input": true,
    "init_cell": true,
    "javascript_last_cell": true,
    "jupyter": {
     "source_hidden": true
    },
    "slideshow": {
     "slide_type": "skip"
    },
    "tags": [
     "remove_cell"
    ]
   },
   "outputs": [
    {
     "data": {
      "application/javascript": [
       "function hideElements(elements, start) {\n",
       "for(var i = 0, length = elements.length; i < length;i++) {\n",
       "    if(i >= start) {\n",
       "        elements[i].style.display = \"none\";\n",
       "    }\n",
       "}\n",
       "}\n",
       "var prompt_elements = document.getElementsByClassName(\"prompt\");\n",
       "hideElements(prompt_elements, 0)\n"
      ],
      "text/plain": [
       "<IPython.core.display.Javascript object>"
      ]
     },
     "metadata": {},
     "output_type": "display_data"
    }
   ],
   "source": [
    "%%javascript\n",
    "function hideElements(elements, start) {\n",
    "for(var i = 0, length = elements.length; i < length;i++) {\n",
    "    if(i >= start) {\n",
    "        elements[i].style.display = \"none\";\n",
    "    }\n",
    "}\n",
    "}\n",
    "var prompt_elements = document.getElementsByClassName(\"prompt\");\n",
    "hideElements(prompt_elements, 0)"
   ]
  }
 ],
 "metadata": {
  "celltoolbar": "Slideshow",
  "kernelspec": {
   "display_name": "Python 3",
   "language": "python",
   "name": "python3"
  },
  "language_info": {
   "codemirror_mode": {
    "name": "ipython",
    "version": 3
   },
   "file_extension": ".py",
   "mimetype": "text/x-python",
   "name": "python",
   "nbconvert_exporter": "python",
   "pygments_lexer": "ipython3",
   "version": "3.8.1"
  },
  "rise": {
   "auto_select": null,
   "autolaunch": false,
   "controls": true,
   "enable_chalkboard": false,
   "footer": "",
   "progress": true,
   "scroll": true,
   "slideNumber": false,
   "theme": "simple"
  }
 },
 "nbformat": 4,
 "nbformat_minor": 4
}

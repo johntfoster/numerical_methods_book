{
 "cells": [
  {
   "cell_type": "code",
   "execution_count": 1,
   "metadata": {
    "slideshow": {
     "slide_type": "skip"
    },
    "tags": [
     "remove_cell"
    ]
   },
   "outputs": [],
   "source": [
    "from ipywidgets import interact, interactive, IntSlider\n",
    "from IPython.display import display, Latex"
   ]
  },
  {
   "cell_type": "markdown",
   "metadata": {
    "slideshow": {
     "slide_type": "slide"
    },
    "tags": [
     "remove_cell"
    ]
   },
   "source": [
    "## Computer Preliminaries and Error Descriptors"
   ]
  },
  {
   "cell_type": "markdown",
   "metadata": {
    "slideshow": {
     "slide_type": "skip"
    }
   },
   "source": [
    "Unfortunately computers can't store numbers with infinite precision, but instead use an approximation that can be packed into a fixed number of bits.  These bits can be arranged to represent different data types usually called fixed point numbers or integers and floating point numbers.  Of most importance to us as numerical analysts are floating point numbers.  \n",
    "\n",
    "A floating point number is represented within the computer as a bit sign (positive or negative), an integer number representing the number of significant digits called the significand or mantissa, and an integer exponent.  Symbolically, we might write:"
   ]
  },
  {
   "cell_type": "markdown",
   "metadata": {
    "slideshow": {
     "slide_type": "subslide"
    },
    "tags": [
     "remove_cell"
    ]
   },
   "source": [
    "### Floating point representation"
   ]
  },
  {
   "cell_type": "markdown",
   "metadata": {},
   "source": [
    "$$\n",
    "s \\times M \\times B^{sE}\n",
    "$$"
   ]
  },
  {
   "cell_type": "markdown",
   "metadata": {
    "slideshow": {
     "slide_type": "skip"
    }
   },
   "source": [
    "where, $s$ is the sign, $M$ is the mantissa, $B$ is called the base usually $2$, but sometimes $10$ or $16$, and $E$ is the integer exponent.\n",
    "\n",
    "The smallest floating point number which, when added to the floating point number $1.0$, produces a result different than $1.0$ is called the *machine precision* or *machine epsilon*, $\\epsilon_{m}$.  Most modern computers have a machine epsilon value somewhere around $2^{-53}$ $(1.11 \\times 10^{-16})$, although $\\epsilon_{m}$ can range depending on the base and the bit wordlength (32-bit, 64-bit, etc.)\n",
    "\n",
    "Almost any arithmetic between floating point numbers will produce an additional fraction error of size $\\epsilon_{m}$, this error is called roundoff error.  Numpy has a special function that can report what $\\epsilon_{m}$ is for the machine we are using: "
   ]
  },
  {
   "cell_type": "markdown",
   "metadata": {
    "slideshow": {
     "slide_type": "fragment"
    },
    "tags": [
     "remove_cell"
    ]
   },
   "source": [
    "### Machine precision"
   ]
  },
  {
   "cell_type": "code",
   "execution_count": 2,
   "metadata": {},
   "outputs": [
    {
     "data": {
      "text/plain": [
       "2.220446049250313e-16"
      ]
     },
     "execution_count": 2,
     "metadata": {},
     "output_type": "execute_result"
    }
   ],
   "source": [
    "import numpy as np\n",
    "eps = np.finfo(np.float).eps;  eps"
   ]
  },
  {
   "cell_type": "markdown",
   "metadata": {
    "slideshow": {
     "slide_type": "subslide"
    }
   },
   "source": [
    "We can verify that adding $\\epsilon_m$ to 1.0 returns something that differs from 1.0."
   ]
  },
  {
   "cell_type": "code",
   "execution_count": 3,
   "metadata": {},
   "outputs": [
    {
     "data": {
      "text/plain": [
       "True"
      ]
     },
     "execution_count": 3,
     "metadata": {},
     "output_type": "execute_result"
    }
   ],
   "source": [
    "1.0 + eps != 1.0"
   ]
  },
  {
   "cell_type": "markdown",
   "metadata": {},
   "source": [
    "However dividing $\\epsilon_m$ by 10 and adding to 1.0 simply returns 1.0."
   ]
  },
  {
   "cell_type": "code",
   "execution_count": 4,
   "metadata": {},
   "outputs": [
    {
     "data": {
      "text/plain": [
       "True"
      ]
     },
     "execution_count": 4,
     "metadata": {},
     "output_type": "execute_result"
    }
   ],
   "source": [
    "1.0 + eps / 10 == 1"
   ]
  },
  {
   "cell_type": "markdown",
   "metadata": {
    "slideshow": {
     "slide_type": "slide"
    }
   },
   "source": [
    "## Truncation Error"
   ]
  },
  {
   "cell_type": "markdown",
   "metadata": {
    "slideshow": {
     "slide_type": "skip"
    }
   },
   "source": [
    "Roundoff error, is a characteristic of computer hardware; however, there is another type of error that is completely a result of the algorithm or software.\n",
    "\n",
    "Most numerical algorithms compute discrete approximations to a continuous desired quantity.  An example of this is the use of the Taylor series to approximate the function $\\sin{(x)}$. The Taylor series approximation of the function is as follows:\n",
    "\n",
    "$$\n",
    "\\sin{(x)} = x - \\frac{x^3}{3!}+\\frac{x^5}{5!}-\\frac{x^7}{7!} \\cdots \n",
    "$$\n",
    "\n",
    "Of course, this representation requires that the series be infinite for the solution to be exact.  Even the best computers cannot evaluate an infinite number of terms in the Taylor series; therefore, we must take a finite number of terms for the approximation.  The difference between the approximated answer and the exact solution is called the truncation error.  Let's take a look at some numerics, we all know that $\\sin{\\left(\\frac{\\pi}{2}\\right)} = 1$.\n",
    "\n",
    "We start by defining a function representing the Taylor series expansion of $\\sin(x)$."
   ]
  },
  {
   "cell_type": "code",
   "execution_count": 5,
   "metadata": {
    "hide_input": true,
    "slideshow": {
     "slide_type": "skip"
    },
    "tags": [
     "hide_input",
     "remove_cell"
    ]
   },
   "outputs": [],
   "source": [
    "import sympy\n",
    "sympy.init_printing()"
   ]
  },
  {
   "cell_type": "code",
   "execution_count": 6,
   "metadata": {
    "hide_input": false
   },
   "outputs": [
    {
     "data": {
      "text/latex": [
       "$\\sin(x) =x - \\frac{x^{3}}{6} + \\frac{x^{5}}{120} - \\frac{x^{7}}{5040} + O\\left(x^{9}\\right)$"
      ],
      "text/plain": [
       "<IPython.core.display.Latex object>"
      ]
     },
     "metadata": {},
     "output_type": "display_data"
    }
   ],
   "source": [
    "x = sympy.Symbol('x')\n",
    "taylor_sin = lambda N=9: sympy.series(sympy.sin(x),x,n=N);\n",
    "display(Latex('$\\sin(x) ={}$'.format(sympy.latex(taylor_sin()))))"
   ]
  },
  {
   "cell_type": "markdown",
   "metadata": {
    "slideshow": {
     "slide_type": "skip"
    }
   },
   "source": [
    "By evaluating the function above at $x = \\frac \\pi 2$ and subtracting it from 1 we can see how the truncation error evolves as we add more terms in the Taylor series."
   ]
  },
  {
   "cell_type": "code",
   "execution_count": 7,
   "metadata": {
    "hide_input": true,
    "tags": [
     "hide_input",
     "interactive"
    ]
   },
   "outputs": [
    {
     "data": {
      "application/vnd.jupyter.widget-view+json": {
       "model_id": "61fb108dc5884c0b9b97370018916443",
       "version_major": 2,
       "version_minor": 0
      },
      "text/plain": [
       "interactive(children=(IntSlider(value=1, continuous_update=False, description='No. of Terms:', max=20, min=1),…"
      ]
     },
     "metadata": {},
     "output_type": "display_data"
    }
   ],
   "source": [
    "def taylor_sin_minus_one(N):\n",
    "    display(1 - taylor_sin(N).removeO())\n",
    "    display(Latex('Error $= {}$'\n",
    "                     .format(sympy.latex(1 - taylor_sin(N).removeO().subs(x, np.pi / 2).evalf()))))\n",
    "          \n",
    "interactive_sin = interactive(taylor_sin_minus_one, N=IntSlider(min=1, max=20, description='No. of Terms:', continuous_update=False))\n",
    "interactive_sin"
   ]
  },
  {
   "cell_type": "markdown",
   "metadata": {
    "hide_input": true,
    "slideshow": {
     "slide_type": "skip"
    }
   },
   "source": [
    "Here is an interesting visualization of how the difference between the two functions evolve as we add more terms of the Taylor series. The truncation error is visualized as the maximum difference between the two curves."
   ]
  },
  {
   "cell_type": "code",
   "execution_count": 8,
   "metadata": {
    "hide_input": true,
    "slideshow": {
     "slide_type": "subslide"
    },
    "tags": [
     "hide_input",
     "interactive"
    ]
   },
   "outputs": [
    {
     "data": {
      "application/vnd.jupyter.widget-view+json": {
       "model_id": "afde93b325a84bc9bce8e3b45f7d5fda",
       "version_major": 2,
       "version_minor": 0
      },
      "text/plain": [
       "interactive(children=(IntSlider(value=3, description='No. of Terms:', max=20, min=3), Output()), _dom_classes=…"
      ]
     },
     "metadata": {},
     "output_type": "display_data"
    }
   ],
   "source": [
    "import matplotlib\n",
    "import matplotlib.pyplot as plt\n",
    "import matplotlib.ticker as tck\n",
    "from sympy.utilities.lambdify import lambdify\n",
    "\n",
    "def multiple_formatter(denominator=2, number=np.pi, latex='\\pi'):\n",
    "    def gcd(a, b):\n",
    "        while b:\n",
    "            a, b = b, a%b\n",
    "        return a\n",
    "    def _multiple_formatter(x, pos):\n",
    "        den = denominator\n",
    "        num = np.int(np.rint(den*x/number))\n",
    "        com = gcd(num,den)\n",
    "        (num,den) = (int(num/com),int(den/com))\n",
    "        if den==1:\n",
    "            if num==0:\n",
    "                return r'$0$'\n",
    "            if num==1:\n",
    "                return r'${}$'.format(latex)\n",
    "            elif num==-1:\n",
    "                return r'$-{}$'.format(latex)\n",
    "            else:\n",
    "                return r'${}{}$'.format(num,latex)\n",
    "        else:\n",
    "            if num==1:\n",
    "                return r'$\\frac{{ {} }}{{ {} }}$'.format(latex, den)\n",
    "            elif num==-1:\n",
    "                return r'$\\frac{{ -{} }}{{ {} }}$'.format(latex, den)\n",
    "            else:\n",
    "                return r'$\\frac{{ {}{} }}{{ {} }}$'.format(num, latex, den)\n",
    "    return _multiple_formatter\n",
    "\n",
    "class Multiple:\n",
    "    def __init__(self, denominator=2, number=np.pi, latex='\\pi'):\n",
    "        self.denominator = denominator\n",
    "        self.number = number\n",
    "        self.latex = latex\n",
    "\n",
    "    def locator(self):\n",
    "        return plt.MultipleLocator(self.number / self.denominator)\n",
    "\n",
    "    def formatter(self):\n",
    "        return plt.FuncFormatter(multiple_formatter(self.denominator, self.number, self.latex))\n",
    "\n",
    "def interactive_sin_plot(N=3):\n",
    "    \n",
    "    xx = np.linspace(0, 2*np.pi)\n",
    "    \n",
    "    ts = lambdify(x, taylor_sin(N).removeO(), 'numpy')\n",
    "    \n",
    "    fig, ax = plt.subplots()\n",
    "    ax.plot(xx, np.sin(xx))\n",
    "    ax.plot(xx, ts(xx))\n",
    "    ax.set_ylim([-1.5, 1.5])\n",
    "    ax.set_ylabel(r'$\\sin(x)$')\n",
    "    ax.set_xlabel(r'$x$')\n",
    "    plt.grid()\n",
    "    \n",
    "    ax.xaxis.set_major_locator(plt.MultipleLocator(np.pi / 2))\n",
    "    ax.xaxis.set_minor_locator(plt.MultipleLocator(np.pi / 12))\n",
    "    ax.xaxis.set_major_formatter(plt.FuncFormatter(multiple_formatter()))\n",
    "    \n",
    "    plt.show()\n",
    "    plt.close(fig)\n",
    "    \n",
    "interactive_sin_plot = interactive(interactive_sin_plot, N=IntSlider(min=3, max=20, description='No. of Terms:'))\n",
    "interactive_sin_plot"
   ]
  },
  {
   "cell_type": "markdown",
   "metadata": {
    "slideshow": {
     "slide_type": "skip"
    }
   },
   "source": [
    "The minimization of truncation error is one of the main goals of numerical analysis."
   ]
  },
  {
   "cell_type": "markdown",
   "metadata": {
    "slideshow": {
     "scrolled": true,
     "slide_type": "slide"
    }
   },
   "source": [
    "## Stability"
   ]
  },
  {
   "cell_type": "markdown",
   "metadata": {
    "slideshow": {
     "slide_type": "skip"
    }
   },
   "source": [
    "Usually roundoff error and truncation error do not interact with each other, but sometimes roundoff error can cause a numerical algorithm to become *unstable*. This happens when roundoff error gets mixed into the calculation and is magnified as it continues. Let's look at an example:"
   ]
  },
  {
   "cell_type": "markdown",
   "metadata": {
    "slideshow": {
     "slide_type": "-"
    }
   },
   "source": [
    "Suppose we want to calculate the powers of the so called \"Golden Mean\"\n",
    "\n",
    "$\\phi = \\frac{\\sqrt{5}-1}{2}$\n",
    "\n",
    "It can be verified that the power of $\\phi^{n+1}$ can be calculated using the simple recursion relationship,\n",
    "\n",
    "$\\phi^{n+1} = \\phi^{n-1} - \\phi^n$"
   ]
  },
  {
   "cell_type": "markdown",
   "metadata": {
    "slideshow": {
     "slide_type": "skip"
    }
   },
   "source": [
    "Therefore by calculating $\\phi^0 = 1$ and $\\phi^1 = 0.618034$ and successively applying the recursion relationship we should be able to calculate as many powers as desired. Let's see this in action:"
   ]
  },
  {
   "cell_type": "markdown",
   "metadata": {
    "slideshow": {
     "slide_type": "subslide"
    }
   },
   "source": [
    "First we'll calculate what we will call the \"exact\" answer by actually evaluating all the power individually. We can do this efficiently with NumPy broadcasting."
   ]
  },
  {
   "cell_type": "code",
   "execution_count": 9,
   "metadata": {},
   "outputs": [],
   "source": [
    "phi_exact = (np.sqrt(5) / 2 - 1 / 2) ** np.arange(80)"
   ]
  },
  {
   "cell_type": "markdown",
   "metadata": {
    "slideshow": {
     "slide_type": "fragment"
    }
   },
   "source": [
    "Next we explicitly will calculate the first 2 powers and use the recursion formula to evaluate the rest."
   ]
  },
  {
   "cell_type": "code",
   "execution_count": 10,
   "metadata": {},
   "outputs": [],
   "source": [
    "phi_recursion = np.zeros(80)\n",
    "phi_recursion[0] = 1\n",
    "phi_recursion[1] = (np.sqrt(5) / 2 - 1 / 2)\n",
    "\n",
    "for n in range(1,79):\n",
    "    phi_recursion[n + 1] = phi_recursion[n - 1] - phi_recursion[n]"
   ]
  },
  {
   "cell_type": "markdown",
   "metadata": {
    "hide_input": true,
    "slideshow": {
     "slide_type": "subslide"
    }
   },
   "source": [
    "Visualizing the results of these two methods."
   ]
  },
  {
   "cell_type": "code",
   "execution_count": 11,
   "metadata": {
    "hide_input": true,
    "tags": [
     "hide_input"
    ]
   },
   "outputs": [
    {
     "data": {
      "image/png": "[encoded data removed]",
      "text/plain": [
       "<Figure size 432x288 with 1 Axes>"
      ]
     },
     "metadata": {
      "needs_background": "light"
     },
     "output_type": "display_data"
    }
   ],
   "source": [
    "fig, ax = plt.subplots()\n",
    "ax.plot(phi_exact, label=r'$\\phi_{\\mathrm{exact}}$')\n",
    "ax.plot(phi_recursion, label=r'$\\phi_{\\mathrm{recusion}}$')\n",
    "ax.set_ylim([-0.001, 0.003])\n",
    "ax.set_ylabel(r'$\\phi$')\n",
    "ax.set_xlabel(r'$n$')\n",
    "ax.legend();"
   ]
  },
  {
   "cell_type": "markdown",
   "metadata": {
    "hide_input": true,
    "slideshow": {
     "slide_type": "skip"
    }
   },
   "source": [
    "The recursion relationship is unstable and cannot be used as stated to solve this problem. Stability of algorithms is something we always need to be aware of as numerical analysts."
   ]
  },
  {
   "cell_type": "code",
   "execution_count": 12,
   "metadata": {
    "hide_input": true,
    "jupyter": {
     "source_hidden": true
    },
    "slideshow": {
     "slide_type": "skip"
    },
    "tags": [
     "remove_cell"
    ]
   },
   "outputs": [
    {
     "data": {
      "application/javascript": [
       "function hideElements(elements, start) {\n",
       "for(var i = 0, length = elements.length; i < length;i++) {\n",
       "    if(i >= start) {\n",
       "        elements[i].style.display = \"none\";\n",
       "    }\n",
       "}\n",
       "}\n",
       "var prompt_elements = document.getElementsByClassName(\"prompt\");\n",
       "hideElements(prompt_elements, 0)\n"
      ],
      "text/plain": [
       "<IPython.core.display.Javascript object>"
      ]
     },
     "metadata": {},
     "output_type": "display_data"
    }
   ],
   "source": [
    "%%javascript\n",
    "function hideElements(elements, start) {\n",
    "for(var i = 0, length = elements.length; i < length;i++) {\n",
    "    if(i >= start) {\n",
    "        elements[i].style.display = \"none\";\n",
    "    }\n",
    "}\n",
    "}\n",
    "var prompt_elements = document.getElementsByClassName(\"prompt\");\n",
    "hideElements(prompt_elements, 0)"
   ]
  }
 ],
 "metadata": {
  "celltoolbar": "Slideshow",
  "kernelspec": {
   "display_name": "Python 3",
   "language": "python",
   "name": "python3"
  },
  "language_info": {
   "codemirror_mode": {
    "name": "ipython",
    "version": 3
   },
   "file_extension": ".py",
   "mimetype": "text/x-python",
   "name": "python",
   "nbconvert_exporter": "python",
   "pygments_lexer": "ipython3",
   "version": "3.8.1"
  },
  "rise": {
   "auto_select": null,
   "autolaunch": false,
   "controls": true,
   "enable_chalkboard": false,
   "footer": "",
   "progress": true,
   "scroll": true,
   "slideNumber": false,
   "theme": "simple"
  },
  "widgets": {
   "application/vnd.jupyter.widget-state+json": {
    "state": {
     "107b95d81fee404a9fd557accd82f583": {
      "model_module": "@jupyter-widgets/base",
      "model_module_version": "1.2.0",
      "model_name": "LayoutModel",
      "state": {}
     },
     "130eeb3a8f6d431abb0f1a6aa7fa04ae": {
      "model_module": "@jupyter-widgets/controls",
      "model_module_version": "1.5.0",
      "model_name": "IntSliderModel",
      "state": {
       "description": "No. of Terms:",
       "layout": "IPY_MODEL_e12923c9d8ba49c38d383a214704b421",
       "max": 20,
       "min": 3,
       "style": "IPY_MODEL_ec409b247112462cb15ef3e5c1efbc4a",
       "value": 3
      }
     },
     "190fe957f9bb4e4088bee522a2b15c40": {
      "model_module": "@jupyter-widgets/controls",
      "model_module_version": "1.5.0",
      "model_name": "VBoxModel",
      "state": {
       "_dom_classes": [
        "widget-interact"
       ],
       "children": [
        "IPY_MODEL_130eeb3a8f6d431abb0f1a6aa7fa04ae",
        "IPY_MODEL_68c2f0af7b4246f4bc4a20e9cb30c3af"
       ],
       "layout": "IPY_MODEL_91f13a4b65b64acbb0dd2f7ee2df8199"
      }
     },
     "1e6d95b879594fb5901ebb0a877d395e": {
      "model_module": "@jupyter-widgets/controls",
      "model_module_version": "1.5.0",
      "model_name": "SliderStyleModel",
      "state": {
       "description_width": ""
      }
     },
     "2574c9790bf54af8a539a72174978639": {
      "model_module": "@jupyter-widgets/controls",
      "model_module_version": "1.5.0",
      "model_name": "IntSliderModel",
      "state": {
       "description": "No. of Terms:",
       "layout": "IPY_MODEL_6f85cf62313d45b091cfa7955d382dba",
       "max": 20,
       "min": 1,
       "style": "IPY_MODEL_77eff4943c9f454399ca3ab25f13eb4c",
       "value": 8
      }
     },
     "27a9d5013cd845ffaad931f9a8d43605": {
      "model_module": "@jupyter-widgets/controls",
      "model_module_version": "1.5.0",
      "model_name": "VBoxModel",
      "state": {
       "_dom_classes": [
        "widget-interact"
       ],
       "children": [
        "IPY_MODEL_2574c9790bf54af8a539a72174978639",
        "IPY_MODEL_b0b3e19a07db458c9554e6c6015b7b87"
       ],
       "layout": "IPY_MODEL_107b95d81fee404a9fd557accd82f583"
      }
     },
     "3814169d676849649b4eaaade85de0ea": {
      "model_module": "@jupyter-widgets/base",
      "model_module_version": "1.2.0",
      "model_name": "LayoutModel",
      "state": {
       "height": "75px"
      }
     },
     "3bce9882e0d542329e33760ee1bba1ea": {
      "model_module": "@jupyter-widgets/controls",
      "model_module_version": "1.5.0",
      "model_name": "SliderStyleModel",
      "state": {
       "description_width": ""
      }
     },
     "45a6895dbbbe48aab83ab2b5d356d2fc": {
      "model_module": "@jupyter-widgets/output",
      "model_module_version": "1.0.0",
      "model_name": "OutputModel",
      "state": {
       "layout": "IPY_MODEL_8236498f8bcf4892b2e1d69d08e305d7",
       "outputs": [
        {
         "data": {
          "image/png": "iVBORw0KGgoAAAANSUhEUgAAAAgAAAAPCAYAAADZCo4zAAAACXBIWXMAAA7EAAAOxAGVKw4bAAAAX0lEQVQYGWP8//8/Az7AhCzJyMgYAsTvgVgAJs4C5cwGCrwDYiEghkuCFYGsgGGgQBkQg+wUgImhWAHWgUaMKoAECCMoxIDBPRPIBQWzCxCDgvocEN8D4t1gBUAGTgAAQFIgDGUiF8EAAAAASUVORK5CYII=\n",
          "text/latex": "$\\displaystyle 1$",
          "text/plain": "1"
         },
         "metadata": {},
         "output_type": "display_data"
        },
        {
         "data": {
          "text/markdown": "Error = $1$",
          "text/plain": "<IPython.core.display.Markdown object>"
         },
         "metadata": {},
         "output_type": "display_data"
        }
       ]
      }
     },
     "4d02c4d2089e4aec9fb5f9646dfe2831": {
      "model_module": "@jupyter-widgets/base",
      "model_module_version": "1.2.0",
      "model_name": "LayoutModel",
      "state": {
       "height": "75px"
      }
     },
     "5c76c93a646a433694defffe2a38c2b1": {
      "model_module": "@jupyter-widgets/controls",
      "model_module_version": "1.5.0",
      "model_name": "VBoxModel",
      "state": {
       "_dom_classes": [
        "widget-interact"
       ],
       "children": [
        "IPY_MODEL_62469f7958c24472b2e3af3bd96471df",
        "IPY_MODEL_45a6895dbbbe48aab83ab2b5d356d2fc"
       ],
       "layout": "IPY_MODEL_5ccea3cec4514e2cbe722740449c3f88"
      }
     },
     "5ccea3cec4514e2cbe722740449c3f88": {
      "model_module": "@jupyter-widgets/base",
      "model_module_version": "1.2.0",
      "model_name": "LayoutModel",
      "state": {}
     },
     "604a12c2d9374d14a1c4872dc4b2d660": {
      "model_module": "@jupyter-widgets/base",
      "model_module_version": "1.2.0",
      "model_name": "LayoutModel",
      "state": {}
     },
     "62469f7958c24472b2e3af3bd96471df": {
      "model_module": "@jupyter-widgets/controls",
      "model_module_version": "1.5.0",
      "model_name": "IntSliderModel",
      "state": {
       "description": "No. of Terms:",
       "layout": "IPY_MODEL_d989cb73ee15452eb6cafbd1ccc6b444",
       "max": 20,
       "min": 1,
       "style": "IPY_MODEL_3bce9882e0d542329e33760ee1bba1ea",
       "value": 1
      }
     },
     "68c2f0af7b4246f4bc4a20e9cb30c3af": {
      "model_module": "@jupyter-widgets/output",
      "model_module_version": "1.0.0",
      "model_name": "OutputModel",
      "state": {
       "layout": "IPY_MODEL_a8588402eb6a4c9c8af8e5214e2d058b",
       "outputs": [
        {
         "data": {
          "image/png": "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\n",
          "text/plain": "<Figure size 432x288 with 1 Axes>"
         },
         "metadata": {
          "needs_background": "light"
         },
         "output_type": "display_data"
        }
       ]
      }
     },
     "6f85cf62313d45b091cfa7955d382dba": {
      "model_module": "@jupyter-widgets/base",
      "model_module_version": "1.2.0",
      "model_name": "LayoutModel",
      "state": {}
     },
     "7544e1bc5a1c41119cbe8ead89573614": {
      "model_module": "@jupyter-widgets/base",
      "model_module_version": "1.2.0",
      "model_name": "LayoutModel",
      "state": {}
     },
     "77eff4943c9f454399ca3ab25f13eb4c": {
      "model_module": "@jupyter-widgets/controls",
      "model_module_version": "1.5.0",
      "model_name": "SliderStyleModel",
      "state": {
       "description_width": ""
      }
     },
     "8236498f8bcf4892b2e1d69d08e305d7": {
      "model_module": "@jupyter-widgets/base",
      "model_module_version": "1.2.0",
      "model_name": "LayoutModel",
      "state": {
       "height": "75px"
      }
     },
     "8326e610c5194f9eadba749e4ef4c3e6": {
      "model_module": "@jupyter-widgets/controls",
      "model_module_version": "1.5.0",
      "model_name": "IntSliderModel",
      "state": {
       "description": "No. of Terms:",
       "layout": "IPY_MODEL_7544e1bc5a1c41119cbe8ead89573614",
       "max": 20,
       "min": 1,
       "style": "IPY_MODEL_1e6d95b879594fb5901ebb0a877d395e",
       "value": 1
      }
     },
     "91f13a4b65b64acbb0dd2f7ee2df8199": {
      "model_module": "@jupyter-widgets/base",
      "model_module_version": "1.2.0",
      "model_name": "LayoutModel",
      "state": {}
     },
     "a8588402eb6a4c9c8af8e5214e2d058b": {
      "model_module": "@jupyter-widgets/base",
      "model_module_version": "1.2.0",
      "model_name": "LayoutModel",
      "state": {
       "height": "320px"
      }
     },
     "b0b3e19a07db458c9554e6c6015b7b87": {
      "model_module": "@jupyter-widgets/output",
      "model_module_version": "1.0.0",
      "model_name": "OutputModel",
      "state": {
       "layout": "IPY_MODEL_3814169d676849649b4eaaade85de0ea",
       "outputs": [
        {
         "data": {
          "image/png": "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\n",
          "text/latex": "$\\displaystyle \\frac{x^{7}}{5040} - \\frac{x^{5}}{120} + \\frac{x^{3}}{6} - x + 1$",
          "text/plain": "  7      5    3        \n x      x    x         \n──── - ─── + ── - x + 1\n5040   120   6         "
         },
         "metadata": {},
         "output_type": "display_data"
        },
        {
         "data": {
          "text/markdown": "Error = $0.000156898600501276$",
          "text/plain": "<IPython.core.display.Markdown object>"
         },
         "metadata": {},
         "output_type": "display_data"
        }
       ]
      }
     },
     "d989cb73ee15452eb6cafbd1ccc6b444": {
      "model_module": "@jupyter-widgets/base",
      "model_module_version": "1.2.0",
      "model_name": "LayoutModel",
      "state": {}
     },
     "e12923c9d8ba49c38d383a214704b421": {
      "model_module": "@jupyter-widgets/base",
      "model_module_version": "1.2.0",
      "model_name": "LayoutModel",
      "state": {}
     },
     "ec409b247112462cb15ef3e5c1efbc4a": {
      "model_module": "@jupyter-widgets/controls",
      "model_module_version": "1.5.0",
      "model_name": "SliderStyleModel",
      "state": {
       "description_width": ""
      }
     },
     "f5b6b3f44da3486bac16ea2128a81877": {
      "model_module": "@jupyter-widgets/controls",
      "model_module_version": "1.5.0",
      "model_name": "VBoxModel",
      "state": {
       "_dom_classes": [
        "widget-interact"
       ],
       "children": [
        "IPY_MODEL_8326e610c5194f9eadba749e4ef4c3e6",
        "IPY_MODEL_fe1e71970a5d48f096e5cda2e60ca3f0"
       ],
       "layout": "IPY_MODEL_604a12c2d9374d14a1c4872dc4b2d660"
      }
     },
     "fe1e71970a5d48f096e5cda2e60ca3f0": {
      "model_module": "@jupyter-widgets/output",
      "model_module_version": "1.0.0",
      "model_name": "OutputModel",
      "state": {
       "layout": "IPY_MODEL_4d02c4d2089e4aec9fb5f9646dfe2831",
       "outputs": [
        {
         "data": {
          "image/png": "iVBORw0KGgoAAAANSUhEUgAAAAgAAAAPCAYAAADZCo4zAAAACXBIWXMAAA7EAAAOxAGVKw4bAAAAYklEQVQYGWP8//8/Az7AgizZ0NAQAuTPBmJFIPsDSI4FyBAA0iDBd0AsBMQgPhwwIlsBVFwGlOkEYkGYCUxwpTgYowogAQMOSWCozQRyQcHsAsSgoD4HxPeAeDdKUAMFMAAAyjceNA07zUwAAAAASUVORK5CYII=\n",
          "text/latex": "$\\displaystyle 1$",
          "text/plain": "1"
         },
         "metadata": {},
         "output_type": "display_data"
        },
        {
         "data": {
          "text/markdown": "Error = $1$",
          "text/plain": "<IPython.core.display.Markdown object>"
         },
         "metadata": {},
         "output_type": "display_data"
        }
       ]
      }
     }
    },
    "version_major": 2,
    "version_minor": 0
   }
  }
 },
 "nbformat": 4,
 "nbformat_minor": 4
}

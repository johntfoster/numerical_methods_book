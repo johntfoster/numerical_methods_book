{
 "cells": [
  {
   "cell_type": "markdown",
   "metadata": {
    "slideshow": {
     "slide_type": "slide"
    },
    "tags": [
     "remove_cell"
    ]
   },
   "source": [
    "\n",
    "<table>\n",
    "    <tr>\n",
    "        <td align=\"center\" style=\"background-color : white\">\n",
    "            <img src=\"https://bokeh.pydata.org/en/latest/_static/images/logo.png\" alt=\"Bokeh\" width=100>\n",
    "        </td>\n",
    "    </tr>\n",
    "    <tr>\n",
    "        <td align=\"center\" style=\"background-color : white\">\n",
    "            <a href=\"https://bokeh.pydata.org/\" style=\"font-size: 30px; background-color: white; border: hidden;\">https://bokeh.pydata.org</a>\n",
    "        </td>\n",
    "    </tr>\n",
    "</table>\n",
    "      "
   ]
  },
  {
   "cell_type": "markdown",
   "metadata": {
    "slideshow": {
     "slide_type": "subslide"
    }
   },
   "source": [
    "Bokeh is an interactive visualization library that targets modern web browsers for presentation. It is good for:\n",
    "\n",
    "* Interactive visualization in modern browsers\n",
    "* Standalone HTML documents, or server-backed apps\n",
    "* Large, dynamic or streaming data"
   ]
  },
  {
   "cell_type": "markdown",
   "metadata": {
    "slideshow": {
     "slide_type": "skip"
    }
   },
   "source": [
    "among other things like plotting spatial data on maps.  While it is best utilized in Jupyter notebooks and for creating visualizations in HTML and Javascript, it has the ability to generate output files in formats like PNG and SVG.  Bokeh is also capable of creating great looking visualizations with very few commands."
   ]
  },
  {
   "cell_type": "markdown",
   "metadata": {
    "slideshow": {
     "slide_type": "skip"
    }
   },
   "source": [
    "Bokeh has several submodules and generally requires quite a few imports.  `bokeh.io` is used to establish where the output plot is intended to be displayed.  `bokeh.plotting` provides functions to create figures and glyphs for a plot/graphic.  `bokeh.models` gives the user a way to turn Python dictionaries or Pandas DataFrames into data that Bokeh can display quickly.  The imports relevant to our discussion are shown below.  Of particular importance is the `bokeh.io.output_notebook` function that gives us the ability to display Bokeh plots in output cells of Jupyter notebooks."
   ]
  },
  {
   "cell_type": "code",
   "execution_count": null,
   "metadata": {
    "hide_input": false,
    "slideshow": {
     "slide_type": "skip"
    },
    "tags": [
     "hide_output"
    ]
   },
   "outputs": [],
   "source": [
    "import bokeh.io\n",
    "import bokeh.plotting\n",
    "import bokeh.models\n",
    "\n",
    "import numpy as np\n",
    "import pandas as pd\n",
    "\n",
    "import os\n",
    "\n",
    "bokeh.io.output_notebook()"
   ]
  },
  {
   "cell_type": "code",
   "execution_count": null,
   "metadata": {
    "slideshow": {
     "slide_type": "skip"
    },
    "tags": [
     "remove_cell"
    ]
   },
   "outputs": [],
   "source": [
    "from bokeh.embed import file_html\n",
    "from bokeh.resources import CDN\n",
    "import IPython"
   ]
  },
  {
   "cell_type": "code",
   "execution_count": null,
   "metadata": {
    "slideshow": {
     "slide_type": "skip"
    },
    "tags": [
     "remove_cell",
     "daytum"
    ]
   },
   "outputs": [],
   "source": [
    "from intake import cat"
   ]
  },
  {
   "cell_type": "markdown",
   "metadata": {
    "slideshow": {
     "slide_type": "slide"
    }
   },
   "source": [
    "## Creating a simple Bokeh plot"
   ]
  },
  {
   "cell_type": "markdown",
   "metadata": {
    "slideshow": {
     "slide_type": "skip"
    }
   },
   "source": [
    "There are three things required for a Bokeh plot:"
   ]
  },
  {
   "cell_type": "markdown",
   "metadata": {},
   "source": [
    " * `figure()` --   Controls the *canvas*.  Things like:  figure size, title, interactive tools, toolbar location.\n",
    " * data source --  possibly from a Pandas Dataframe\n",
    " * glyphs or line types -- the data points and/or line styles"
   ]
  },
  {
   "cell_type": "markdown",
   "metadata": {
    "slideshow": {
     "slide_type": "skip"
    }
   },
   "source": [
    "An example is shown below.  First we load our CSV file into a Pandas DataFrame."
   ]
  },
  {
   "cell_type": "code",
   "execution_count": null,
   "metadata": {
    "slideshow": {
     "scrolled": true,
     "slide_type": "subslide"
    },
    "tags": [
     "no_daytum"
    ]
   },
   "outputs": [],
   "source": [
    "df = pd.read_csv('datasets/200wells.csv'); df.head(n=3)"
   ]
  },
  {
   "cell_type": "code",
   "execution_count": null,
   "metadata": {
    "slideshow": {
     "scrolled": true,
     "slide_type": "subslide"
    },
    "tags": [
     "daytum"
    ]
   },
   "outputs": [],
   "source": [
    "df = cat.MV_2D_200wells.read(); df.head(n=3)"
   ]
  },
  {
   "cell_type": "markdown",
   "metadata": {
    "slideshow": {
     "slide_type": "skip"
    }
   },
   "source": [
    "The Bokeh plotting commands are then"
   ]
  },
  {
   "cell_type": "markdown",
   "metadata": {
    "slideshow": {
     "slide_type": "skip"
    },
    "tags": [
     "popout"
    ]
   },
   "source": [
    "The `ColumnDataSource` class converts our Panda's DataFrame into a Bokeh source for plotting.  The `circle` member function creates the glyph to display.  There are others such as `Line` or `Arc`.  The full list is [here](https://docs.bokeh.org/en/latest/docs/reference/models/glyphs.html)."
   ]
  },
  {
   "cell_type": "code",
   "execution_count": null,
   "metadata": {
    "slideshow": {
     "scrolled": true,
     "slide_type": "-"
    },
    "tags": [
     "remove_output"
    ]
   },
   "outputs": [],
   "source": [
    "p = bokeh.plotting.figure()\n",
    "\n",
    "data_source = bokeh.models.ColumnDataSource(df)\n",
    "\n",
    "p.circle(x='porosity', y='permeability', source=data_source)\n",
    "\n",
    "bokeh.io.show(p)"
   ]
  },
  {
   "cell_type": "code",
   "execution_count": null,
   "metadata": {
    "slideshow": {
     "scrolled": true,
     "slide_type": "skip"
    },
    "tags": [
     "remove_input",
     "full_width"
    ]
   },
   "outputs": [],
   "source": [
    "html_repr = file_html(p, CDN)\n",
    "IPython.display.display(IPython.display.HTML(html_repr))"
   ]
  },
  {
   "cell_type": "markdown",
   "metadata": {
    "slideshow": {
     "scrolled": true,
     "slide_type": "subslide"
    }
   },
   "source": [
    "## Styling the plot"
   ]
  },
  {
   "cell_type": "code",
   "execution_count": null,
   "metadata": {
    "slideshow": {
     "scrolled": true
    },
    "tags": [
     "no_daytum"
    ]
   },
   "outputs": [],
   "source": [
    "df = pd.read_csv('datasets/33013014020000.csv', parse_dates=['date'])"
   ]
  },
  {
   "cell_type": "code",
   "execution_count": null,
   "metadata": {
    "slideshow": {
     "scrolled": true
    },
    "tags": [
     "daytum"
    ]
   },
   "outputs": [],
   "source": [
    "df = cat.production_by_api(api='33013014020000').read()"
   ]
  },
  {
   "cell_type": "markdown",
   "metadata": {
    "slideshow": {
     "slide_type": "skip"
    }
   },
   "source": [
    "The previous example used a minimum amount of styling available to produce the Bokeh plot.  This example shows more options such as those used for plotting time series data, adding labels, controlling the tools available in the toolbar, etc.  More visual styling options can be seen in the [Bokeh documentation](https://docs.bokeh.org/en/latest/docs/user_guide/styling.html)."
   ]
  },
  {
   "cell_type": "code",
   "execution_count": null,
   "metadata": {
    "slideshow": {
     "scrolled": true
    }
   },
   "outputs": [],
   "source": [
    "p = bokeh.plotting.figure(plot_width=400, plot_height=300, \n",
    "                          x_axis_type='datetime', x_axis_label='Date', \n",
    "                          y_axis_label='Oil (bbls)', tools='pan,box_zoom')\n",
    "\n",
    "data_source = bokeh.models.ColumnDataSource(df)\n",
    "\n",
    "p.line(x='date', y='oil', source=data_source)\n",
    "\n",
    "bokeh.io.show(p)"
   ]
  },
  {
   "cell_type": "code",
   "execution_count": null,
   "metadata": {
    "slideshow": {
     "slide_type": "skip"
    },
    "tags": [
     "remove_input",
     "full_width"
    ]
   },
   "outputs": [],
   "source": [
    "html_repr = file_html(p, CDN)\n",
    "IPython.display.display(IPython.display.HTML(html_repr))"
   ]
  },
  {
   "cell_type": "markdown",
   "metadata": {
    "slideshow": {
     "scrolled": true,
     "slide_type": "subslide"
    }
   },
   "source": [
    "## Plotting Geo data"
   ]
  },
  {
   "cell_type": "markdown",
   "metadata": {
    "slideshow": {
     "slide_type": "skip"
    }
   },
   "source": [
    "Bokeh offers a couple of options for visualizing geographic and/or spatial data on maps. It's interactivity makes it a superior library to Matplotlib for these kinds of plots, especially when the intended output is a Jupyter notebook or website.  \n",
    "\n",
    "In the example below we will plot all of Pioneer Natural Resources' (PDX) oil and gas wells in the Permian basin on a Google map.  First we read in the latitude and longitude information from a CSV file into a Pandas DataFrame"
   ]
  },
  {
   "cell_type": "code",
   "execution_count": null,
   "metadata": {
    "tags": [
     "no_daytum"
    ]
   },
   "outputs": [],
   "source": [
    "df = pd.read_csv('datasets/pxd_permian_wells.csv'); df.head(n=3)"
   ]
  },
  {
   "cell_type": "code",
   "execution_count": null,
   "metadata": {
    "tags": [
     "daytum"
    ]
   },
   "outputs": [],
   "source": [
    "df = cat.well_columns(columns='latitude_surface_hole,longitude_surface_hole', \n",
    "                      where=\"parent_ticker='PXD' AND basin_name='PERMIAN'\").read().dropna()"
   ]
  },
  {
   "cell_type": "markdown",
   "metadata": {
    "slideshow": {
     "slide_type": "skip"
    }
   },
   "source": [
    "To plot data on Google maps in Bokeh uses several special features that deviate somewhat from the standard Bokeh `figure` class, but instead used a dedicated `bokeh.models.GMapOptions` class to set map options as well as `bokeh.plotting.gmap` for creating the figure.  After figure creation, setting a data source and adding glyphs proceeds as usual."
   ]
  },
  {
   "cell_type": "markdown",
   "metadata": {
    "slideshow": {
     "slide_type": "skip"
    },
    "tags": [
     "popout"
    ]
   },
   "source": [
    "The `gmap` class requires a Google API key as the first argument.  In this example, the API key is taken from a system environment variable called `'GOOGLE_API_KEY'`.  Instructions for getting an API key are [here](https://developers.google.com/places/web-service/get-api-key)."
   ]
  },
  {
   "cell_type": "code",
   "execution_count": null,
   "metadata": {
    "slideshow": {
     "slide_type": "-"
    }
   },
   "outputs": [],
   "source": [
    "map_options = bokeh.models.GMapOptions(lat=np.mean(df['latitude_surface_hole'].values), \n",
    "                                       lng=np.mean(df['longitude_surface_hole'].values), \n",
    "                                       map_type=\"terrain\", zoom=5)\n",
    "\n",
    "p = bokeh.plotting.gmap(os.environ['GOOGLE_API_KEY'], map_options, title=\"Well Locations\", \n",
    "                      tools='box_select,tap,pan,wheel_zoom,reset', width=600, height=400)\n",
    "\n",
    "source = bokeh.models.ColumnDataSource(df)\n",
    "\n",
    "p.circle(x='longitude_surface_hole', y='latitude_surface_hole', size=15, \n",
    "         fill_color=\"blue\", fill_alpha=0.8, source=source)\n",
    "\n",
    "bokeh.io.show(p)"
   ]
  },
  {
   "cell_type": "code",
   "execution_count": null,
   "metadata": {
    "slideshow": {
     "slide_type": "skip"
    },
    "tags": [
     "remove_input",
     "full_width"
    ]
   },
   "outputs": [],
   "source": [
    "html_repr = file_html(p, CDN)\n",
    "IPython.display.display(IPython.display.HTML(html_repr))"
   ]
  },
  {
   "cell_type": "markdown",
   "metadata": {
    "slideshow": {
     "slide_type": "subslide"
    }
   },
   "source": [
    "### Other tile providers"
   ]
  },
  {
   "cell_type": "markdown",
   "metadata": {
    "slideshow": {
     "slide_type": "-"
    },
    "tags": [
     "remove_cell"
    ]
   },
   "source": [
    " * [Carto](https://carto.com/)\n",
    " * [OpenStreetMap](https://www.openstreetmap.org/)\n",
    " * [WikiMedia](https://foundation.wikimedia.org/)\n",
    " * [ESRI](https://www.esri.com/)"
   ]
  },
  {
   "cell_type": "markdown",
   "metadata": {
    "slideshow": {
     "slide_type": "skip"
    }
   },
   "source": [
    "In addition to Google, there are other map tile providers such as [Carto](https://carto.com/), [OpenStreetMap](https://www.openstreetmap.org/), [WikiMedia](https://foundation.wikimedia.org/), and [ESRI](https://www.esri.com/) to provide the map backgrounds.  The following example, is a fairly complex example that shows off a different tile provider along with some interactivity in a Bokeh plot.  The code for this is beyond the scope of this introduction, but hopefully this gives you a few ideas of the types of things that you can do in Bokeh."
   ]
  },
  {
   "cell_type": "markdown",
   "metadata": {
    "slideshow": {
     "slide_type": "skip"
    },
    "tags": [
     "popout"
    ]
   },
   "source": [
    "Hovering your mouse over wells in the contour plot displays tooltip information as well as updates the time series plot with production data.  To \"freeze\" the production plot on a particular well(s), click on the well.  To return to full interactivity, click anywhere on the canvas away from a well."
   ]
  },
  {
   "cell_type": "code",
   "execution_count": null,
   "metadata": {
    "hide_input": true,
    "slideshow": {
     "slide_type": "subslide"
    },
    "tags": [
     "remove_input"
    ]
   },
   "outputs": [],
   "source": [
    "IPython.display.IFrame(src=\"https://johnfoster.pge.utexas.edu/files/nd_production.html\", width=510, height=655)"
   ]
  },
  {
   "cell_type": "markdown",
   "metadata": {
    "slideshow": {
     "slide_type": "slide"
    }
   },
   "source": [
    "## Advanced Bokeh Features "
   ]
  },
  {
   "cell_type": "markdown",
   "metadata": {
    "tags": [
     "remove_cell"
    ]
   },
   "source": [
    "* Widgets w/ callbacks to Python kernel (but try [Panel](https://panel.holoviz.org/))\n",
    "* Serve interactive standalone applications with `bokeh serve`"
   ]
  },
  {
   "cell_type": "markdown",
   "metadata": {
    "slideshow": {
     "slide_type": "skip"
    }
   },
   "source": [
    "With Bokeh, you can make sophisticated interactive visualizations with *callbacks*.  There are two types of callbacks: \n",
    "\n",
    " 1. *Javascript callbacks* allow for transformations of the plot's data sources and other features, e.g. $x$/$y$-axis scaling, by writing Javascript code that is executed on set interactions, e.g. clicking or hovering over a glyph.  These allow for fast updating of the plot display while maintaining the \"stand alone\" nature of the figure, i.e. plots can still be output to stand alone HTML and embedded in web sites backed by standard web servers.  Javascript callback are used to provide the interactivity in the previous example. \n",
    " \n",
    " 2. *Python callbacks* allow for transformations of *any and all* plot features, data sources, etc. through the execution of arbitrary Python code.  These types of callbacks require a [Bokeh server](https://docs.bokeh.org/en/latest/docs/user_guide/server.html) to be running such that the Python code can be executed. \n",
    "\n",
    "Both types of callbacks can be used with *widgets*, although an easier-to-use widget toolkit built on top of Bokeh, called [Panel](https://panel.holoviz.org/) is recommended for sophisticated widget and dashboard creation."
   ]
  },
  {
   "cell_type": "markdown",
   "metadata": {
    "slideshow": {
     "slide_type": "slide"
    }
   },
   "source": [
    "## Other Python plotting libraries \n",
    "\n",
    "There are several other great plotting libraries for Python"
   ]
  },
  {
   "cell_type": "markdown",
   "metadata": {
    "tags": [
     "remove_cell"
    ]
   },
   "source": [
    "  * [Matplotlib](https://matplotlib.org/)\n",
    "  * [Holoviews](http://holoviews.org/)\n",
    "  * [Plotly](https://plot.ly/)\n",
    "  * [Altair](https://altair-viz.github.io/)"
   ]
  },
  {
   "cell_type": "markdown",
   "metadata": {
    "slideshow": {
     "slide_type": "skip"
    }
   },
   "source": [
    "[Matplotlib](https://matplotlib.org/) is the defacto-standard plotting library for Python.  It has the ability to create virtually any two-dimensional visualization you have ever seen including standard plots, bar charts, box plots, contour and surface plots, etc. \n",
    "\n",
    "[Holoviews](http://holoviews.org/) is a plotting package with a similar interface to Bokeh, but allows you to chose the backend to be either Bokeh (best for web) or Matplotlib (best for print publications) from a unified front end.\n",
    "\n",
    "[Plotly](https://plot.ly/) is another modern plotting library primarily targeting web-based visualizations and offers built in dashboarding capabilities.\n",
    "\n",
    "[Altair](https://altair-viz.github.io/), the newest of the group, is based on [Vega](https://vega.github.io/vega/), a visualization grammar similar to the [Grammar of Graphics](https://vita.had.co.nz/papers/layered-grammar.html) implementation in the R programming language."
   ]
  },
  {
   "cell_type": "markdown",
   "metadata": {
    "slideshow": {
     "slide_type": "skip"
    }
   },
   "source": [
    "## Further Reading\n",
    "\n",
    "Further reading on Bokeh can be found in the [official documentation](https://docs.bokeh.org/en/latest/index.html)."
   ]
  },
  {
   "cell_type": "code",
   "execution_count": 2,
   "metadata": {
    "hide_input": true,
    "init_cell": true,
    "javascript_last_cell": true,
    "jupyter": {
     "source_hidden": true
    },
    "slideshow": {
     "slide_type": "skip"
    },
    "tags": [
     "remove_cell"
    ]
   },
   "outputs": [
    {
     "data": {
      "application/javascript": [
       "function hideElements(elements, start) {\n",
       "for(var i = 0, length = elements.length; i < length;i++) {\n",
       "    if(i >= start) {\n",
       "        elements[i].style.display = \"none\";\n",
       "    }\n",
       "}\n",
       "}\n",
       "var prompt_elements = document.getElementsByClassName(\"prompt\");\n",
       "hideElements(prompt_elements, 0)\n"
      ],
      "text/plain": [
       "<IPython.core.display.Javascript object>"
      ]
     },
     "metadata": {},
     "output_type": "display_data"
    }
   ],
   "source": [
    "%%javascript\n",
    "function hideElements(elements, start) {\n",
    "for(var i = 0, length = elements.length; i < length;i++) {\n",
    "    if(i >= start) {\n",
    "        elements[i].style.display = \"none\";\n",
    "    }\n",
    "}\n",
    "}\n",
    "var prompt_elements = document.getElementsByClassName(\"prompt\");\n",
    "hideElements(prompt_elements, 0)"
   ]
  }
 ],
 "metadata": {
  "celltoolbar": "Edit Metadata",
  "kernelspec": {
   "display_name": "Python 3",
   "language": "python",
   "name": "python3"
  },
  "language_info": {
   "codemirror_mode": {
    "name": "ipython",
    "version": 3
   },
   "file_extension": ".py",
   "mimetype": "text/x-python",
   "name": "python",
   "nbconvert_exporter": "python",
   "pygments_lexer": "ipython3",
   "version": "3.8.1"
  },
  "rise": {
   "auto_select": null,
   "autolaunch": false,
   "controls": true,
   "enable_chalkboard": false,
   "footer": "",
   "progress": true,
   "scroll": true,
   "slideNumber": false,
   "theme": "simple"
  }
 },
 "nbformat": 4,
 "nbformat_minor": 4
}

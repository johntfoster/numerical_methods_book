{
 "cells": [
  {
   "cell_type": "markdown",
   "metadata": {
    "slideshow": {
     "slide_type": "slide"
    },
    "tags": [
     "remove_cell"
    ]
   },
   "source": [
    "# $\\mathbf{LU}$ Factorization ($\\mathbf{LU}$ Decomposition)"
   ]
  },
  {
   "cell_type": "markdown",
   "metadata": {
    "slideshow": {
     "slide_type": "skip"
    }
   },
   "source": [
    "Any non-singular matrix $\\mathbf{A}$ can be factored into a lower triangular matrix $\\mathbf{L}$, and upper triangular matrix $\\mathbf{U}$ using procedures we have already established with Gaussian elimination. This proves very useful for numerical computation and is, in fact, one of the most common ways most packaged linear algebra solvers solve non-sparse linear systems.\n",
    "\n",
    "Previously, we learned that by using Gaussian elimination we can solve the linear system $\\mathbf{A}\\vec{x} = \\vec{b}$ in $O\\left(\\frac{1}{3}n^3\\right)$ arithmetic operations to determine $\\vec{x}$. It turns out if $\\mathbf{A}$ has the form $\\mathbf{A=LU}$ we can solve for $\\vec{x}$ using a two step process. First we let $\\vec{y}=\\mathbf{U}\\vec{x}$ and solve the system for $L\\vec{y}=\\vec{b}$ for $\\vec{y}$. Since $\\mathbf{L}$ is lower triangular we use a forward substitution process that only takes $O\\left(n^2\\right)$ operations. Once $\\vec{y}$ is known, the upper triangular system $\\mathbf{U}\\vec{x}=\\vec{y}$ can be solved with back substitution in $O\\left(n^2\\right)$ operations. Therefore using this procedure we can reduce the solution of $\n",
    "\\mathbf{A}\\vec{x} = \\vec{b}$ from $O\\left(\\frac{1}{3}n^3\\right)$ to $O\\left(2n^2\\right)$ operations. For large systems this can reduce the calculation time by more than 95%. Determining the $\\mathbf{L}$ and $\\mathbf{U}$ matrices still takes $O\\left(\\frac{1}{3}n^3\\right)$, but it only has to be done for a single $\\mathbf{A}$ matrix and can be used efficiently to solve for $\\vec{x}$ with many right-hand side vectors, $\\vec{b}$.\n",
    "\n",
    "We already know one way to transform $\\mathbf{A}$ into $\\mathbf{U}$ by using Gaussian elimination. We will leave the proof for linear algebra class, but we find $\\mathbf{L}$ by performing negations of the same operations on the identity matrix in reverse order. For example when going $\\mathbf{A}\\rightarrow \\mathbf{U}$ if we perform the row operation\n",
    "\n",
    "$$\n",
    "E_i - m_{ji}E_j\\rightarrow E_i\n",
    "$$\n",
    "\n",
    "to undo this and return to $\\mathbf{A}$ we would perform\n",
    "\n",
    "$$\n",
    "E_i+m_{ji}E_j\\rightarrow E_i\n",
    "$$\n",
    "\n",
    "by performing the second operation on the identity matrix with the same dimensions as $\\mathbf{A}$ we will end up with an $\\mathbf{L}$. I emphasize *an* here because this is only one way to decompose $\\mathbf{A}$ into $\\mathbf{L}$ and $\\mathbf{U}$, there are other methods and an infinite number of $\\mathbf{L}$ and $\\mathbf{U}$ matrices, i.e. they are not unique."
   ]
  },
  {
   "cell_type": "markdown",
   "metadata": {
    "slideshow": {
     "slide_type": "subslide"
    }
   },
   "source": [
    "## $\\mathbf{LU}$ Example\n",
    "\n",
    "We will look at a simple example and write out the row operations.\n",
    "\n",
    "$$\n",
    "\\mathbf{A} = \\begin{bmatrix}1&1&0\\\\2&1&-1\\\\3&-1&-1\\end{bmatrix}\n",
    "\\xrightarrow{E_2-2E_1}\n",
    "\\begin{bmatrix}1&1&0\\\\0&-1&-1\\\\3&-1&-1\\end{bmatrix}\n",
    "\\xrightarrow{E_3-3E_1}\n",
    "\\begin{bmatrix}1&1&0\\\\0&-1&-1\\\\0&-4&-1\\end{bmatrix}\n",
    "\\xrightarrow{E_3-4E_2}\n",
    "\\begin{bmatrix}1&1&0\\\\0&-1&-1\\\\0&0&3\\end{bmatrix} = \\mathbf{U}\n",
    "$$"
   ]
  },
  {
   "cell_type": "markdown",
   "metadata": {
    "slideshow": {
     "slide_type": "fragment"
    }
   },
   "source": [
    "$$\n",
    "\\mathbf{I} = \\begin{bmatrix}1&0&0\\\\0&1&0\\\\0&0&1\\end{bmatrix}\n",
    "\\xrightarrow{E_3+4E_2}\n",
    "\\begin{bmatrix}1&0&0\\\\0&1&0\\\\0&4&1\\end{bmatrix}\n",
    "\\xrightarrow{E_3+3E_1}\n",
    "\\begin{bmatrix}1&0&0\\\\0&1&0\\\\3&4&1\\end{bmatrix}\n",
    "\\xrightarrow{E_2+2E_1}\n",
    "\\begin{bmatrix}1&0&0\\\\2&1&0\\\\3&4&1\\end{bmatrix} = \\mathbf{L}\n",
    "$$"
   ]
  },
  {
   "cell_type": "markdown",
   "metadata": {
    "slideshow": {
     "slide_type": "fragment"
    }
   },
   "source": [
    "Let's check our results with Python"
   ]
  },
  {
   "cell_type": "code",
   "execution_count": 1,
   "metadata": {
    "slideshow": {
     "slide_type": "skip"
    },
    "tags": [
     "remove_cell"
    ]
   },
   "outputs": [],
   "source": [
    "import numpy as np"
   ]
  },
  {
   "cell_type": "code",
   "execution_count": 31,
   "metadata": {
    "collapsed": false,
    "jupyter": {
     "outputs_hidden": false
    },
    "slideshow": {
     "slide_type": "-"
    }
   },
   "outputs": [
    {
     "data": {
      "text/plain": [
       "array([[ 1,  1,  0],\n",
       "       [ 2,  1, -1],\n",
       "       [ 3, -1, -1]])"
      ]
     },
     "execution_count": 31,
     "metadata": {},
     "output_type": "execute_result"
    }
   ],
   "source": [
    "L = np.array([[1,0,0],[2,1,0],[3,4,1]])\n",
    "U = np.array([[1,1,0],[0,-1,-1],[0,0,3]])\n",
    "L @ U"
   ]
  },
  {
   "cell_type": "markdown",
   "metadata": {
    "slideshow": {
     "slide_type": "skip"
    }
   },
   "source": [
    "Notice that the entries in $\\mathbf{L}$ below the diagonal are simply the $m_{ij}$'s therefore we do not actually have to perform the row operations we can simply insert the $m_{ij}$ components into their proper place and move forward."
   ]
  },
  {
   "cell_type": "markdown",
   "metadata": {
    "slideshow": {
     "slide_type": "subslide"
    }
   },
   "source": [
    "### Psuedocode for a simple $\\mathbf{LU}$ factorization\n",
    "\n",
    "Consider the matricies:\n",
    "\n",
    "\\begin{equation}\n",
    "\\mathbf{A} = \\begin{pmatrix}a_{11}&a_{12}&\\ldots&a_{1n}\\\\a_{21}&\\ddots& &a_{2n}\\\\\\vdots& &\\ddots& \\vdots\\\\a_{n1}&...&...&a_{nn}\\end{pmatrix},\n",
    "\\mathbf{L} = \\begin{pmatrix}l_{11}&l_{12}&\\ldots&l_{1n}\\\\l_{21}&\\ddots& &l_{2n}\\\\\\vdots& &\\ddots& \\vdots\\\\l_{n1}&...&...&l_{nn}\\end{pmatrix},\\\\\n",
    "\\mathbf{U} = \\begin{pmatrix}u_{11}&u_{12}&\\ldots&u_{1n}\\\\u_{21}&\\ddots& &u_{2n}\\\\\\vdots& &\\ddots& \\vdots\\\\u_{n1}&...&...&u_{nn}\\end{pmatrix}\n",
    "\\end{equation}\n",
    "\n",
    "| Steps | |\n",
    "|--: | :-- |\n",
    "| 1. | Initialize $\\mathbf{L}$ to an identity matrix, $\\mathbf{I}$ of dimension $n\\times n$ and $\\mathbf{U = A}$.\n",
    "| 2. | For $i = 1, \\ldots, n$ do Step 3\n",
    "| 3. | $\\phantom{--}$ For $j=i+1, \\ldots, n$ do Steps 4-5\n",
    "| 4. | $\\phantom{----}$ Set $l_{ji}=u_{ji}/u_{ii}$\n",
    "| 5. | $\\phantom{----}$ Perform $U_j = (U_j-l_{ji}U_i)$ (where $U_i, U_j$ represent the $i$ and $j$ rows of the matrix $\\mathbf{U}$, respectively)"
   ]
  },
  {
   "cell_type": "markdown",
   "metadata": {
    "slideshow": {
     "slide_type": "skip"
    }
   },
   "source": [
    "### Python / NumPy implementation of a simple $\\mathbf{LU}$ factorization"
   ]
  },
  {
   "cell_type": "code",
   "execution_count": 3,
   "metadata": {
    "slideshow": {
     "slide_type": "skip"
    }
   },
   "outputs": [],
   "source": [
    "def lu(A):\n",
    "    \n",
    "    #Get the number of rows\n",
    "    n = A.shape[0]\n",
    "    \n",
    "    U = A.copy()\n",
    "    L = np.eye(n, dtype=np.double)\n",
    "    \n",
    "    #Loop over rows\n",
    "    for i in range(n):\n",
    "            \n",
    "        #Eliminate entries below i with row operations \n",
    "        #on U and reverse the row operations to \n",
    "        #manipulate L\n",
    "        factor = U[i+1:, i] / U[i, i]\n",
    "        L[i+1:, i] = factor\n",
    "        U[i+1:] -= factor[:, np.newaxis] * U[i]\n",
    "        \n",
    "    return L, U"
   ]
  },
  {
   "cell_type": "markdown",
   "metadata": {
    "slideshow": {
     "slide_type": "subslide"
    }
   },
   "source": [
    "### Psuedocode for a simple $\\mathbf{PLU}$ factorization"
   ]
  },
  {
   "cell_type": "markdown",
   "metadata": {
    "slideshow": {
     "slide_type": "skip"
    }
   },
   "source": [
    "If we observe the pseudocode presented previously we can see that something as simple as $a_{ii}=0$ will cause our algorithm to fail.  We can prevent this from happening by doing a row exchange with a row that has a nonzero value in the $i^\\mathrm{th}$ column.  Like Gauss elimination there are several pivot strategies that can be utilized.  For simplicity, we will exchange any row that has a zero on the diagonal with the first row below it that has a nonzero number in that column.  Here we have to keep track of the row exchanges by creating a permutation matrix, $\\mathbf{P}$ by performing the same row exchanges to an identity matrix.  This gives a matrix with precisely one nonzero entry in each row and in each column and each nonzero entry is 1.  We will need $\\mathbf{P}$ later, when we use the $\\mathbf{LU}$ factorization to solve the permuted system of equations, $\\mathbf{P A}\\vec{x} = \\mathbf{P} \\vec{b}$."
   ]
  },
  {
   "cell_type": "markdown",
   "metadata": {
    "slideshow": {
     "scrolled": true,
     "slide_type": "-"
    }
   },
   "source": [
    "Consider the matrices:\n",
    "\n",
    "\\begin{equation}\n",
    "\\mathbf{A} = \\begin{bmatrix}a_{11}&a_{12}&\\ldots&a_{1n}\\\\a_{21}&\\ddots& &a_{2n}\\\\\\vdots& &\\ddots& \\vdots\\\\a_{n1}&\\ldots&\\ldots&a_{nn}\\end{bmatrix},\n",
    "\\mathbf{L} = \\begin{bmatrix}l_{11}&l_{12}&\\ldots&l_{1n}\\\\l_{21}&\\ddots& &l_{2n}\\\\\\vdots& &\\ddots& \\vdots\\\\l_{n1}&\\ldots&\\ldots&l_{nn}\\end{bmatrix}, \\\\\n",
    "\\mathbf{U} = \\begin{bmatrix}u_{11}&u_{12}&\\ldots&u_{1n}\\\\u_{21}&\\ddots& &u_{2n}\\\\\\vdots& &\\ddots& \\vdots\\\\u_{n1}&\\ldots&\\ldots&u_{nn}\\end{bmatrix},\n",
    "\\mathbf{P} = \\begin{bmatrix}p_{11}&p_{12}&\\ldots&p_{1n}\\\\p_{21}&\\ddots& &p_{2n}\\\\\\vdots& &\\ddots& \\vdots\\\\p_{n1}&\\ldots&\\ldots&p_{nn}\\end{bmatrix}\n",
    "\\end{equation}\n",
    "\n",
    "| Steps | |\n",
    "| --:   | :-- |\n",
    "|   1.  | Initialize $\\mathbf{L = P = I}$ of dimension $n \\times n$ and $\\mathbf{U = A}$ |\n",
    "|   2.  | For $i = 1, \\ldots, n$ do Steps 3-4, 8 |\n",
    "|   3.  | $\\phantom{--}$ Let $k = i$, |\n",
    "|   4.  | $\\phantom{--}$ While $u_{ii}=0$, do Steps 5-7 |\n",
    "|   5.  | $\\phantom{----}$ Swap row $U_i$ with row $U_{ k+1 }$ |\n",
    "|   6.  | $\\phantom{----}$ Swap row $P_i$ with row $P_{ k+1 }$ |\n",
    "|   7.  | $\\phantom{----}$ Increment $k$ by $1$. |\n",
    "|   8.  | $\\phantom{--}$ For $j = i+1, \\ldots, n$ do Steps 9-10 |\n",
    "|   9.  | $\\phantom{----}$ Set $l_{ji} = u_{ ji }/ u_{ ii }$ |\n",
    "|  10.  | $\\phantom{----}$ Perform $U_{ j }=U_{j} - l_{ji} U_{ i }$ (where $U_i, U_j$ represent the $i$ and $j$ rows of the matrix $\\mathbf{U}$, respectively) "
   ]
  },
  {
   "cell_type": "markdown",
   "metadata": {
    "slideshow": {
     "slide_type": "skip"
    }
   },
   "source": [
    "### Python/NumPy implementation of $\\mathbf{PLU}$ decomposition"
   ]
  },
  {
   "cell_type": "code",
   "execution_count": 36,
   "metadata": {
    "slideshow": {
     "slide_type": "skip"
    }
   },
   "outputs": [],
   "source": [
    "def plu(A):\n",
    "    \n",
    "    #Get the number of rows\n",
    "    n = A.shape[0]\n",
    "    \n",
    "    #Allocate space for P, L, and U\n",
    "    U = A.copy()\n",
    "    L = np.eye(n, dtype=np.double)\n",
    "    P = np.eye(n, dtype=np.double)\n",
    "    \n",
    "    #Loop over rows\n",
    "    for i in range(n):\n",
    "        \n",
    "        #Permute rows if needed\n",
    "        for k in range(i, n): \n",
    "            if ~np.isclose(U[i, i], 0.0):\n",
    "                break\n",
    "            U[[k, k+1]] = U[[k+1, k]]\n",
    "            P[[k, k+1]] = P[[k+1, k]]\n",
    "            \n",
    "        #Eliminate entries below i with row \n",
    "        #operations on U and #reverse the row \n",
    "        #operations to manipulate L\n",
    "        factor = U[i+1:, i] / U[i, i]\n",
    "        L[i+1:, i] = factor\n",
    "        U[i+1:] -= factor[:, np.newaxis] * U[i]\n",
    "        \n",
    "    return P, L, U"
   ]
  },
  {
   "cell_type": "markdown",
   "metadata": {
    "slideshow": {
     "slide_type": "skip"
    }
   },
   "source": [
    "The SciPy function [`scipy.linalg.lu`](https://docs.scipy.org/doc/scipy-0.14.0/reference/generated/scipy.linalg.lu.html) performs a $\\mathbf{PLU}$ decomposition.  However, we can't compare our implementation to SciPy's in general, because the SciPy implementation uses a slightly different strategy which could result in a different (but still correct) decomposition."
   ]
  },
  {
   "cell_type": "markdown",
   "metadata": {
    "slideshow": {
     "slide_type": "slide"
    }
   },
   "source": [
    "## Solving equations after $\\mathbf{LU}$ factorization"
   ]
  },
  {
   "cell_type": "markdown",
   "metadata": {
    "slideshow": {
     "slide_type": "skip"
    }
   },
   "source": [
    "\n",
    "Once we have $\\mathbf{L}$ and $\\mathbf{U}$ we can solve for as many right-hand side vectors $\\vec{b}$ as desired very quickly using the following two step process. First we let $\\vec{y}=\\mathbf{U}\\vec{x}$ and then solve for $\\mathbf{L}\\vec{y}=\\vec{b}$ for $\\vec{y}$ by using forward substitution. The pseudocode for this is as follows\n"
   ]
  },
  {
   "cell_type": "markdown",
   "metadata": {
    "slideshow": {
     "slide_type": "fragment"
    }
   },
   "source": [
    "\n",
    "### Psuedocode for forward substitution\n",
    "\n",
    "| Steps | |\n",
    "| --: | :-- \n",
    "| 1.  | Set $y_1 = b_1/l_{11}$\n",
    "| 2.  | For $i=2, 3, \\ldots n$ do Step 3\n",
    "| 3.  | $$\\phantom{--} y_i = \\left.\\left(b_i - \\sum_{j=1}^{i-1} l_{ij}y_j \\right)\\middle/l_{ii} \\right. $$\n"
   ]
  },
  {
   "cell_type": "markdown",
   "metadata": {
    "slideshow": {
     "slide_type": "skip"
    }
   },
   "source": [
    "### Python/NumPy implementation of forward substitution"
   ]
  },
  {
   "cell_type": "code",
   "execution_count": 5,
   "metadata": {
    "collapsed": false,
    "jupyter": {
     "outputs_hidden": false
    },
    "slideshow": {
     "slide_type": "skip"
    }
   },
   "outputs": [],
   "source": [
    "def forward_substitution(L, b):\n",
    "    \n",
    "    #Get number of rows\n",
    "    n = L.shape[0]\n",
    "    \n",
    "    #Allocating space for the solution vector\n",
    "    y = np.zeros_like(b, dtype=np.double);\n",
    "    \n",
    "    #Here we perform the forward-substitution.  \n",
    "    #Initializing  with the first row.\n",
    "    y[0] = b[0] / L[0, 0]\n",
    "    \n",
    "    #Looping over rows in reverse (from the bottom  up),\n",
    "    #starting with the second to last row, because  the \n",
    "    #last row solve was completed in the last step.\n",
    "    for i in range(1, n):\n",
    "        y[i] = (b[i] - np.dot(L[i,:i], y[:i])) / L[i,i]\n",
    "        \n",
    "    return y"
   ]
  },
  {
   "cell_type": "markdown",
   "metadata": {
    "slideshow": {
     "slide_type": "skip"
    }
   },
   "source": [
    "Then solve $\\mathbf{U}\\vec{x} = \\vec{y}$ for $\\vec{x}$ using backward substitution. The psuedocode for this is"
   ]
  },
  {
   "cell_type": "markdown",
   "metadata": {
    "slideshow": {
     "slide_type": "fragment"
    }
   },
   "source": [
    "\n",
    "### Pseudocode Back substitution\n",
    "\n",
    "| Steps | |\n",
    "| --: | :--\n",
    "| 1.  | Set $x_n = y_n / u_{nn}$\n",
    "| 2.  | For $i = n-1, n-2, ..., 1$ do Step 3.\n",
    "| 3.  | $$\\phantom{--} x_i = \\left. \\left(y_i - \\sum_{j=i+1}^{n} u_{ij} x_j\\right)\\middle/u_{ii}\\right.$$"
   ]
  },
  {
   "cell_type": "markdown",
   "metadata": {
    "slideshow": {
     "slide_type": "skip"
    }
   },
   "source": [
    "### Python/NumPy implementation of backward substitution"
   ]
  },
  {
   "cell_type": "code",
   "execution_count": 6,
   "metadata": {
    "collapsed": false,
    "jupyter": {
     "outputs_hidden": false
    },
    "slideshow": {
     "slide_type": "skip"
    }
   },
   "outputs": [],
   "source": [
    "def back_substitution(U, y):\n",
    "    \n",
    "    #Number of rows\n",
    "    n = U.shape[0]\n",
    "    \n",
    "    #Allocating space for the solution vector\n",
    "    x = np.zeros_like(y, dtype=np.double);\n",
    "\n",
    "    #Here we perform the back-substitution.  \n",
    "    #Initializing with the last row.\n",
    "    x[-1] = y[-1] / U[-1, -1]\n",
    "    \n",
    "    #Looping over rows in reverse (from the bottom up), \n",
    "    #starting with the second to last row, because the \n",
    "    #last row solve was completed in the last step.\n",
    "    for i in range(n-2, -1, -1):\n",
    "        x[i] = (y[i] - np.dot(U[i,i:], x[i:])) / U[i,i]\n",
    "        \n",
    "    return x"
   ]
  },
  {
   "cell_type": "markdown",
   "metadata": {
    "slideshow": {
     "slide_type": "skip"
    }
   },
   "source": [
    "Putting everything together for a solution process"
   ]
  },
  {
   "cell_type": "code",
   "execution_count": 7,
   "metadata": {
    "slideshow": {
     "slide_type": "skip"
    }
   },
   "outputs": [],
   "source": [
    "def lu_solve(A, b):\n",
    "    \n",
    "    L, U = lu(A)\n",
    "    \n",
    "    y = forward_substitution(L, b)\n",
    "    \n",
    "    return back_substitution(U, y)"
   ]
  },
  {
   "cell_type": "markdown",
   "metadata": {
    "slideshow": {
     "slide_type": "skip"
    }
   },
   "source": [
    "Testing the code"
   ]
  },
  {
   "cell_type": "code",
   "execution_count": 8,
   "metadata": {
    "slideshow": {
     "slide_type": "skip"
    }
   },
   "outputs": [
    {
     "data": {
      "text/plain": [
       "array([ 0.05614973,  0.25935829, -0.01871658])"
      ]
     },
     "execution_count": 8,
     "metadata": {},
     "output_type": "execute_result"
    }
   ],
   "source": [
    "A = np.array([[1, 4, 5], [6, 8, 22], [32, 5., 5]])\n",
    "b = np.array([1, 2, 3.])\n",
    "\n",
    "lu_solve(A, b)"
   ]
  },
  {
   "cell_type": "markdown",
   "metadata": {
    "slideshow": {
     "slide_type": "skip"
    }
   },
   "source": [
    "and comparing to NumPy's `np.lingalg.solve`"
   ]
  },
  {
   "cell_type": "code",
   "execution_count": 9,
   "metadata": {
    "slideshow": {
     "slide_type": "skip"
    }
   },
   "outputs": [
    {
     "data": {
      "text/plain": [
       "array([ 0.05614973,  0.25935829, -0.01871658])"
      ]
     },
     "execution_count": 9,
     "metadata": {},
     "output_type": "execute_result"
    }
   ],
   "source": [
    "np.linalg.solve(A, b)"
   ]
  },
  {
   "cell_type": "markdown",
   "metadata": {
    "slideshow": {
     "slide_type": "skip"
    }
   },
   "source": [
    "For a $\\mathbf{PLU}$ factorization would have the additional step of permuting the right-hand side vector $\\vec{b} = \\mathbf{P}\\vec{b}$ before doing the forward substitution to solve for $\\vec{y}$."
   ]
  },
  {
   "cell_type": "code",
   "execution_count": 10,
   "metadata": {
    "slideshow": {
     "slide_type": "skip"
    }
   },
   "outputs": [],
   "source": [
    "def plu_solve(A, b):\n",
    "    \n",
    "    P, L, U = plu(A)\n",
    "    \n",
    "    y = forward_substitution(L, np.dot(P, b))\n",
    "    \n",
    "    return back_substitution(U, y)"
   ]
  },
  {
   "cell_type": "markdown",
   "metadata": {
    "slideshow": {
     "slide_type": "skip"
    }
   },
   "source": [
    "Testing our implementation"
   ]
  },
  {
   "cell_type": "code",
   "execution_count": 11,
   "metadata": {
    "slideshow": {
     "slide_type": "skip"
    }
   },
   "outputs": [
    {
     "data": {
      "text/plain": [
       "array([ 0.05363985,  0.2835249 , -0.02681992])"
      ]
     },
     "execution_count": 11,
     "metadata": {},
     "output_type": "execute_result"
    }
   ],
   "source": [
    "A = np.array([[0, 4, 5], [6, 8, 22], [32, 5., 5]])\n",
    "b = np.array([1, 2, 3.])\n",
    "\n",
    "plu_solve(A, b)"
   ]
  },
  {
   "cell_type": "markdown",
   "metadata": {
    "slideshow": {
     "slide_type": "skip"
    }
   },
   "source": [
    "Comparing to the NumPy `np.linalg.solve` function (which also uses the PLU\n",
    "factorization method)"
   ]
  },
  {
   "cell_type": "code",
   "execution_count": 12,
   "metadata": {
    "slideshow": {
     "slide_type": "skip"
    }
   },
   "outputs": [
    {
     "data": {
      "text/plain": [
       "array([ 0.05363985,  0.2835249 , -0.02681992])"
      ]
     },
     "execution_count": 12,
     "metadata": {},
     "output_type": "execute_result"
    }
   ],
   "source": [
    "np.linalg.solve(A, b)"
   ]
  },
  {
   "cell_type": "markdown",
   "metadata": {
    "slideshow": {
     "slide_type": "slide"
    }
   },
   "source": [
    "## $\\mathbf{LU}$ factorization, another look"
   ]
  },
  {
   "cell_type": "markdown",
   "metadata": {
    "slideshow": {
     "slide_type": "skip"
    }
   },
   "source": [
    "Let's consider a generic $\\mathbf{LU}$ factorization, for simplicity we will consider a set of $3 \\times 3$ matrices, but these ideas will apply in the $n\\times n$ case as well"
   ]
  },
  {
   "cell_type": "markdown",
   "metadata": {},
   "source": [
    "\\begin{equation}\n",
    "\\mathbf{LU} = \\begin{bmatrix}l_{11}&0&0\\\\l_{21}&l_{22}&0\\\\l_{31}&l_{32}&l_{33}\\end{bmatrix}\n",
    "\\begin{bmatrix}u_{11}&u_{12}&u_{13}\\\\0&u_{22}&u_{23}\\\\0&0&u_{33}\\end{bmatrix} = \n",
    "\\begin{bmatrix}a_{11}&a_{12}&a_{13}\\\\a_{21}&a_{22}&a_{23}\\\\a_{31}&a_{32}&a_{33}\\end{bmatrix} = \\mathbf{A}\n",
    "\\end{equation}\n",
    "\n",
    "If we multiply the two matrices on the left together, we have\n",
    "\n",
    "\\begin{equation}\n",
    "\\begin{bmatrix}l_{11}u_{11}&l_{11}u_{12}&l_{11}u_{13}\\\\l_{21}u_{11}&l_{21}u_{12}+l_{22}u_{22}&l_{21}u_{13}+l_{22}u_{23}\\\\l_{31}u_{11}&l_{31}u_{12}+l_{32}u_{22}&l_{31}u_{13}+l_{32}u_{23}+l_{33}u_{33}\\end{bmatrix} = \n",
    "\\begin{bmatrix}a_{11}&a_{12}&a_{13}\\\\a_{21}&a_{22}&a_{23}\\\\a_{31}&a_{32}&a_{33}\\end{bmatrix}\n",
    "\\end{equation}"
   ]
  },
  {
   "cell_type": "markdown",
   "metadata": {
    "slideshow": {
     "slide_type": "skip"
    }
   },
   "source": [
    "Now if we take the same approach as before where the $l_{ii}$'s are the 1's we can solve the first row of equations trivially, namely\n",
    "\n",
    "$$u_{11} = a_{11}, \\quad u_{12} = a_{12}, \\quad u_{13} = a_{13},$$\n",
    "\n",
    "then we have enough information to solve the rest of the first column,\n",
    "\n",
    "$$l_{21} = a_{21}/a_{11}, \\quad l_{31}=a_{31}/a_{11},$$\n",
    "\n",
    "and the rest of the second row,\n",
    "\n",
    "$$u_{22} = (a_{22}-a_{21}^{2}/a_{11}), \\quad u_{23} = (a_{23}-a_{21}a_{23}/a_{11}),$$ etc.\n",
    "\n",
    "When this procedure is generalized it is known as the Doolittle alogrithm. There is a similar procedure known as Crout's method that uses the 1's on the diagonal of the $\\mathbf{U}$ matrix. The generalization of these methods will be shown in the sequel described in their pseudocode."
   ]
  },
  {
   "cell_type": "markdown",
   "metadata": {
    "slideshow": {
     "slide_type": "subslide"
    }
   },
   "source": [
    "### Pseudocode for Doolittle algorithm. \n",
    "\n",
    "Consider the matrices\n",
    "\n",
    "\\begin{equation}\n",
    "\\mathbf{A} = \\begin{bmatrix}a_{11}&a_{12}&\\ldots&a_{1n}\\\\a_{21}&\\ddots& &a_{2n}\\\\\\vdots& &\\ddots& \\vdots\\\\a_{n1}&\\ldots&\\ldots&a_{nn}\\end{bmatrix},\n",
    "\\mathbf{L} = \\begin{bmatrix}l_{11}&l_{12}&\\ldots&l_{1n}\\\\l_{21}&\\ddots& &l_{2n}\\\\\\vdots& &\\ddots& \\vdots\\\\l_{n1}&\\ldots&\\ldots&l_{nn}\\end{bmatrix}, \\\\\n",
    "\\mathbf{U} = \\begin{bmatrix}u_{11}&u_{12}&\\ldots&u_{1n}\\\\u_{21}&\\ddots& &u_{2n}\\\\\\vdots& &\\ddots& \\vdots\\\\u_{n1}&\\ldots&\\ldots&u_{nn}\\end{bmatrix}\n",
    "\\end{equation}\n",
    "\n",
    "| Steps | |\n",
    "| --: | :-- \n",
    "|  1. | For $k = 1, 2, \\ldots, n$ do Steps 2-3, 5\n",
    "|  2. | $\\phantom{--}$ Set $l_{kk}=1$\n",
    "|  3. | $\\phantom{--}$ For $j=k, k+1, \\ldots,  n$ do Step 4\n",
    "|  4. | $$\\phantom{----} u_{kj} = a_{kj} - \\sum_{m=1}^{k-1}l_{km}u_{mj}$$\n",
    "|  5. | $\\phantom{--}$ For $i=k+1, k+2, \\ldots, n$ do Step 6\n",
    "|  6. | $$\\phantom{----} l_{ik}=\\left.\\left(a_{ik}-\\sum_{m=1}^{k-1}l_{im}u_{mk}\\right) \\middle/u_{kk}\\right.$$"
   ]
  },
  {
   "cell_type": "code",
   "execution_count": 13,
   "metadata": {
    "slideshow": {
     "slide_type": "skip"
    }
   },
   "outputs": [],
   "source": [
    "def doolittle(A):\n",
    "    \n",
    "    n = A.shape[0]\n",
    "    \n",
    "    U = np.zeros((n, n), dtype=np.double)\n",
    "    L = np.eye(n, dtype=np.double)\n",
    "    \n",
    "    for k in range(n):\n",
    "        \n",
    "        U[k, k:] = A[k, k:] - L[k,:k] @ U[:k,k:]\n",
    "        L[(k+1):,k] = (A[(k+1):,k] - L[(k+1):,:] @ U[:,k]) / U[k, k]\n",
    "    \n",
    "    return L, U"
   ]
  },
  {
   "cell_type": "code",
   "execution_count": 14,
   "metadata": {
    "slideshow": {
     "slide_type": "skip"
    },
    "tags": [
     "remove_cell"
    ]
   },
   "outputs": [],
   "source": [
    "from IPython.display import display, Latex"
   ]
  },
  {
   "cell_type": "code",
   "execution_count": 15,
   "metadata": {
    "slideshow": {
     "slide_type": "skip"
    }
   },
   "outputs": [],
   "source": [
    "A = np.array([[1, 4, 5], [6, 8, 22], [32, 5., 5]])\n",
    "L, U = doolittle(A)"
   ]
  },
  {
   "cell_type": "code",
   "execution_count": 16,
   "metadata": {
    "slideshow": {
     "slide_type": "skip"
    },
    "tags": [
     "hide_input"
    ]
   },
   "outputs": [
    {
     "data": {
      "text/latex": [
       "$\\mathbf A =\\phantom{.}$[[ 1.  4.  5.]\n",
       " [ 6.  8. 22.]\n",
       " [32.  5.  5.]]"
      ],
      "text/plain": [
       "<IPython.core.display.Latex object>"
      ]
     },
     "metadata": {},
     "output_type": "display_data"
    },
    {
     "data": {
      "text/latex": [
       "$\\mathbf {LU} =\\phantom{.}$[[ 1.  4.  5.]\n",
       " [ 6.  8. 22.]\n",
       " [32.  5.  5.]]"
      ],
      "text/plain": [
       "<IPython.core.display.Latex object>"
      ]
     },
     "metadata": {},
     "output_type": "display_data"
    }
   ],
   "source": [
    "display(Latex('$\\mathbf A =\\phantom{{.}}${}'.format(A)))\n",
    "display(Latex('$\\mathbf {{LU}} =\\phantom{{.}}${}'.format(L @ U)))"
   ]
  },
  {
   "cell_type": "markdown",
   "metadata": {
    "slideshow": {
     "slide_type": "subslide"
    }
   },
   "source": [
    "### Pseudocode for Crout algorithm\n",
    "\n",
    "Consider the matrices\n",
    "\n",
    "\\begin{equation}\n",
    "\\mathbf{A} = \\begin{bmatrix}a_{11}&a_{12}&\\ldots&a_{1n}\\\\a_{21}&\\ddots& &a_{2n}\\\\\\vdots& &\\ddots& \\vdots\\\\a_{n1}&\\ldots&\\ldots&a_{nn}\\end{bmatrix},\n",
    "\\mathbf{L} = \\begin{bmatrix}l_{11}&l_{12}&\\ldots&l_{1n}\\\\l_{21}&\\ddots& &l_{2n}\\\\\\vdots& &\\ddots& \\vdots\\\\l_{n1}&\\ldots&\\ldots&l_{nn}\\end{bmatrix}, \\\\\n",
    "\\mathbf{U} = \\begin{bmatrix}u_{11}&u_{12}&\\ldots&u_{1n}\\\\u_{21}&\\ddots& &u_{2n}\\\\\\vdots& &\\ddots& \\vdots\\\\u_{n1}&\\ldots&\\ldots&u_{nn}\\end{bmatrix}\n",
    "\\end{equation}\n",
    "\n",
    "| Steps | |\n",
    "| --: | :-- \n",
    "|  1. | For $k = 1, 2, ..., n$ do Steps 2-3, 5\n",
    "|  2. | $\\phantom{--}$ Set $l_{kk} = a_{kk}-\\sum_{m=1}^{k-1}l_{km}u_{mk}$\n",
    "|  3. | $\\phantom{--}$ For $j = k, k+1, \\ldots n$ do Step 4\n",
    "|  4. | $$\\phantom{----} u_{kj} = \\left.\\left(a_{kj}-\\sum_{m=1}^{k-1}l_{km}u_{mj}\\right)\\middle/l_{kk}\\right.$$\n",
    "|  5. | $\\phantom{--}$ For $i = k+1, k+2, \\ldots, n$ do Step \n",
    "|  6. | $$\\phantom{----} l_{ik} = \\left.\\left(a_{ik}-\\sum_{m=1}^{k-1}l_{im}u_{mk}\\right) \\middle/ u_{kk}\\right.$$"
   ]
  },
  {
   "cell_type": "code",
   "execution_count": 17,
   "metadata": {
    "slideshow": {
     "slide_type": "skip"
    }
   },
   "outputs": [],
   "source": [
    "def crout(A):\n",
    "    \n",
    "    n = A.shape[0]\n",
    "    \n",
    "    U = np.zeros((n, n), dtype=np.double)\n",
    "    L = np.zeros((n, n), dtype=np.double)\n",
    "    \n",
    "    for k in range(n):\n",
    "        \n",
    "        L[k, k] = A[k, k] - L[k, :] @ U[:, k]\n",
    "        \n",
    "        U[k, k:] = (A[k, k:] - L[k, :k] @ U[:k, k:]) / L[k, k]\n",
    "        L[(k+1):, k] = (A[(k+1):, k] - L[(k+1):, :] @ U[:, k]) / U[k, k]\n",
    "    \n",
    "    return L, U"
   ]
  },
  {
   "cell_type": "code",
   "execution_count": 18,
   "metadata": {
    "slideshow": {
     "slide_type": "skip"
    }
   },
   "outputs": [],
   "source": [
    "L, U = crout(A)"
   ]
  },
  {
   "cell_type": "code",
   "execution_count": 19,
   "metadata": {
    "slideshow": {
     "slide_type": "skip"
    },
    "tags": [
     "hide_input"
    ]
   },
   "outputs": [
    {
     "data": {
      "text/latex": [
       "$\\mathbf A =\\phantom{.}$[[ 1.  4.  5.]\n",
       " [ 6.  8. 22.]\n",
       " [32.  5.  5.]]"
      ],
      "text/plain": [
       "<IPython.core.display.Latex object>"
      ]
     },
     "metadata": {},
     "output_type": "display_data"
    },
    {
     "data": {
      "text/latex": [
       "$\\mathbf {LU} =\\phantom{.}$[[ 1.  4.  5.]\n",
       " [ 6.  8. 22.]\n",
       " [32.  5.  5.]]"
      ],
      "text/plain": [
       "<IPython.core.display.Latex object>"
      ]
     },
     "metadata": {},
     "output_type": "display_data"
    }
   ],
   "source": [
    "display(Latex('$\\mathbf A =\\phantom{{.}}${}'.format(A)))\n",
    "display(Latex('$\\mathbf {{LU}} =\\phantom{{.}}${}'.format(L @ U)))"
   ]
  },
  {
   "cell_type": "markdown",
   "metadata": {
    "slideshow": {
     "slide_type": "subslide"
    }
   },
   "source": [
    "### Pseudocode for Cholesky decomposition\n",
    "\n",
    "If matrix $\\mathbf{A}$ is symmetric and positive definite, then there exists a lower triangular matrix $\\mathbf{L}$ such that $\\mathbf{A=LL}^\\intercal$. This is just a special case of the $\\mathbf{LU}$ decomposition, $\\mathbf{U=L}^\\intercal$. The algorithm is slightly simpler than the Doolittle or Crout methods.\n",
    "\n",
    "Consider the matrices\n",
    "\n",
    "\\begin{equation}\n",
    "\\mathbf{A} = \\begin{bmatrix}a_{11}&a_{12}&\\ldots&a_{1n}\\\\a_{21}&\\ddots& &a_{2n}\\\\\\vdots& &\\ddots& \\vdots\\\\a_{n1}&\\ldots&\\ldots&a_{nn}\\end{bmatrix},\n",
    "\\mathbf{L} = \\begin{bmatrix}l_{11}&l_{12}&\\ldots&l_{1n}\\\\l_{21}&\\ddots& &l_{2n}\\\\\\vdots& &\\ddots& \\vdots\\\\l_{n1}&\\ldots&\\ldots&l_{nn}\\end{bmatrix},\n",
    "\\end{equation}\n",
    "\n",
    "| Steps | |\n",
    "| --: | :-- |\n",
    "|  1. | For $k=1,2,\\ldots n$ do Steps 2-3\n",
    "|  2. | $\\phantom{--}$ Set $l_{kk} = \\sqrt{a_{kk}-\\sum_{m=1}^{k-1}l_{km}^2}$\n",
    "|  3. | $\\phantom{--}$ For $i=k+1,k+2,\\ldots, n$ do Step 4.\n",
    "|  4. | $$\\phantom{----} l_{ik}=\\left.\\left(a_{ik}-\\sum_{m=1}^{k-1}l_{im}l_{mk}\\right) \\middle / l_{kk}\\right.$$"
   ]
  },
  {
   "cell_type": "code",
   "execution_count": 20,
   "metadata": {
    "slideshow": {
     "slide_type": "skip"
    }
   },
   "outputs": [],
   "source": [
    "def cholesky(A):\n",
    "    \n",
    "    n = A.shape[0]\n",
    "    \n",
    "    L = np.zeros((n, n), dtype=np.double)\n",
    "    \n",
    "    for k in range(n):\n",
    "        \n",
    "        L[k, k] = np.sqrt(A[k, k] - np.sum(L[k, :] ** 2))\n",
    "        \n",
    "        L[(k+1):, k] = (A[(k+1):, k] - L[(k+1):, :] @ L[:, k]) / L[k, k]\n",
    "    \n",
    "    return L"
   ]
  },
  {
   "cell_type": "markdown",
   "metadata": {
    "slideshow": {
     "slide_type": "skip"
    }
   },
   "source": [
    "Testing the implementation"
   ]
  },
  {
   "cell_type": "code",
   "execution_count": 21,
   "metadata": {
    "slideshow": {
     "slide_type": "skip"
    }
   },
   "outputs": [],
   "source": [
    "A = np.array([[2, -1, 0],[-1, 2, -1.], [0, -1, 2.]])\n",
    "L = cholesky(A)"
   ]
  },
  {
   "cell_type": "code",
   "execution_count": 22,
   "metadata": {
    "slideshow": {
     "slide_type": "skip"
    },
    "tags": [
     "hide_input"
    ]
   },
   "outputs": [
    {
     "data": {
      "text/latex": [
       "$\\mathbf L =\\phantom{.}$[[ 1.41421356  0.          0.        ]\n",
       " [-0.70710678  1.22474487  0.        ]\n",
       " [ 0.         -0.81649658  1.15470054]]"
      ],
      "text/plain": [
       "<IPython.core.display.Latex object>"
      ]
     },
     "metadata": {},
     "output_type": "display_data"
    },
    {
     "data": {
      "text/latex": [
       "$\\mathbf A = \\mathbf {L L^\\intercal} =\\phantom{.}$[[ 2. -1.  0.]\n",
       " [-1.  2. -1.]\n",
       " [ 0. -1.  2.]]"
      ],
      "text/plain": [
       "<IPython.core.display.Latex object>"
      ]
     },
     "metadata": {},
     "output_type": "display_data"
    }
   ],
   "source": [
    "display(Latex('$\\mathbf L =\\phantom{{.}}${}'.format(L)))\n",
    "display(Latex('$\\mathbf A = \\mathbf {{L L^\\intercal}} =\\phantom{{.}}${}'.format(L @ L.T)))"
   ]
  },
  {
   "cell_type": "markdown",
   "metadata": {
    "slideshow": {
     "slide_type": "skip"
    }
   },
   "source": [
    "Testing with the built in `numpy.linalg.cholesky` function"
   ]
  },
  {
   "cell_type": "code",
   "execution_count": 23,
   "metadata": {
    "slideshow": {
     "slide_type": "skip"
    }
   },
   "outputs": [],
   "source": [
    "L = np.linalg.cholesky(A)"
   ]
  },
  {
   "cell_type": "code",
   "execution_count": 24,
   "metadata": {
    "slideshow": {
     "slide_type": "skip"
    },
    "tags": [
     "hide_input"
    ]
   },
   "outputs": [
    {
     "data": {
      "text/latex": [
       "$\\mathbf L =\\phantom{.}$[[ 1.41421356  0.          0.        ]\n",
       " [-0.70710678  1.22474487  0.        ]\n",
       " [ 0.         -0.81649658  1.15470054]]"
      ],
      "text/plain": [
       "<IPython.core.display.Latex object>"
      ]
     },
     "metadata": {},
     "output_type": "display_data"
    }
   ],
   "source": [
    "display(Latex('$\\mathbf L =\\phantom{{.}}${}'.format(L)))"
   ]
  },
  {
   "cell_type": "markdown",
   "metadata": {
    "slideshow": {
     "slide_type": "slide"
    }
   },
   "source": [
    "## Solving for the inverse of $\\mathbf A$ with the $\\mathbf{LU}$ decomposition"
   ]
  },
  {
   "cell_type": "markdown",
   "metadata": {
    "slideshow": {
     "slide_type": "skip"
    }
   },
   "source": [
    "Once the $\\mathbf{LU}$ decomposition of $\\mathbf{A}$ is complete it is straightforward to find the inverse of $\\mathbf{A}$, using the same forward and backward substitution process we used when solving for an arbitrary right hand side vector $\\vec{b}$.   Except we will do the procedure $n$ times, where $n$ is the number of columns of $\\mathbf{A}$ and"
   ]
  },
  {
   "cell_type": "markdown",
   "metadata": {
    "slideshow": {
     "slide_type": "-"
    }
   },
   "source": [
    "$$\\vec{b} = \\left[\\vec{b}_1, \\vec{b}_2, \\ldots, \\vec{b}_n\\right] = \\mathbf{I}$$"
   ]
  },
  {
   "cell_type": "markdown",
   "metadata": {
    "slideshow": {
     "slide_type": "skip"
    }
   },
   "source": [
    "are the columns of the identity matrix. Stated differently, we will use the columns of the identity matrix as individual right-hand side vectors, $\\vec{b}$, in order to solve for the inverse column-by-column."
   ]
  },
  {
   "cell_type": "markdown",
   "metadata": {
    "slideshow": {
     "slide_type": "fragment"
    }
   },
   "source": [
    "### Pseudocode for inverse solve after $\\mathbf{LU}$ decomposition\n",
    "\n",
    "| Steps | |\n",
    "| --: | :-- |\n",
    "|  1. | Set $\\vec{b} = \\mathbf{I}$ with dimension $n \\times n$\n",
    "|  2. | For $k = 1, 2, \\ldots, n$ do Steps 3-4, 6-7\n",
    "|  3. | $\\phantom{--}$ Set $y_{1k}=\\frac{b_{1k}}{l_{11}}$\n",
    "|  4. | $\\phantom{--}$ For $i = 2, 3, \\ldots n$ do Step 5.\n",
    "|  5. | $$\\phantom{----} y_{ik} = \\left.\\left(b_{ik}-\\sum\\nolimits_{j=1}^{i-1}l_{ij}y_{jk} \\right) \\middle/ l_{ii} \\right.$$\n",
    "|  6. | $\\phantom{--}$ Set $x_{nk} = \\frac{y_{nk}}{u_{nn}}$\n",
    "|  7. | $\\phantom{--}$ For $i = n-1, n-2, \\ldots, 1$ do Step 8\n",
    "|  8. | $$\\phantom{----} x_{ik}= \\left.\\left(y_{ik}-\\sum_{j=i+1}^{n}u_{ij}x_{jk}\\right) \\middle/ u_{ii}\\right.$$"
   ]
  },
  {
   "cell_type": "code",
   "execution_count": 25,
   "metadata": {
    "slideshow": {
     "slide_type": "skip"
    }
   },
   "outputs": [],
   "source": [
    "def plu_inverse(A):\n",
    "    \n",
    "    n = A.shape[0]\n",
    "    \n",
    "    b = np.eye(n)\n",
    "    Ainv = np.zeros((n, n))\n",
    "    \n",
    "    P, L, U = plu(A)\n",
    "    \n",
    "    for i in range(n):\n",
    "        \n",
    "        y = forward_substitution(L, np.dot(P, b[i, :]))\n",
    "        \n",
    "        Ainv[i, :] = back_substitution(U, y)\n",
    "        \n",
    "    return Ainv"
   ]
  },
  {
   "cell_type": "markdown",
   "metadata": {
    "slideshow": {
     "slide_type": "skip"
    }
   },
   "source": [
    "Testing the `plu_inverse` implementation"
   ]
  },
  {
   "cell_type": "code",
   "execution_count": 26,
   "metadata": {
    "slideshow": {
     "slide_type": "skip"
    }
   },
   "outputs": [
    {
     "data": {
      "text/plain": [
       "array([[0.75, 0.5 , 0.25],\n",
       "       [0.5 , 1.  , 0.5 ],\n",
       "       [0.25, 0.5 , 0.75]])"
      ]
     },
     "execution_count": 26,
     "metadata": {},
     "output_type": "execute_result"
    }
   ],
   "source": [
    "plu_inverse(A)"
   ]
  },
  {
   "cell_type": "markdown",
   "metadata": {
    "slideshow": {
     "slide_type": "skip"
    }
   },
   "source": [
    "and comparing with the built in NumPy matrix inverse function `np.linalg.inv`"
   ]
  },
  {
   "cell_type": "code",
   "execution_count": 27,
   "metadata": {
    "slideshow": {
     "slide_type": "skip"
    }
   },
   "outputs": [
    {
     "data": {
      "text/plain": [
       "array([[0.75, 0.5 , 0.25],\n",
       "       [0.5 , 1.  , 0.5 ],\n",
       "       [0.25, 0.5 , 0.75]])"
      ]
     },
     "execution_count": 27,
     "metadata": {},
     "output_type": "execute_result"
    }
   ],
   "source": [
    "np.linalg.inv(A)"
   ]
  },
  {
   "cell_type": "markdown",
   "metadata": {
    "slideshow": {
     "slide_type": "slide"
    }
   },
   "source": [
    "## Determinant of a Matrix"
   ]
  },
  {
   "cell_type": "markdown",
   "metadata": {
    "slideshow": {
     "slide_type": "skip"
    }
   },
   "source": [
    "You might recall from linear algebra that there are several ways of computing the determinant of a matrix (e.g. Leibniz formula, Laplace formula, Cramer's rule, etc.); however, none of these are as computationally efficient as using the $\\mathbf{LU}$ decomposition and a few properties of determinants to solve for the determinate of a matrix $\\mathbf{A}$. Recall,"
   ]
  },
  {
   "cell_type": "markdown",
   "metadata": {
    "slideshow": {
     "slide_type": "-"
    }
   },
   "source": [
    "For $\\mathbf{A = LU}, \\implies \\det(\\mathbf{A}) = \\det(\\mathbf{L})\\det(\\mathbf{U})$"
   ]
  },
  {
   "cell_type": "markdown",
   "metadata": {
    "slideshow": {
     "slide_type": "skip"
    }
   },
   "source": [
    "also for an upper (or lower) triangular matrix. The determinate of the matrix is simply the product of the diagonal entries. Therefore, if we solve for $\\mathbf{L}$ and $\\mathbf{U}$ using the Doolittle method, where there are 1's on the diagonal of the $\\mathbf{L}$ matrix, then the determinate of $\\mathbf{L}$ is 1. Thus,"
   ]
  },
  {
   "cell_type": "markdown",
   "metadata": {
    "slideshow": {
     "slide_type": "fragment"
    },
    "tags": [
     "remove_cell"
    ]
   },
   "source": [
    "Using Doolittle's algorithm (1's on the diagonal of $\\mathbf{L}$)"
   ]
  },
  {
   "cell_type": "markdown",
   "metadata": {
    "slideshow": {
     "slide_type": "-"
    }
   },
   "source": [
    "$$\\det(\\mathbf{A}) = 1 \\cdot \\det(\\mathbf{U}) = \\prod_{j=1}^{n}u_{jj}$$"
   ]
  },
  {
   "cell_type": "markdown",
   "metadata": {
    "slideshow": {
     "slide_type": "subslide"
    }
   },
   "source": [
    "Similarly, for a $\\mathbf{PLU}$ decomposition,\n",
    "\n",
    "$$\\det(\\mathbf{A}) = \\det(\\mathbf{P})\\det(\\mathbf{L})\\det(\\mathbf{U}) = \\det(\\mathbf{P})\\cdot\\prod_{j=1}^{n}u_{jj}$$"
   ]
  },
  {
   "cell_type": "markdown",
   "metadata": {
    "slideshow": {
     "slide_type": "skip"
    }
   },
   "source": [
    "but, $\\mathbf{P}$ is just a permutation of the identity matrix. Let's observe what happens when we do five semi-random row permutations of the identity matrix and calculate the determinate of $\\mathbf{P}$ each time."
   ]
  },
  {
   "cell_type": "code",
   "execution_count": 28,
   "metadata": {
    "collapsed": false,
    "jupyter": {
     "outputs_hidden": false
    },
    "slideshow": {
     "slide_type": "fragment"
    }
   },
   "outputs": [
    {
     "name": "stdout",
     "output_type": "stream",
     "text": [
      "-1.0\n",
      "1.0\n",
      "-1.0\n",
      "1.0\n",
      "-1.0\n"
     ]
    }
   ],
   "source": [
    "P = np.eye(5)\n",
    "P[[0, 1]] = P[[1, 0]]\n",
    "print(np.linalg.det(P))\n",
    "\n",
    "P[[1, 2]] = P[[2, 1]]\n",
    "print(np.linalg.det(P))\n",
    "\n",
    "P[[0, 4]] = P[[4, 0]]\n",
    "print(np.linalg.det(P))\n",
    "\n",
    "P[[1, 3]] = P[[3, 1]]\n",
    "print(np.linalg.det(P))\n",
    "\n",
    "P[[4, 1]] = P[[1, 4]]\n",
    "print(np.linalg.det(P))"
   ]
  },
  {
   "cell_type": "markdown",
   "metadata": {
    "slideshow": {
     "slide_type": "skip"
    }
   },
   "source": [
    "Therefore all we need to do is keep track of the number of row permutations and the $\\det(\\mathbf{P})$ will have the following properties"
   ]
  },
  {
   "cell_type": "markdown",
   "metadata": {
    "slideshow": {
     "slide_type": "fragment"
    }
   },
   "source": [
    "$$\n",
    "\\det(P) =\n",
    "\\begin{cases}\n",
    "1, & \\textrm{for even number of permutations} \\\\\n",
    "-1,& \\textrm{for odd number of permutations}\n",
    "\\end{cases}\n",
    "$$"
   ]
  },
  {
   "cell_type": "markdown",
   "metadata": {
    "slideshow": {
     "slide_type": "skip"
    }
   },
   "source": [
    "### Python/NumPy implementation of $\\mathbf{PLU}$ determinate"
   ]
  },
  {
   "cell_type": "markdown",
   "metadata": {
    "slideshow": {
     "slide_type": "skip"
    }
   },
   "source": [
    "First we modify our `plu` function from before to only return $\\mathbf{U}$ and the number of permutations of $\\mathbf{P}$."
   ]
  },
  {
   "cell_type": "code",
   "execution_count": 29,
   "metadata": {
    "slideshow": {
     "slide_type": "skip"
    }
   },
   "outputs": [],
   "source": [
    "def plu_for_det(A):\n",
    "    \n",
    "    #Get the number of rows\n",
    "    n = A.shape[0]\n",
    "    \n",
    "    U = A.copy()\n",
    "    L = np.eye(n, dtype=np.double)\n",
    "    P = np.eye(n, dtype=np.double)\n",
    "    \n",
    "    number_of_permutations = 0\n",
    "    \n",
    "    #Loop over rows\n",
    "    for i in range(n):\n",
    "        \n",
    "        for k in range(i, n): \n",
    "            if ~np.isclose(U[i, i], 0.0):\n",
    "                break\n",
    "            U[[k, k+1]] = U[[k+1, k]]\n",
    "            P[[k, k+1]] = P[[k+1, k]]\n",
    "            number_of_permutations += 1\n",
    "            \n",
    "        #Eliminate entries below i with row operations on U and\n",
    "        #reverse the row operations to manipulate L\n",
    "        factor = U[i+1:, i] / U[i, i]\n",
    "        L[i+1:, i] = factor\n",
    "        U[i+1:] -= factor[:, np.newaxis] * U[i]\n",
    "        \n",
    "    return U, number_of_permutations"
   ]
  },
  {
   "cell_type": "markdown",
   "metadata": {
    "slideshow": {
     "slide_type": "skip"
    }
   },
   "source": [
    "Now we can easily implement the determinate calculation"
   ]
  },
  {
   "cell_type": "code",
   "execution_count": 30,
   "metadata": {
    "slideshow": {
     "slide_type": "skip"
    }
   },
   "outputs": [],
   "source": [
    "def plu_det(A):\n",
    "    \n",
    "    U, number_of_permutations = plu_for_det(A)\n",
    "    \n",
    "    if number_of_permutations % 2 == 0:\n",
    "        return np.diagonal(U).prod()\n",
    "    else:\n",
    "        return -np.diagonal(U).prod()"
   ]
  },
  {
   "cell_type": "markdown",
   "metadata": {
    "slideshow": {
     "slide_type": "skip"
    }
   },
   "source": [
    "Checking our implementation"
   ]
  },
  {
   "cell_type": "code",
   "execution_count": 31,
   "metadata": {
    "slideshow": {
     "slide_type": "skip"
    }
   },
   "outputs": [
    {
     "data": {
      "text/plain": [
       "4.0"
      ]
     },
     "execution_count": 31,
     "metadata": {},
     "output_type": "execute_result"
    }
   ],
   "source": [
    "plu_det(A)"
   ]
  },
  {
   "cell_type": "markdown",
   "metadata": {
    "slideshow": {
     "slide_type": "skip"
    }
   },
   "source": [
    "Comparing against `np.linalg.det`"
   ]
  },
  {
   "cell_type": "code",
   "execution_count": 32,
   "metadata": {
    "slideshow": {
     "slide_type": "skip"
    }
   },
   "outputs": [
    {
     "data": {
      "text/plain": [
       "4.0"
      ]
     },
     "execution_count": 32,
     "metadata": {},
     "output_type": "execute_result"
    }
   ],
   "source": [
    "np.linalg.det(A)"
   ]
  },
  {
   "cell_type": "code",
   "execution_count": 33,
   "metadata": {
    "hide_input": true,
    "slideshow": {
     "slide_type": "skip"
    },
    "tags": [
     "remove_cell"
    ]
   },
   "outputs": [
    {
     "data": {
      "application/javascript": [
       "function hideElements(elements, start) {\n",
       "for(var i = 0, length = elements.length; i < length;i++) {\n",
       "    if(i >= start) {\n",
       "        elements[i].style.display = \"none\";\n",
       "    }\n",
       "}\n",
       "}\n",
       "var prompt_elements = document.getElementsByClassName(\"prompt\");\n",
       "hideElements(prompt_elements, 0)\n"
      ],
      "text/plain": [
       "<IPython.core.display.Javascript object>"
      ]
     },
     "metadata": {},
     "output_type": "display_data"
    }
   ],
   "source": [
    "%%javascript\n",
    "function hideElements(elements, start) {\n",
    "for(var i = 0, length = elements.length; i < length;i++) {\n",
    "    if(i >= start) {\n",
    "        elements[i].style.display = \"none\";\n",
    "    }\n",
    "}\n",
    "}\n",
    "var prompt_elements = document.getElementsByClassName(\"prompt\");\n",
    "hideElements(prompt_elements, 0)"
   ]
  }
 ],
 "metadata": {
  "celltoolbar": "Slideshow",
  "jupytext": {
   "formats": "ipynb,md"
  },
  "kernelspec": {
   "display_name": "Python 3",
   "language": "python",
   "name": "python3"
  },
  "language_info": {
   "codemirror_mode": {
    "name": "ipython",
    "version": 3
   },
   "file_extension": ".py",
   "mimetype": "text/x-python",
   "name": "python",
   "nbconvert_exporter": "python",
   "pygments_lexer": "ipython3",
   "version": "3.8.1"
  },
  "rise": {
   "auto_select": null,
   "autolaunch": false,
   "controls": true,
   "enable_chalkboard": false,
   "footer": "",
   "progress": true,
   "scroll": true,
   "slideNumber": false,
   "theme": "simple"
  }
 },
 "nbformat": 4,
 "nbformat_minor": 4
}

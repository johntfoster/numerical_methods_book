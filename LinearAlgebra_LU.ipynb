{
 "cells": [
  {
   "cell_type": "markdown",
   "metadata": {},
   "source": [
    "## LU Factorization (LU Decomposition)\n",
    "\n",
    "Any non-singular matrix $\\mathbf{A}$ can be factored into a lower triangular matrix $\\mathbf{L}$, and upper triangular matrix $\\mathbf{U}$ using procedures we have already established with Gaussian elimination. This proves very useful for numerical computation and is, in fact, one of the most common ways most packaged linear algebra solvers solve non-sparse linear systems.\n",
    "\n",
    "Previously, we learned that by using Gaussian elimination we can solve the linear system $\\mathbf{A}\\vec{x} = \\vec{b}$ in $O(\\frac{1}{3}n^3)$ arithmetic operations to determine $\\vec{x}$. It turns out if $\\mathbf{A}$ has the form $\\mathbf{A=LU}$ we can solve for $\\vec{x}$ using a two step process. First we let $\\vec{y}=\\mathbf{U}\\vec{x}$ and solve the system for $L\\vec{y}=\\vec{b}$ for $\\vec{y}$. Since $\\mathbf{L}$ is lower triangular we use a forward substitution process that only takes $O(n^2)$ operations. Once $\\vec{y}$ is known, the upper triangular system $\\mathbf{U}\\vec{x}=\\vec{y}$ can be solved with back substitution in $O(n^2)$ operations. Therefore using this procedure we can reduce the solution of $\n",
    "\\mathbf{A}\\vec{x} = \\vec{b}$ from $O(\\frac{1}{3}n^3)$ to $O(2n^2)$ operations. For large systems this can reduce the calculation time by more than 95%. Determining the $\\mathbf{L}$ and $\\mathbf{U}$ matrices still takes $O(\\frac{1}{3}n^3)$, but it only has to be done for a single $\\mathbf{A}$ matrix and can be used efficiently to solve for $\\vec{x}$ with many right-hand side vectors, $\\vec{b}$.\n",
    "\n",
    "We already know one way to transform $\\mathbf{A}$ into $\\mathbf{U}$ by using Gaussian elimination. We will leave the proof for linear algebra class, but we find $\\mathbf{L}$ by performing negations of the same operations on the identity matrix in reverse order. For example when going $\\mathbf{A}\\rightarrow \\mathbf{U}$ if we perform the row operation\n",
    "\n",
    "$$\n",
    "E_i - m_{ji}E_j\\rightarrow E_i\n",
    "$$\n",
    "\n",
    "to undo this and return to $\\mathbf{A}$ we would perform\n",
    "\n",
    "$$\n",
    "E_i+m_{ji}E_j\\rightarrow E_i\n",
    "$$\n",
    "\n",
    "by performing the second operation on the identity matrix with the same dimensions as $\\mathbf{A}$ we will end up with an $\\mathbf{L}$. I emphasize *an* here because this is only one way to decompose $\\mathbf{A}$ into $\\mathbf{L}$ and $\\mathbf{U}$, there are other methods and an infinite number of $\\mathbf{L}$ and $\\mathbf{U}$ matrices, i.e. they are not unique."
   ]
  },
  {
   "cell_type": "markdown",
   "metadata": {},
   "source": [
    "#### LU Example\n",
    "\n",
    "We will look at a simple example and write out the row operations.\n",
    "\n",
    "$$\n",
    "\\mathbf{A} = \\begin{bmatrix}1&1&0\\\\2&1&-1\\\\3&-1&-1\\end{bmatrix}\n",
    "\\xrightarrow{E_2-2E_1}\n",
    "\\begin{bmatrix}1&1&0\\\\0&-1&-1\\\\3&-1&-1\\end{bmatrix}\n",
    "\\xrightarrow{E_3-3E_1}\n",
    "\\begin{bmatrix}1&1&0\\\\0&-1&-1\\\\0&-4&-1\\end{bmatrix}\n",
    "\\xrightarrow{E_3-4E_2}\n",
    "\\begin{bmatrix}1&1&0\\\\0&-1&-1\\\\0&0&3\\end{bmatrix} = \\mathbf{U}\n",
    "$$\n",
    "\n",
    "$$\n",
    "\\mathbf{I} = \\begin{bmatrix}1&0&0\\\\0&1&0\\\\0&0&1\\end{bmatrix}\n",
    "\\xrightarrow{E_3+4E_2}\n",
    "\\begin{bmatrix}1&0&0\\\\0&1&0\\\\0&4&1\\end{bmatrix}\n",
    "\\xrightarrow{E_3+3E_1}\n",
    "\\begin{bmatrix}1&0&0\\\\0&1&0\\\\3&4&1\\end{bmatrix}\n",
    "\\xrightarrow{E_2+2E_1}\n",
    "\\begin{bmatrix}1&0&0\\\\2&1&0\\\\3&4&1\\end{bmatrix} = \\mathbf{L}\n",
    "$$\n",
    "\n",
    "Let's check our results with Python."
   ]
  },
  {
   "cell_type": "code",
   "execution_count": 2,
   "metadata": {
    "tags": [
     "remove_cell"
    ]
   },
   "outputs": [],
   "source": [
    "import numpy as np"
   ]
  },
  {
   "cell_type": "code",
   "execution_count": 3,
   "metadata": {
    "collapsed": false,
    "jupyter": {
     "outputs_hidden": false
    }
   },
   "outputs": [
    {
     "data": {
      "text/plain": [
       "array([[ 1,  1,  0],\n",
       "       [ 2,  1, -1],\n",
       "       [ 3, -1, -1]])"
      ]
     },
     "execution_count": 3,
     "metadata": {},
     "output_type": "execute_result"
    }
   ],
   "source": [
    "L = np.array([[1,0,0],[2,1,0],[3,4,1]])\n",
    "U = np.array([[1,1,0],[0,-1,-1],[0,0,3]])\n",
    "L @ U"
   ]
  },
  {
   "cell_type": "markdown",
   "metadata": {},
   "source": [
    "Notice that the entries in $\\mathbf{L}$ below the diagonal are simply the $m_{ij}$'s therefore we do not actually have to perform the row operations we can simply insert the $m_{ij}$ components into their proper place and move forward."
   ]
  },
  {
   "cell_type": "markdown",
   "metadata": {},
   "source": [
    "### Psuedocode for a simple LU factorization\n",
    "\n",
    "Consider the matricies:\n",
    "\n",
    "\\begin{equation}\n",
    "\\mathbf{A} = \\begin{pmatrix}a_{11}&a_{12}&...&a_{1n}\\\\a_{21}&\\ddots& &a_{2n}\\\\\\vdots& &\\ddots& \\vdots\\\\a_{n1}&...&...&a_{nn}\\end{pmatrix},\n",
    "\\mathbf{L} = \\begin{pmatrix}l_{11}&l_{12}&...&l_{1n}\\\\l_{21}&\\ddots& &l_{2n}\\\\\\vdots& &\\ddots& \\vdots\\\\l_{n1}&...&...&l_{nn}\\end{pmatrix},\n",
    "\\mathbf{U} = \\begin{pmatrix}u_{11}&u_{12}&...&u_{1n}\\\\u_{21}&\\ddots& &u_{2n}\\\\\\vdots& &\\ddots& \\vdots\\\\u_{n1}&...&...&u_{nn}\\end{pmatrix}\n",
    "\\end{equation}\n",
    "\n",
    "  1. Initialize $L$ to an identity matrix, $I$, of dimension $n$ by $n$ and $U = A$.\n",
    "  1. For $i = 1$, ..., $n$ do Step A.\n",
    "    1. For $j=i+1, ..., n$ do Steps a-b\n",
    "      1. Set $I_{ji}=u_{ji}/u_{ii}$\n",
    "      1. Perform $U_j = (U_j-I_{ji}U_i)$ (where $U_i, U_j$ represent the $i$ and $j$ rows of the matrix $U$, respectively)"
   ]
  },
  {
   "cell_type": "markdown",
   "metadata": {},
   "source": [
    "### Psuedocode for a simple PLU factorization\n",
    "\n",
    "If we observe the pseudocode presented previously we can see that something as simple as $a_{ii}=0$ will cause our algorithm to fail.  We can prevent this from happening by doing a row exchange with a row that has a nonzero value in the $i^\\mathrm{th}$ column.  Like Gauss elimination there are several pivot strategies that can be utilized.  For simplicity, we will exchange any row that has a zero on the diagonal with the first row below it that has a nonzero number in that column.  Here we have to keep track of the row exchanges by creating a permutation matrix, $\\mathbf{P}$ by performing the same row exchanges to an identity matrix.  This gives a matrix with precisely one nonzero entry in each row and in each column and each nonzero entry is 1.  We will need $\\mathbf{P}$ later, when we use the LU factorization to solve the permutated system of equations, $\\mathbf{P A}\\vec{x} = \\mathbf{P} \\vec{b}$.\n",
    "\n",
    "Consider the matrices:\n",
    "\n",
    "\\begin{equation}\n",
    "\\mathbf{A} = \\begin{bmatrix}a_{11}&a_{12}&...&a_{1n}\\\\a_{21}&\\ddots& &a_{2n}\\\\\\vdots& &\\ddots& \\vdots\\\\a_{n1}&...&...&a_{nn}\\end{bmatrix},\n",
    "\\mathbf{L} = \\begin{bmatrix}l_{11}&l_{12}&...&l_{1n}\\\\l_{21}&\\ddots& &l_{2n}\\\\\\vdots& &\\ddots& \\vdots\\\\l_{n1}&...&...&l_{nn}\\end{bmatrix},\n",
    "\\mathbf{U} = \\begin{bmatrix}u_{11}&u_{12}&...&u_{1n}\\\\u_{21}&\\ddots& &u_{2n}\\\\\\vdots& &\\ddots& \\vdots\\\\u_{n1}&...&...&u_{nn}\\end{bmatrix},\n",
    "\\mathbf{P} = \\begin{bmatrix}p_{11}&p_{12}&...&p_{1n}\\\\p_{21}&\\ddots& &p_{2n}\\\\\\vdots& &\\ddots& \\vdots\\\\p_{n1}&...&...&p_{nn}\\end{bmatrix}\n",
    "\\end{equation}\n",
    "\n",
    "1. Initialize $\\mathbf{L = P = I}$ of dimension n by n and $\\mathbf{U = A}.\n",
    "2. For i = 1, ..., n do Step 3-7.\n",
    "\n",
    "    3. Let k = i, \n",
    "4. While Subscript[a, ii]=0, do Steps 5-7\n",
    "5. Swap row Subscript[A, i] with row Subscript[A, k+1]\n",
    "6. Swap row Subscript[P, i] with row Subscript[P, k+1]\n",
    "7. Increment k by 1.\n",
    "8. For j = i+1, ..., n do Steps 4-5\n",
    "4. Set Subscript[l, ji]= Subscript[u, ji]/Subscript[u, ii]\n",
    "5. Perform Subscript[U, j]=(Subscript[U, j]- Subscript[l, ji] Subscript[U, i])\t\t\t\t\t(where Subscript[U, i], Subscript[U, j] represent the i and j rows of the matrix U, repectivley) "
   ]
  },
  {
   "cell_type": "code",
   "execution_count": 15,
   "metadata": {
    "collapsed": false,
    "jupyter": {
     "outputs_hidden": false
    }
   },
   "outputs": [],
   "source": [
    "def lu(A):\n",
    "    \n",
    "    #Get the number of rows\n",
    "    N = A.shape[0]\n",
    "    \n",
    "    U = A\n",
    "    L = np.eye(N, dtype=np.double)\n",
    "    \n",
    "    #Loop over rows\n",
    "    for i in range(N):\n",
    "            \n",
    "        #Eliminate entries below i with row operations on U and\n",
    "        #reverse the row operations to manipulate L\n",
    "        factor = U[i+1:, i] / U[i, i]\n",
    "        L[i+1:, i] = factor\n",
    "        U[i+1:] -= factor[:, np.newaxis] * U[i]\n",
    "        \n",
    "    return L, U"
   ]
  },
  {
   "cell_type": "markdown",
   "metadata": {},
   "source": [
    "## Psuedocode for solving equations after LU factorization\n",
    "\n",
    "Once we have $L$ and $U$ we can solve for as many right-hand side vectors $\\bar{b}$ as desired very quickly using the following two step process. First we let $\\bar{y}=U\\bar{x}$ and then solve for $L\\bar{y}=\\bar{b}$ for $\\bar{y}$ by using forward substitution. The pseudocode for this is as follows:\n",
    "\n",
    "  1. Set $y_1 = b_1/I_{11}$\n",
    "  1. For $i=2, 3, ..., n$ do Step 3.\n",
    "  1. $y_i = (b_i - \\sum\\nolimits_{j=1}^{i-1} I_{ij}y_j)/I_{ii}$\n"
   ]
  },
  {
   "cell_type": "code",
   "execution_count": 30,
   "metadata": {
    "collapsed": false,
    "jupyter": {
     "outputs_hidden": false
    }
   },
   "outputs": [],
   "source": [
    "def forward_substitution(L, b):\n",
    "    \n",
    "    N = L.shape[0]\n",
    "    \n",
    "    #Allocating space for the solution vector\n",
    "    y = np.zeros_like(b, dtype=np.double);\n",
    "    \n",
    "    #Here we perform the forward-substitution.  Initializing \n",
    "    #with the first row.\n",
    "    y[0] = b[0] / L[0, 0]\n",
    "    \n",
    "    #Looping over rows in reverse (from the bottom up), starting with the second to\n",
    "    #last row, because the last row solve was completed in the last step.\n",
    "    for i in range(1, N):\n",
    "        y[i] = (b[i] - np.dot(L[i,i:], y[i:])) / L[i,i]\n",
    "        \n",
    "    return y"
   ]
  },
  {
   "cell_type": "markdown",
   "metadata": {},
   "source": [
    "Then solve $U\\bar{x} = \\bar{y}$ for $\\bar{x}$ using backward substitution. The psuedocode for this is as follows:\n",
    "\n",
    "  1. Set $x_n = y_n / u_{nn}$\n",
    "  1. For $i = n-1, n-2, ..., 1$ do Step 3.\n",
    "  1. $x_i = (y_i - \\sum\\nolimits_{j=i+1}^{n} u_{ij}x_j)/u_{ii}$\n",
    " "
   ]
  },
  {
   "cell_type": "markdown",
   "metadata": {},
   "source": [
    "For a $\\mathbf{PLU}$ factorization would have the additional step of permutating the right-hand side vector $\\bar{b} = P\\bar{b}$ before doing the forward substitution to solve for $\\bar{y}$."
   ]
  },
  {
   "cell_type": "code",
   "execution_count": 31,
   "metadata": {
    "collapsed": false,
    "jupyter": {
     "outputs_hidden": false
    }
   },
   "outputs": [],
   "source": [
    "def back_substitution(U, y):\n",
    "    \n",
    "    N = U.shape[0]\n",
    "    \n",
    "    #Allocating space for the solution vector\n",
    "    x = np.zeros_like(y, dtype=np.double);\n",
    "\n",
    "    #Here we perform the back-substitution.  Initializing \n",
    "    #with the last row.\n",
    "    x[-1] = y[-1] / U[-1, -1]\n",
    "    \n",
    "    #Looping over rows in reverse (from the bottom up), starting with the second to\n",
    "    #last row, because the last row solve was completed in the last step.\n",
    "    for i in range(N-2, -1, -1):\n",
    "        x[i] = (y[i] - np.dot(U[i,i:], x[i:])) / U[i,i]\n",
    "        \n",
    "    return x"
   ]
  },
  {
   "cell_type": "code",
   "execution_count": 32,
   "metadata": {},
   "outputs": [],
   "source": [
    "def lu_solve(A, b):\n",
    "    \n",
    "    L, U = lu(A)\n",
    "    \n",
    "    y = forward_substitution(L, b)\n",
    "    \n",
    "    return back_substitution(U, y)"
   ]
  },
  {
   "cell_type": "code",
   "execution_count": 34,
   "metadata": {},
   "outputs": [
    {
     "data": {
      "text/plain": [
       "array([ 1.59625668, -0.10895722, -0.03208556])"
      ]
     },
     "execution_count": 34,
     "metadata": {},
     "output_type": "execute_result"
    }
   ],
   "source": [
    "A = np.array([[1, 4, 5], [6, 8, 22], [32, 5., 5]])\n",
    "b = np.array([1, 2, 3.])\n",
    "\n",
    "lu_solve(A, b)"
   ]
  },
  {
   "cell_type": "code",
   "execution_count": 35,
   "metadata": {},
   "outputs": [
    {
     "data": {
      "text/plain": [
       "array([ 1.59625668, -0.10895722, -0.03208556])"
      ]
     },
     "execution_count": 35,
     "metadata": {},
     "output_type": "execute_result"
    }
   ],
   "source": [
    "np.linalg.solve(A, b)"
   ]
  },
  {
   "cell_type": "markdown",
   "metadata": {},
   "source": [
    "## LU factorization, another look.\n",
    "\n",
    "Let's condsier a generic $LU$ factorization, for simplicity we will consider a set of 3 x 3 matrices, but these ideas will apply in the $n$x$n$ case.\n",
    "\n",
    "$$\n",
    "LU = \\begin{pmatrix}I_{11}&0&0\\\\I_{21}&I_{22}&0\\\\I_{31}&I_{32}&I_{33}\\end{pmatrix}\n",
    "\\begin{pmatrix}u_{11}&u_{12}&u_{13}\\\\0&u_{22}&u_{23}\\\\0&0&u_{33}\\end{pmatrix} = \n",
    "\\begin{pmatrix}a_{11}&a_{12}&a_{13}\\\\a_{21}&a_{22}&a_{23}\\\\a_{31}&a_{32}&a_{33}\\end{pmatrix} = A\n",
    "$$\n",
    "\n",
    "If we multiply the two left side matrices together, we have\n",
    "\n",
    "$$\n",
    "\\begin{pmatrix}I_{11}u_{11}&I_{11}u_{12}&I_{11}u_{12}\\\\I_{21}u_{11}&I_{21}u_{12}+I_{22}u_{22}&I_{21}u_{13}+I_{22}u_{23}\\\\I_{31}u_{11}&I_{31}u_{12}+I_{32}u_{22}&I_{31}u_{13}+I_{32}u_{23}+I_{33}u_{33}\\end{pmatrix} = \n",
    "\\begin{pmatrix}a_{11}&a_{12}&a_{13}\\\\a_{21}&a_{22}&a_{23}\\\\a_{31}&a_{32}&a_{33}\\end{pmatrix}\n",
    "$$\n",
    "\n",
    "Now if we take the same approah as earlier where the $I_{ii}$'s are the 1's we can solve the first row of equations trivially, namely:\n",
    "\n",
    "$u_{11} = a_{11}, u_{12} = a_{12}, u_{13} = a_{13},$ then we have enough information to solve the rest of the first column,\n",
    "\n",
    "$I_{21} = a_{21}/a_{11}, I_{31}=a_{31}/a_{11},$ and the rest of the second row,\n",
    "\n",
    "$u_{22} = (a_{22}-a_{21}^{2}/a_{11}), u_{23} = (a_{23}-a_{21}a_{23}/a_{11}),$ etc.\n",
    "\n",
    "When this procedure is generalized it is known as the Doolittle alogrithm. There is a similar procedure known as Crout's method that uses the 1's on the diagonal of the $U$ matrix. The generalization of these methods will be shown in the upcoming pages describing their pseudocode.\n"
   ]
  },
  {
   "cell_type": "markdown",
   "metadata": {},
   "source": [
    "## Pseudocode for Doolittle algorithm. \n",
    "\n",
    "Consider the matrices:\n",
    "\n",
    "$$\n",
    "A = \\begin{pmatrix}a_{11}&a_{12}&...&a_{1n}\\\\a_{21}&\\ddots& &a_{2n}\\\\\\vdots& &\\ddots& \\vdots\\\\a_{n1}&...&...&a_{nn}\\end{pmatrix},\n",
    "L = \\begin{pmatrix}l_{11}&l_{12}&...&l_{1n}\\\\l_{21}&\\ddots& &l_{2n}\\\\\\vdots& &\\ddots& \\vdots\\\\l_{n1}&...&...&l_{nn}\\end{pmatrix},\n",
    "U = \\begin{pmatrix}u_{11}&u_{12}&...&u_{1n}\\\\u_{21}&\\ddots& &u_{2n}\\\\\\vdots& &\\ddots& \\vdots\\\\u_{n1}&...&...&u_{nn}\\end{pmatrix}\n",
    "$$\n",
    "\n",
    "  1. For $k = 1, 2, ..., n$ do Steps 2-6\n",
    "  1. Set $I_{kk}=1$\n",
    "  1. For $j=k, k+1, ..., n$ do Step 4.\n",
    "  1. $u_{kj} = a_{kj} - \\sum\\nolimits_{m=1}^{k-1}I_{km}u_{mj}$\n",
    "  1. For $i=k+1, k+2, ..., n$ do Step 6.\n",
    "  1. $I_{ik}=\\frac{a_{ik}-\\sum\\nolimits_{m=1}^{k-1}I_{im}u_{mk}}{u_{kk}}$"
   ]
  },
  {
   "cell_type": "code",
   "execution_count": null,
   "metadata": {},
   "outputs": [],
   "source": [
    "def doolittle(A):\n",
    "    \n",
    "    N = A.shape[0]\n",
    "    \n",
    "    L = np.zeros((N, N), dtype=np.double)\n",
    "    U = np.zeros((N, N), dtype=np.double)\n",
    "    \n",
    "    for k in range(N):\n",
    "        \n",
    "        L[k, k] = 1."
   ]
  },
  {
   "cell_type": "markdown",
   "metadata": {},
   "source": [
    "## Pseudocode for Crout algorithm.\n",
    "\n",
    "Consider the matrices:\n",
    "\n",
    "$$\n",
    "A = \\begin{pmatrix}a_{11}&a_{12}&...&a_{1n}\\\\a_{21}&\\ddots& &a_{2n}\\\\\\vdots& &\\ddots& \\vdots\\\\a_{n1}&...&...&a_{nn}\\end{pmatrix},\n",
    "L = \\begin{pmatrix}l_{11}&l_{12}&...&l_{1n}\\\\l_{21}&\\ddots& &l_{2n}\\\\\\vdots& &\\ddots& \\vdots\\\\l_{n1}&...&...&l_{nn}\\end{pmatrix},\n",
    "U = \\begin{pmatrix}u_{11}&u_{12}&...&u_{1n}\\\\u_{21}&\\ddots& &u_{2n}\\\\\\vdots& &\\ddots& \\vdots\\\\u_{n1}&...&...&u_{nn}\\end{pmatrix}\n",
    "$$\n",
    "\n",
    "  1. For $k = 1, 2, ..., n$ do Steps 2-6\n",
    "  1. Set $I_{kk} = a_{kk}-\\sum\\nolimits_{m=1}^{k-1}I_{km}u_{mk}$\n",
    "  1. For $j = k, k+1, ..., n$ do Step 4.\n",
    "  1. $u_{kj} = \\frac{a_{kj}-\\sum\\nolimits_{m=1}^{k-1}I_{km}u_{mj}}{I_{kk}}$\n",
    "  1. For $i = k+1, k+2, ..., n$ do Step 6.\n",
    "  1. $I_{ik} = \\frac{a_{ik}-\\sum\\nolimits_{m=1}^{k-1}I_{im}u_{mk}}{u_{kk}}$"
   ]
  },
  {
   "cell_type": "code",
   "execution_count": null,
   "metadata": {},
   "outputs": [],
   "source": [
    "def crout(A, b):\n",
    "    \n",
    "    N = A.shape[0]\n",
    "    \n",
    "    L, U = lu(A)\n",
    "    \n",
    "    for k in range(N):\n",
    "        \n",
    "        L[k, k] = A[k, k] - "
   ]
  },
  {
   "cell_type": "markdown",
   "metadata": {},
   "source": [
    "## Pseudocode for Cholesky decomposition.\n",
    "\n",
    "If matrix $A$ is symmetric and positive definite, then there exists a lower triangular matrix $L$ such that $A=LL^T$. This is just a special case of the $LU$ decomposition, $U=L^T$. The algorithm is slightly simpler than the Doolittle or Crout methods.\n",
    "\n",
    "Consider the matrices:\n",
    "\n",
    "$$\n",
    "A = \\begin{pmatrix}a_{11}&a_{12}&...&a_{1n}\\\\a_{21}&\\ddots& &a_{2n}\\\\\\vdots& &\\ddots& \\vdots\\\\a_{n1}&...&...&a_{nn}\\end{pmatrix},\n",
    "L = \\begin{pmatrix}l_{11}&l_{12}&...&l_{1n}\\\\l_{21}&\\ddots& &l_{2n}\\\\\\vdots& &\\ddots& \\vdots\\\\l_{n1}&...&...&l_{nn}\\end{pmatrix},\n",
    "$$\n",
    "\n",
    "  1. For $k=1,2,...,n$ do Steps 2-4\n",
    "  1. Set $I_{kk} = \\sqrt{a_{kk}-\\sum\\nolimits_{m=1}^{k-1}I_{km}^2}$\n",
    "  1. For $i=k+1,k+2,...,n$ do Step 4.\n",
    "  1. $I_{ik}=\\frac{a_{ik}-\\sum\\nolimits_{m=1}^{k-1}I_{im}I_{km}}{I_{kk}}$"
   ]
  },
  {
   "cell_type": "markdown",
   "metadata": {},
   "source": [
    "##Solving for the inverse of $A$ once the $LU$ decomposition is known.\n",
    "\n",
    "Once the $LU$ decomposition of $A$ is complete it is straightforward to find the inverse of $A$, using the same forward and backward substituion process we used when solving for an arbitrary right hand side vector $\\bar{b}$. Except we will do the procedure $n$ times, where $n$ is the number of columns of $A$ and $\\bar{b} = [\\bar{b_1};\\bar{b_2};...;\\bar{b_n}] = I$ are the columns of the Identity matrix. Stated differently, we will use the columns of the identity matrix as individual right-hand side vectors, $\\bar{b}$, in order to solve for the inverse column-by-column.\n",
    "\n",
    "The pseudocode is as follows:\n",
    "\n",
    "  1. Set $\\bar{b} = I$ with dimension $n$x$n$\n",
    "  1. For $k = 1, 2, ..., n$ do Steps 3-9\n",
    "  1. Set $y_{1k}=\\frac{b_{1k}}{I_{11}}$\n",
    "  1. For $i = 2, 3, ..., n$ do Step 5.\n",
    "  1. $y_{ik} = \\frac{b_{ik}-\\sum\\nolimits_{j=1}^{i-1}I_{ij}y_{jk}}{I_{ii}}$\n",
    "  1. Set $x_{nk} = \\frac{y_{nk}}{u_{nn}}$\n",
    "  1. For $i = n-1, n-2, ..., 1$ do Step 8.\n",
    "  1. $x_{ik}= \\frac{y_{ik}-\\sum\\nolimits_{j=i+1}^{n}u_{ij}x_{jk}}{u_{ii}}$"
   ]
  },
  {
   "cell_type": "markdown",
   "metadata": {},
   "source": [
    "##Determinant of a Matrix.\n",
    "\n",
    "You might reall from linear algebra that there are several ways of computing the determinant of a matrix (e.g. Leibniz formula, Laplace formula, Cramer's rule, etc.), however, none of these are computationally as efficient as using the $LU$ decomposition and a few properties of determinants to solve for the determinate of a matrix $A$. Recall,\n",
    "\n",
    "&nbsp;&nbsp;&nbsp;&nbsp;&nbsp;&nbsp;For $A = LU, \\rightarrow det(A) = det(L)det(U)$\n",
    "\n",
    "also for an upper (or lower) triangular matrix. The determinate of the matrix is simply the product of the diagonal entries. Therefore, if we solve for $L$ and $U$ using the Doolittle method, where there are 1's on the diagonal of the $L$ matrix, then the determinate of $L$ is 1. Thus,\n",
    "\n",
    "&nbsp;&nbsp;&nbsp;&nbsp;&nbsp;&nbsp;$det(A) = 1*det(U) = \\prod_{j=1}^{n}u_{jj}$\n",
    "\n",
    "Similarly, for a $PLU$ decomposition,\n",
    "\n",
    "&nbsp;&nbsp;&nbsp;&nbsp;&nbsp;&nbsp;$det(A) = det(P)det(L)det(U) = det(P)*\\prod_{j=1}^{n}u_{jj}$\n",
    "\n",
    "but, $P$ is just a permutation of the Identity matrix. Let's observe what happens when we do five semi-random row permutations of the identity matrix and calculate the determinate of $P$ each time."
   ]
  },
  {
   "cell_type": "code",
   "execution_count": 7,
   "metadata": {
    "collapsed": false,
    "jupyter": {
     "outputs_hidden": false
    }
   },
   "outputs": [
    {
     "name": "stdout",
     "output_type": "stream",
     "text": [
      "[[ 1.  0.  0.]\n",
      " [ 0.  1.  0.]\n",
      " [ 0.  0.  1.]]\n"
     ]
    }
   ],
   "source": [
    "import numpy as np\n",
    "from numpy import matrix\n",
    "n = 3\n",
    "P = np.matrix(np.identity(n))\n",
    "print P\n"
   ]
  },
  {
   "cell_type": "markdown",
   "metadata": {},
   "source": [
    "Therefore all we need to do is keep track of the number of row permutations and the $det(P)$ will have the following properties:\n",
    "\n",
    "$det(P) = \\{ _{ 1\\,for\\,even\\,number\\,of\\,permutations}^{-1\\,for\\,odd\\,number\\,of\\,permutations}$"
   ]
  }
 ],
 "metadata": {
  "jupytext": {
   "formats": "ipynb,md"
  },
  "kernelspec": {
   "display_name": "Python 3",
   "language": "python",
   "name": "python3"
  },
  "language_info": {
   "codemirror_mode": {
    "name": "ipython",
    "version": 3
   },
   "file_extension": ".py",
   "mimetype": "text/x-python",
   "name": "python",
   "nbconvert_exporter": "python",
   "pygments_lexer": "ipython3",
   "version": "3.8.1"
  }
 },
 "nbformat": 4,
 "nbformat_minor": 4
}
